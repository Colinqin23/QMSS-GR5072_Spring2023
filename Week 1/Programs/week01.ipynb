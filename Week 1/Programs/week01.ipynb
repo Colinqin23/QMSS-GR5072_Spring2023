{
 "cells": [
  {
   "cell_type": "markdown",
   "id": "80f39e54",
   "metadata": {},
   "source": [
    "# Week 1: Intro to Python"
   ]
  },
  {
   "cell_type": "markdown",
   "id": "f9bd1d64",
   "metadata": {},
   "source": [
    "### Table of contents\n",
    "* [Python as a calculator](#bullet1)\n",
    "* [Boolean data types](#bullet2)\n",
    "* [String data types](#bullet3)\n",
    "* [Numeric data types](#bullet4)\n",
    "* [Storing values in variables](#bullet5)\n",
    "* [Commenting your code!](#bullet6)\n",
    "* [List objects](#bullet7)\n",
    "* [Tuple objects](#bullet8)\n",
    "* [Dictionaries](#bullet9)\n",
    "* [Built in Functions](#bullet10)\n",
    "* [Methods](#bullet11)\n",
    "* [Installing other Python packages](#bullet12)"
   ]
  },
  {
   "cell_type": "markdown",
   "id": "070f791c",
   "metadata": {},
   "source": [
    "## 1. Python as a calculator <a class=\"anchor\" id=\"bullet1\"></a>"
   ]
  },
  {
   "cell_type": "code",
   "execution_count": 1,
   "id": "b18c5ff7",
   "metadata": {},
   "outputs": [
    {
     "data": {
      "text/plain": [
       "2"
      ]
     },
     "execution_count": 1,
     "metadata": {},
     "output_type": "execute_result"
    }
   ],
   "source": [
    "1+1"
   ]
  },
  {
   "cell_type": "code",
   "execution_count": 2,
   "id": "6910fa8b",
   "metadata": {},
   "outputs": [
    {
     "data": {
      "text/plain": [
       "7"
      ]
     },
     "execution_count": 2,
     "metadata": {},
     "output_type": "execute_result"
    }
   ],
   "source": [
    "1+2*3"
   ]
  },
  {
   "cell_type": "code",
   "execution_count": 3,
   "id": "ef6a8c3c",
   "metadata": {},
   "outputs": [
    {
     "data": {
      "text/plain": [
       "9"
      ]
     },
     "execution_count": 3,
     "metadata": {},
     "output_type": "execute_result"
    }
   ],
   "source": [
    "(1+2)*3"
   ]
  },
  {
   "cell_type": "markdown",
   "id": "77f5898c",
   "metadata": {},
   "source": [
    "##### + is called an operator. Like all programing langugages, Python includes many types of operators. + - * / **"
   ]
  },
  {
   "cell_type": "markdown",
   "id": "9cd28c32",
   "metadata": {},
   "source": [
    "## 2. Boolean data types (True / False) <a class=\"anchor\" id=\"bullet2\"></a>"
   ]
  },
  {
   "cell_type": "code",
   "execution_count": 4,
   "id": "f93db4b0",
   "metadata": {},
   "outputs": [
    {
     "data": {
      "text/plain": [
       "True"
      ]
     },
     "execution_count": 4,
     "metadata": {},
     "output_type": "execute_result"
    }
   ],
   "source": [
    "2 * 2 == 4"
   ]
  },
  {
   "cell_type": "code",
   "execution_count": 5,
   "id": "933023c1",
   "metadata": {},
   "outputs": [
    {
     "data": {
      "text/plain": [
       "True"
      ]
     },
     "execution_count": 5,
     "metadata": {},
     "output_type": "execute_result"
    }
   ],
   "source": [
    "(3 ** 3) == 27  # Note the ** operator is an exponent operator! This is 3^3"
   ]
  },
  {
   "cell_type": "code",
   "execution_count": 6,
   "id": "3489a60f",
   "metadata": {},
   "outputs": [
    {
     "data": {
      "text/plain": [
       "9"
      ]
     },
     "execution_count": 6,
     "metadata": {},
     "output_type": "execute_result"
    }
   ],
   "source": [
    "(3 ** 2)"
   ]
  },
  {
   "cell_type": "code",
   "execution_count": 7,
   "id": "95041172",
   "metadata": {},
   "outputs": [
    {
     "data": {
      "text/plain": [
       "bool"
      ]
     },
     "execution_count": 7,
     "metadata": {},
     "output_type": "execute_result"
    }
   ],
   "source": [
    "type(False)"
   ]
  },
  {
   "cell_type": "markdown",
   "id": "ce07f30b",
   "metadata": {},
   "source": [
    "## 3. String data types <a class=\"anchor\" id=\"bullet3\"></a>"
   ]
  },
  {
   "cell_type": "code",
   "execution_count": 8,
   "id": "4a3a9bfa",
   "metadata": {},
   "outputs": [
    {
     "data": {
      "text/plain": [
       "'string'"
      ]
     },
     "execution_count": 8,
     "metadata": {},
     "output_type": "execute_result"
    }
   ],
   "source": [
    "\"string\""
   ]
  },
  {
   "cell_type": "code",
   "execution_count": 9,
   "id": "51901b71",
   "metadata": {},
   "outputs": [
    {
     "data": {
      "text/plain": [
       "str"
      ]
     },
     "execution_count": 9,
     "metadata": {},
     "output_type": "execute_result"
    }
   ],
   "source": [
    "type(\"string\")"
   ]
  },
  {
   "cell_type": "markdown",
   "id": "010ea6aa",
   "metadata": {},
   "source": [
    "## 4. Numeric data types <a class=\"anchor\" id=\"bullet4\"></a>"
   ]
  },
  {
   "cell_type": "markdown",
   "id": "a17f0e3c",
   "metadata": {},
   "source": [
    "For numeric data, Python has a \"int\" and \"float\" (ie decimal) data type"
   ]
  },
  {
   "cell_type": "code",
   "execution_count": 10,
   "id": "1be79d98",
   "metadata": {},
   "outputs": [
    {
     "data": {
      "text/plain": [
       "10"
      ]
     },
     "execution_count": 10,
     "metadata": {},
     "output_type": "execute_result"
    }
   ],
   "source": [
    "5 + 5"
   ]
  },
  {
   "cell_type": "code",
   "execution_count": 11,
   "id": "fde9451c",
   "metadata": {},
   "outputs": [
    {
     "data": {
      "text/plain": [
       "int"
      ]
     },
     "execution_count": 11,
     "metadata": {},
     "output_type": "execute_result"
    }
   ],
   "source": [
    "type(5 + 5)"
   ]
  },
  {
   "cell_type": "code",
   "execution_count": 12,
   "id": "27a24812",
   "metadata": {},
   "outputs": [
    {
     "data": {
      "text/plain": [
       "float"
      ]
     },
     "execution_count": 12,
     "metadata": {},
     "output_type": "execute_result"
    }
   ],
   "source": [
    "type(3.24)"
   ]
  },
  {
   "cell_type": "code",
   "execution_count": 13,
   "id": "366ae779",
   "metadata": {},
   "outputs": [
    {
     "name": "stdout",
     "output_type": "stream",
     "text": [
      "7.875\n"
     ]
    }
   ],
   "source": [
    "print(63/8)"
   ]
  },
  {
   "cell_type": "markdown",
   "id": "a33a0e43",
   "metadata": {},
   "source": [
    "## 5. Storing values in variables <a class=\"anchor\" id=\"bullet5\"></a>"
   ]
  },
  {
   "cell_type": "markdown",
   "id": "b862d1ba",
   "metadata": {},
   "source": [
    "* A variable is a name for a value. \n",
    "* We can create a new variable by assigning a value to it with `=`, which is what we call the assignment operator in Python. \n",
    "* Once you create a variable, it's value is said to be \"initialized\" into your environment\n",
    "* You cannot use a space within a variable name, use to `_` in place of spaces\n",
    "* Variable names cannot start with a number, nor can they contain a `.`"
   ]
  },
  {
   "cell_type": "code",
   "execution_count": 14,
   "id": "01c48aaf",
   "metadata": {},
   "outputs": [
    {
     "data": {
      "text/plain": [
       "5"
      ]
     },
     "execution_count": 14,
     "metadata": {},
     "output_type": "execute_result"
    }
   ],
   "source": [
    "width = 5\n",
    "width"
   ]
  },
  {
   "cell_type": "code",
   "execution_count": 15,
   "id": "41b76b47",
   "metadata": {},
   "outputs": [
    {
     "data": {
      "text/plain": [
       "25"
      ]
     },
     "execution_count": 15,
     "metadata": {},
     "output_type": "execute_result"
    }
   ],
   "source": [
    "width * width # We can do arithmetic with variables"
   ]
  },
  {
   "cell_type": "code",
   "execution_count": 16,
   "id": "812f9dbe",
   "metadata": {},
   "outputs": [
    {
     "data": {
      "text/plain": [
       "25"
      ]
     },
     "execution_count": 16,
     "metadata": {},
     "output_type": "execute_result"
    }
   ],
   "source": [
    "area = width * width  # We can store the results of arithmetic in another variable\n",
    "area"
   ]
  },
  {
   "cell_type": "code",
   "execution_count": 17,
   "id": "cd747eab",
   "metadata": {},
   "outputs": [
    {
     "data": {
      "text/plain": [
       "10"
      ]
     },
     "execution_count": 17,
     "metadata": {},
     "output_type": "execute_result"
    }
   ],
   "source": [
    "width = 10   # We can change a variables value by reassigning a value to it\n",
    "width"
   ]
  },
  {
   "cell_type": "code",
   "execution_count": 18,
   "id": "a2bee868",
   "metadata": {},
   "outputs": [
    {
     "data": {
      "text/plain": [
       "25"
      ]
     },
     "execution_count": 18,
     "metadata": {},
     "output_type": "execute_result"
    }
   ],
   "source": [
    "area  # The value of area hasn't been updated, and won't be until we reassign the area variable"
   ]
  },
  {
   "cell_type": "code",
   "execution_count": 19,
   "id": "08cf81cb",
   "metadata": {},
   "outputs": [],
   "source": [
    "pre_test_score = 96"
   ]
  },
  {
   "cell_type": "code",
   "execution_count": 20,
   "id": "da877d6a",
   "metadata": {},
   "outputs": [
    {
     "name": "stdout",
     "output_type": "stream",
     "text": [
      "96\n"
     ]
    }
   ],
   "source": [
    "print(pre_test_score)"
   ]
  },
  {
   "cell_type": "code",
   "execution_count": 21,
   "id": "8beded4c",
   "metadata": {},
   "outputs": [
    {
     "ename": "SyntaxError",
     "evalue": "invalid syntax (3937181391.py, line 1)",
     "output_type": "error",
     "traceback": [
      "\u001b[1;36m  File \u001b[1;32m\"C:\\Users\\nicka\\AppData\\Local\\Temp\\ipykernel_1896\\3937181391.py\"\u001b[1;36m, line \u001b[1;32m1\u001b[0m\n\u001b[1;33m    4test = 4\u001b[0m\n\u001b[1;37m     ^\u001b[0m\n\u001b[1;31mSyntaxError\u001b[0m\u001b[1;31m:\u001b[0m invalid syntax\n"
     ]
    }
   ],
   "source": [
    "4test = 4"
   ]
  },
  {
   "cell_type": "code",
   "execution_count": 22,
   "id": "82b42ef7",
   "metadata": {},
   "outputs": [],
   "source": [
    "test4 = 5"
   ]
  },
  {
   "cell_type": "code",
   "execution_count": 23,
   "id": "2f43471f",
   "metadata": {},
   "outputs": [
    {
     "ename": "NameError",
     "evalue": "name 'pre' is not defined",
     "output_type": "error",
     "traceback": [
      "\u001b[1;31m---------------------------------------------------------------------------\u001b[0m",
      "\u001b[1;31mNameError\u001b[0m                                 Traceback (most recent call last)",
      "\u001b[1;32m~\\AppData\\Local\\Temp\\ipykernel_1896\\2702413970.py\u001b[0m in \u001b[0;36m<module>\u001b[1;34m\u001b[0m\n\u001b[1;32m----> 1\u001b[1;33m \u001b[0mpre\u001b[0m\u001b[1;33m.\u001b[0m\u001b[0mtest\u001b[0m\u001b[1;33m.\u001b[0m\u001b[0mscore\u001b[0m \u001b[1;33m=\u001b[0m \u001b[1;36m10\u001b[0m\u001b[1;33m\u001b[0m\u001b[1;33m\u001b[0m\u001b[0m\n\u001b[0m",
      "\u001b[1;31mNameError\u001b[0m: name 'pre' is not defined"
     ]
    }
   ],
   "source": [
    "pre.test.score = 10"
   ]
  },
  {
   "cell_type": "code",
   "execution_count": 24,
   "id": "2f608ee5",
   "metadata": {},
   "outputs": [
    {
     "data": {
      "text/plain": [
       "87"
      ]
     },
     "execution_count": 24,
     "metadata": {},
     "output_type": "execute_result"
    }
   ],
   "source": [
    "# Challenge: Rewrite this code in a single line\n",
    "a = 4*20\n",
    "b = 7\n",
    "a+b"
   ]
  },
  {
   "cell_type": "code",
   "execution_count": 25,
   "id": "b7fdef8a",
   "metadata": {},
   "outputs": [
    {
     "data": {
      "text/plain": [
       "12"
      ]
     },
     "execution_count": 25,
     "metadata": {},
     "output_type": "execute_result"
    }
   ],
   "source": [
    "# Challenge: Rewrite this code in several lines\n",
    "2*2+2*2+2*2"
   ]
  },
  {
   "cell_type": "markdown",
   "id": "17e425dc",
   "metadata": {},
   "source": [
    "## 6. Commenting your code! <a class=\"anchor\" id=\"bullet6\"></a>"
   ]
  },
  {
   "cell_type": "markdown",
   "id": "46a89660",
   "metadata": {},
   "source": [
    "##### the `#` is used to add comments, which will ignore all code on a line following the `#`"
   ]
  },
  {
   "cell_type": "code",
   "execution_count": 26,
   "id": "8ef12565",
   "metadata": {},
   "outputs": [],
   "source": [
    "## This code computes updates the area\n",
    "area = width * width"
   ]
  },
  {
   "cell_type": "markdown",
   "id": "af448576",
   "metadata": {},
   "source": [
    "###### You can also use triple single or double quotes to add comments"
   ]
  },
  {
   "cell_type": "code",
   "execution_count": 27,
   "id": "5ba49b0d",
   "metadata": {},
   "outputs": [
    {
     "data": {
      "text/plain": [
       "11"
      ]
     },
     "execution_count": 27,
     "metadata": {},
     "output_type": "execute_result"
    }
   ],
   "source": [
    "\"\"\" This will be ignore  \"\"\" \n",
    "''' So will this '''\n",
    "5 + 6"
   ]
  },
  {
   "cell_type": "markdown",
   "id": "e0868082",
   "metadata": {},
   "source": [
    " ###### When applying to jobs, you should clearly comment your code and describe what you are doing! This makes it easier for those who are \"grading\" your work, and saves them time. This increases your chances of \"passing\""
   ]
  },
  {
   "cell_type": "markdown",
   "id": "1ced990a",
   "metadata": {},
   "source": [
    "## 7. List objects <a class=\"anchor\" id=\"bullet7\"></a>"
   ]
  },
  {
   "cell_type": "markdown",
   "id": "f34bfb50",
   "metadata": {},
   "source": [
    "* list are a special data type in python which can hold multiple \"elements\", similar to vectors in R\n",
    "* Unlike the vector from R, list elements can be of different data types themsevles - they can even be another list\n",
    "* Indexing, or slicing, a list refers to extracting a particular set of its elements"
   ]
  },
  {
   "cell_type": "code",
   "execution_count": 28,
   "id": "cd40cd05",
   "metadata": {},
   "outputs": [
    {
     "data": {
      "text/plain": [
       "[]"
      ]
     },
     "execution_count": 28,
     "metadata": {},
     "output_type": "execute_result"
    }
   ],
   "source": [
    "# intialize an empty list\n",
    "lst = []\n",
    "lst"
   ]
  },
  {
   "cell_type": "code",
   "execution_count": 29,
   "id": "68088a4a",
   "metadata": {},
   "outputs": [
    {
     "data": {
      "text/plain": [
       "[2, 4, 6, 8, 10]"
      ]
     },
     "execution_count": 29,
     "metadata": {},
     "output_type": "execute_result"
    }
   ],
   "source": [
    "# intialize an unempty list\n",
    "lst = [2, 4, 6, 8, 10]\n",
    "lst"
   ]
  },
  {
   "cell_type": "code",
   "execution_count": 30,
   "id": "4bf5ef41",
   "metadata": {},
   "outputs": [
    {
     "data": {
      "text/plain": [
       "list"
      ]
     },
     "execution_count": 30,
     "metadata": {},
     "output_type": "execute_result"
    }
   ],
   "source": [
    "type(lst)"
   ]
  },
  {
   "cell_type": "code",
   "execution_count": 31,
   "id": "577d5136",
   "metadata": {
    "scrolled": true
   },
   "outputs": [
    {
     "data": {
      "text/plain": [
       "5"
      ]
     },
     "execution_count": 31,
     "metadata": {},
     "output_type": "execute_result"
    }
   ],
   "source": [
    "# length of list\n",
    "len(lst)"
   ]
  },
  {
   "cell_type": "code",
   "execution_count": 32,
   "id": "3e5b65bb",
   "metadata": {},
   "outputs": [
    {
     "data": {
      "text/plain": [
       "[3, 5, 7, 9, 11]"
      ]
     },
     "execution_count": 32,
     "metadata": {},
     "output_type": "execute_result"
    }
   ],
   "source": [
    "# arithmetic \n",
    "[i+1 for i in lst] # This syntax is called a \"list comprehension\", which we will learn about later in the course"
   ]
  },
  {
   "cell_type": "code",
   "execution_count": 33,
   "id": "7b30911b",
   "metadata": {},
   "outputs": [
    {
     "data": {
      "text/plain": [
       "[4, 8, 12, 16, 20]"
      ]
     },
     "execution_count": 33,
     "metadata": {},
     "output_type": "execute_result"
    }
   ],
   "source": [
    "[i+i for i in lst]"
   ]
  },
  {
   "cell_type": "code",
   "execution_count": 34,
   "id": "8e4c0cf1",
   "metadata": {},
   "outputs": [
    {
     "data": {
      "text/plain": [
       "[2, 4, 6, 8, 10, 60]"
      ]
     },
     "execution_count": 34,
     "metadata": {},
     "output_type": "execute_result"
    }
   ],
   "source": [
    "# Add the interger 60 to the list\n",
    "lst + [60] "
   ]
  },
  {
   "cell_type": "code",
   "execution_count": 35,
   "id": "a81f25cd",
   "metadata": {},
   "outputs": [
    {
     "data": {
      "text/plain": [
       "[2, 4, 6, 8, 10, 2, 4, 6, 8, 10]"
      ]
     },
     "execution_count": 35,
     "metadata": {},
     "output_type": "execute_result"
    }
   ],
   "source": [
    "# Challenge: What do you think this will do?\n",
    "lst + lst "
   ]
  },
  {
   "cell_type": "code",
   "execution_count": 36,
   "id": "61cf6b9b",
   "metadata": {},
   "outputs": [
    {
     "ename": "SyntaxError",
     "evalue": "invalid syntax (3900246329.py, line 3)",
     "output_type": "error",
     "traceback": [
      "\u001b[1;36m  File \u001b[1;32m\"C:\\Users\\nicka\\AppData\\Local\\Temp\\ipykernel_1896\\3900246329.py\"\u001b[1;36m, line \u001b[1;32m3\u001b[0m\n\u001b[1;33m    1st + 1\u001b[0m\n\u001b[1;37m     ^\u001b[0m\n\u001b[1;31mSyntaxError\u001b[0m\u001b[1;31m:\u001b[0m invalid syntax\n"
     ]
    }
   ],
   "source": [
    "# returns an error, because when Python sees the \"+\" following a list object, \n",
    "# it is looking to concatanate or add another list data type\n",
    "1st + 1 "
   ]
  },
  {
   "cell_type": "code",
   "execution_count": 37,
   "id": "eaa08b18",
   "metadata": {},
   "outputs": [
    {
     "data": {
      "text/plain": [
       "[2, 4, 6, 8, 10, 60]"
      ]
     },
     "execution_count": 37,
     "metadata": {},
     "output_type": "execute_result"
    }
   ],
   "source": [
    "lst.append(60) # another valid way to add an element\n",
    "lst"
   ]
  },
  {
   "cell_type": "code",
   "execution_count": 38,
   "id": "037ee90c",
   "metadata": {},
   "outputs": [
    {
     "data": {
      "text/plain": [
       "['hello', 'world']"
      ]
     },
     "execution_count": 38,
     "metadata": {},
     "output_type": "execute_result"
    }
   ],
   "source": [
    "lst = ['hello', 'world'] # list of strings\n",
    "lst"
   ]
  },
  {
   "cell_type": "code",
   "execution_count": 39,
   "id": "c1fc00c4",
   "metadata": {},
   "outputs": [
    {
     "data": {
      "text/plain": [
       "[True, False]"
      ]
     },
     "execution_count": 39,
     "metadata": {},
     "output_type": "execute_result"
    }
   ],
   "source": [
    "lst = [True, False] # boolean list\n",
    "lst"
   ]
  },
  {
   "cell_type": "code",
   "execution_count": 40,
   "id": "7a9e7ab1",
   "metadata": {},
   "outputs": [
    {
     "name": "stdout",
     "output_type": "stream",
     "text": [
      "[2, 54, 5, 'hello', 'world', True, False, 23]\n"
     ]
    }
   ],
   "source": [
    "# Mixing types: lists can also store multiple data types - but be careful when doing this! \n",
    "lst = [2, 54, 5, \"hello\", \"world\", True, False, 23]\n",
    "print(lst)"
   ]
  },
  {
   "cell_type": "code",
   "execution_count": 41,
   "id": "3bb80d08",
   "metadata": {},
   "outputs": [
    {
     "data": {
      "text/plain": [
       "2"
      ]
     },
     "execution_count": 41,
     "metadata": {},
     "output_type": "execute_result"
    }
   ],
   "source": [
    "# indexing or slicing a list. Python starts indexing at 0, not 1! This is different from R\n",
    "lst = [2, 4, 6, 8, 10]\n",
    "lst[0] # To slice the first element, use an index value of 0"
   ]
  },
  {
   "cell_type": "code",
   "execution_count": 42,
   "id": "bb109d22",
   "metadata": {},
   "outputs": [
    {
     "data": {
      "text/plain": [
       "8"
      ]
     },
     "execution_count": 42,
     "metadata": {},
     "output_type": "execute_result"
    }
   ],
   "source": [
    "lst[3] # this slices the fourth element in the list object"
   ]
  },
  {
   "cell_type": "code",
   "execution_count": 43,
   "id": "9b13d29f",
   "metadata": {},
   "outputs": [
    {
     "data": {
      "text/plain": [
       "[2, 4, 6]"
      ]
     },
     "execution_count": 43,
     "metadata": {},
     "output_type": "execute_result"
    }
   ],
   "source": [
    "# Slice multiple values using \":\". Note: In the code below, we will extract elements 1, 2 and 3. Not element 4!\n",
    "# While we start with the first element 0, the element in position 3 is not included in the slice\n",
    "lst[0:3]"
   ]
  },
  {
   "cell_type": "code",
   "execution_count": 44,
   "id": "36f1e6de",
   "metadata": {},
   "outputs": [
    {
     "data": {
      "text/plain": [
       "[2, 4, 5, 8, 10]"
      ]
     },
     "execution_count": 44,
     "metadata": {},
     "output_type": "execute_result"
    }
   ],
   "source": [
    "# We can update values by assigning new values to a particular set of elements\n",
    "lst[2] = 5  # update the third element to be a 5\n",
    "lst"
   ]
  },
  {
   "cell_type": "code",
   "execution_count": 45,
   "id": "795bb999",
   "metadata": {},
   "outputs": [
    {
     "data": {
      "text/plain": [
       "10"
      ]
     },
     "execution_count": 45,
     "metadata": {},
     "output_type": "execute_result"
    }
   ],
   "source": [
    "# We can also use indexing with a \"-\" sign, which starts from the end rather than the beginning of the list\n",
    "lst[-1]  # note that -1 is the first element when using this reverse indexing method. "
   ]
  },
  {
   "cell_type": "code",
   "execution_count": 46,
   "id": "227f5f6e",
   "metadata": {},
   "outputs": [
    {
     "data": {
      "text/plain": [
       "2"
      ]
     },
     "execution_count": 46,
     "metadata": {},
     "output_type": "execute_result"
    }
   ],
   "source": [
    "lst[-0] # \"-0\" defaults to the first element that starts a list"
   ]
  },
  {
   "cell_type": "code",
   "execution_count": 47,
   "id": "390da905",
   "metadata": {},
   "outputs": [
    {
     "data": {
      "text/plain": [
       "[2, 2, 3, 4, 10]"
      ]
     },
     "execution_count": 47,
     "metadata": {},
     "output_type": "execute_result"
    }
   ],
   "source": [
    "# We can assign multiple values at once\n",
    "lst[1:4] = [2, 3, 4]\n",
    "lst"
   ]
  },
  {
   "cell_type": "code",
   "execution_count": 48,
   "id": "218a0ff4",
   "metadata": {},
   "outputs": [
    {
     "data": {
      "text/plain": [
       "[60, 2, 4, 6, 8, 10]"
      ]
     },
     "execution_count": 48,
     "metadata": {},
     "output_type": "execute_result"
    }
   ],
   "source": [
    "# Below, we use a method called \".insert\" to insert the element 60 at the 0 index position\n",
    "lst = [2, 4, 6, 8, 10]\n",
    "lst.insert(0, 60)\n",
    "lst"
   ]
  },
  {
   "cell_type": "code",
   "execution_count": 49,
   "id": "c6da19b0",
   "metadata": {},
   "outputs": [
    {
     "data": {
      "text/plain": [
       "[60, 2, 4]"
      ]
     },
     "execution_count": 49,
     "metadata": {},
     "output_type": "execute_result"
    }
   ],
   "source": [
    "# Experimenting with the \":\" while sliceing\n",
    "lst[:3]  # Grab everything from 0 until index spot 2"
   ]
  },
  {
   "cell_type": "code",
   "execution_count": 50,
   "id": "f4df57b0",
   "metadata": {},
   "outputs": [
    {
     "data": {
      "text/plain": [
       "[60, 2, 4, 6, 8]"
      ]
     },
     "execution_count": 50,
     "metadata": {},
     "output_type": "execute_result"
    }
   ],
   "source": [
    "lst[:5]"
   ]
  },
  {
   "cell_type": "code",
   "execution_count": 51,
   "id": "8bbec764",
   "metadata": {},
   "outputs": [
    {
     "data": {
      "text/plain": [
       "[60, 2, 4, 6, 8, 10]"
      ]
     },
     "execution_count": 51,
     "metadata": {},
     "output_type": "execute_result"
    }
   ],
   "source": [
    "lst[:] # Grabe entire list"
   ]
  },
  {
   "cell_type": "code",
   "execution_count": 52,
   "id": "50f39647",
   "metadata": {},
   "outputs": [
    {
     "data": {
      "text/plain": [
       "[4, 6, 8, 10]"
      ]
     },
     "execution_count": 52,
     "metadata": {},
     "output_type": "execute_result"
    }
   ],
   "source": [
    "lst[2:] # go to element at index 2, and grab everything until to the end of the list"
   ]
  },
  {
   "cell_type": "code",
   "execution_count": 53,
   "id": "a712e3e5",
   "metadata": {},
   "outputs": [
    {
     "data": {
      "text/plain": [
       "[60, 2, 4]"
      ]
     },
     "execution_count": 53,
     "metadata": {},
     "output_type": "execute_result"
    }
   ],
   "source": [
    "lst[:3] # Slice everything up to, but not including, element 3"
   ]
  },
  {
   "cell_type": "code",
   "execution_count": 54,
   "id": "c0d74b37",
   "metadata": {},
   "outputs": [
    {
     "data": {
      "text/plain": [
       "[6, 8]"
      ]
     },
     "execution_count": 54,
     "metadata": {},
     "output_type": "execute_result"
    }
   ],
   "source": [
    "lst[-3:-1] # use negative indeces to slice from the end of the list"
   ]
  },
  {
   "cell_type": "code",
   "execution_count": 55,
   "id": "561c682d",
   "metadata": {},
   "outputs": [
    {
     "data": {
      "text/plain": [
       "[60, 4, 8]"
      ]
     },
     "execution_count": 55,
     "metadata": {},
     "output_type": "execute_result"
    }
   ],
   "source": [
    "# A step can also be used after a second colon to, say, take every other element:\n",
    "lst[::2] # Starting from the first element, take every other element - takes evens"
   ]
  },
  {
   "cell_type": "code",
   "execution_count": 56,
   "id": "cd88e2ae",
   "metadata": {},
   "outputs": [
    {
     "data": {
      "text/plain": [
       "[2, 6, 10]"
      ]
     },
     "execution_count": 56,
     "metadata": {},
     "output_type": "execute_result"
    }
   ],
   "source": [
    "lst[1::2] # Starting from the second element, take every other element - takes odds"
   ]
  },
  {
   "cell_type": "code",
   "execution_count": 57,
   "id": "f4890b80",
   "metadata": {},
   "outputs": [
    {
     "data": {
      "text/plain": [
       "range(0, 10)"
      ]
     },
     "execution_count": 57,
     "metadata": {},
     "output_type": "execute_result"
    }
   ],
   "source": [
    "# You can also create sequences with the range function\n",
    "lst99 = range(0,10)  # This is called a \"generator expression\", also called \"lazy evaluation\"\n",
    "lst99"
   ]
  },
  {
   "cell_type": "markdown",
   "id": "81e488e0",
   "metadata": {},
   "source": [
    "A generator expression is a special kind of function that returns a \"lazy iterator\". Certain python objects will be able to loop through such expressions (ie a for loop like we will later study), however the generator expression is not executed and committed to your PC's memory. It's basically a programing hack to save computer resources. In the example above, we can make make a list object by wrapping the generator expression in the list() function, which is alternative syntax for creating a list object"
   ]
  },
  {
   "cell_type": "code",
   "execution_count": 58,
   "id": "73d5ea8f",
   "metadata": {},
   "outputs": [
    {
     "data": {
      "text/plain": [
       "[0, 1, 2, 3, 4, 5, 6, 7, 8, 9]"
      ]
     },
     "execution_count": 58,
     "metadata": {},
     "output_type": "execute_result"
    }
   ],
   "source": [
    "# For example:\n",
    "lst99 = list( range(0,10) )\n",
    "lst99"
   ]
  },
  {
   "cell_type": "code",
   "execution_count": 59,
   "id": "be62fb14",
   "metadata": {},
   "outputs": [
    {
     "data": {
      "text/plain": [
       "[['John', 23], ['Sally', 19], ['Sarah', 43]]"
      ]
     },
     "execution_count": 59,
     "metadata": {},
     "output_type": "execute_result"
    }
   ],
   "source": [
    "# a nested list\n",
    "lst3 = [[\"John\", 23],\n",
    "        [\"Sally\", 19],\n",
    "        [\"Sarah\", 43]]\n",
    "lst3"
   ]
  },
  {
   "cell_type": "code",
   "execution_count": 60,
   "id": "af88e1fc",
   "metadata": {},
   "outputs": [
    {
     "data": {
      "text/plain": [
       "['John', 23]"
      ]
     },
     "execution_count": 60,
     "metadata": {},
     "output_type": "execute_result"
    }
   ],
   "source": [
    "# The above is a multi-dimensional list object, so you have to use multi-dimensional slicing to index it\n",
    "lst3[0] # the first element (index 0) is actually another list!"
   ]
  },
  {
   "cell_type": "code",
   "execution_count": 61,
   "id": "35938570",
   "metadata": {},
   "outputs": [
    {
     "data": {
      "text/plain": [
       "[['John', 23], ['Sally', 19]]"
      ]
     },
     "execution_count": 61,
     "metadata": {},
     "output_type": "execute_result"
    }
   ],
   "source": [
    "lst3[0:2]"
   ]
  },
  {
   "cell_type": "code",
   "execution_count": 62,
   "id": "426fbbe1",
   "metadata": {},
   "outputs": [
    {
     "data": {
      "text/plain": [
       "23"
      ]
     },
     "execution_count": 62,
     "metadata": {},
     "output_type": "execute_result"
    }
   ],
   "source": [
    "lst3[0][1] # We can keep adding slices to keep slicing further"
   ]
  },
  {
   "cell_type": "code",
   "execution_count": 63,
   "id": "86c6080e",
   "metadata": {},
   "outputs": [
    {
     "data": {
      "text/plain": [
       "[['John', 23], ['Sally', 19]]"
      ]
     },
     "execution_count": 63,
     "metadata": {},
     "output_type": "execute_result"
    }
   ],
   "source": [
    "lst3[0:2]"
   ]
  },
  {
   "cell_type": "code",
   "execution_count": 64,
   "id": "226cb3dd",
   "metadata": {
    "scrolled": true
   },
   "outputs": [
    {
     "data": {
      "text/plain": [
       "[[1, 2, 3], [4, 5, 6], [7, 8, 9]]"
      ]
     },
     "execution_count": 64,
     "metadata": {},
     "output_type": "execute_result"
    }
   ],
   "source": [
    "A = [[1, 2, 3], [4, 5, 6], [7, 8, 9]]\n",
    "A"
   ]
  },
  {
   "cell_type": "code",
   "execution_count": 65,
   "id": "313c7152",
   "metadata": {},
   "outputs": [
    {
     "data": {
      "text/plain": [
       "6"
      ]
     },
     "execution_count": 65,
     "metadata": {},
     "output_type": "execute_result"
    }
   ],
   "source": [
    "i, j = 1, 2\n",
    "A[i][j]"
   ]
  },
  {
   "cell_type": "markdown",
   "id": "edb20847",
   "metadata": {},
   "source": [
    "### Challenge: Use the following list to answer the following questions"
   ]
  },
  {
   "cell_type": "code",
   "execution_count": 66,
   "id": "078f4cf3",
   "metadata": {},
   "outputs": [],
   "source": [
    "items = [\"spam\", \"eggs\", \"beans\", \"bacon\", \"sausage\"]"
   ]
  },
  {
   "cell_type": "markdown",
   "id": "0ebb3494",
   "metadata": {},
   "source": [
    "##### Challenge: What does items[::-1] produce? Based on what you find, use indexing to create a version of items without \"spam\""
   ]
  },
  {
   "cell_type": "markdown",
   "id": "89739079",
   "metadata": {},
   "source": [
    "##### Challenge: Use indexing and concatenation to create a list containing spam, eggs, sausage, spam, and spam"
   ]
  },
  {
   "cell_type": "markdown",
   "id": "a71604f3",
   "metadata": {},
   "source": [
    "##### Challenge: Add a new item, “lobster”, to items"
   ]
  },
  {
   "cell_type": "markdown",
   "id": "0411b55c",
   "metadata": {},
   "source": [
    "## 8. Tuple objects <a class=\"anchor\" id=\"bullet8\"></a>"
   ]
  },
  {
   "cell_type": "code",
   "execution_count": 67,
   "id": "5761ca11",
   "metadata": {},
   "outputs": [
    {
     "data": {
      "text/plain": [
       "('Modern', 'Data', 'Structures')"
      ]
     },
     "execution_count": 67,
     "metadata": {},
     "output_type": "execute_result"
    }
   ],
   "source": [
    "t1 = (\"Modern\", \"Data\", \"Structures\")\n",
    "t1"
   ]
  },
  {
   "cell_type": "code",
   "execution_count": 68,
   "id": "20f98714",
   "metadata": {},
   "outputs": [
    {
     "data": {
      "text/plain": [
       "tuple"
      ]
     },
     "execution_count": 68,
     "metadata": {},
     "output_type": "execute_result"
    }
   ],
   "source": [
    "type(t1)"
   ]
  },
  {
   "cell_type": "code",
   "execution_count": 69,
   "id": "0d16273e",
   "metadata": {},
   "outputs": [
    {
     "data": {
      "text/plain": [
       "'Data'"
      ]
     },
     "execution_count": 69,
     "metadata": {},
     "output_type": "execute_result"
    }
   ],
   "source": [
    "# index the same way as lists\n",
    "t1[1]"
   ]
  },
  {
   "cell_type": "code",
   "execution_count": 70,
   "id": "970224f0",
   "metadata": {},
   "outputs": [],
   "source": [
    "t2 = (1, 2, 3, 4, 5, 6, 7)"
   ]
  },
  {
   "cell_type": "code",
   "execution_count": 71,
   "id": "20a747ea",
   "metadata": {},
   "outputs": [
    {
     "data": {
      "text/plain": [
       "('Modern', 'Data', 'Structures', 1, 2, 3, 4, 5, 6, 7)"
      ]
     },
     "execution_count": 71,
     "metadata": {},
     "output_type": "execute_result"
    }
   ],
   "source": [
    "# add 2 tuples of different types, thus tuples can hold different types\n",
    "t1+t2"
   ]
  },
  {
   "cell_type": "code",
   "execution_count": 72,
   "id": "4b1a842d",
   "metadata": {},
   "outputs": [
    {
     "data": {
      "text/plain": [
       "(1, 2, 3, 4, 5, 6, 7, 1, 2, 3, 4, 5, 6, 7, 1, 2, 3, 4, 5, 6, 7)"
      ]
     },
     "execution_count": 72,
     "metadata": {},
     "output_type": "execute_result"
    }
   ],
   "source": [
    "# What does the code below do ? Note this will work for list objects as well!\n",
    "t2 * 3 "
   ]
  },
  {
   "cell_type": "code",
   "execution_count": 73,
   "id": "24183de8",
   "metadata": {},
   "outputs": [
    {
     "ename": "TypeError",
     "evalue": "'tuple' object does not support item assignment",
     "output_type": "error",
     "traceback": [
      "\u001b[1;31m---------------------------------------------------------------------------\u001b[0m",
      "\u001b[1;31mTypeError\u001b[0m                                 Traceback (most recent call last)",
      "\u001b[1;32m~\\AppData\\Local\\Temp\\ipykernel_1896\\4028283513.py\u001b[0m in \u001b[0;36m<module>\u001b[1;34m\u001b[0m\n\u001b[0;32m      1\u001b[0m \u001b[1;31m# immutable, unlike lists. This means their values can never be modified!\u001b[0m\u001b[1;33m\u001b[0m\u001b[1;33m\u001b[0m\u001b[0m\n\u001b[1;32m----> 2\u001b[1;33m \u001b[0mt2\u001b[0m\u001b[1;33m[\u001b[0m\u001b[1;36m0\u001b[0m\u001b[1;33m]\u001b[0m \u001b[1;33m=\u001b[0m \u001b[1;36m0\u001b[0m\u001b[1;33m\u001b[0m\u001b[1;33m\u001b[0m\u001b[0m\n\u001b[0m",
      "\u001b[1;31mTypeError\u001b[0m: 'tuple' object does not support item assignment"
     ]
    }
   ],
   "source": [
    "# immutable, unlike lists. This means their values can never be modified!\n",
    "t2[0] = 0"
   ]
  },
  {
   "cell_type": "markdown",
   "id": "20fccf62",
   "metadata": {},
   "source": [
    "## 9. Dictionaries <a class=\"anchor\" id=\"bullet9\"></a>"
   ]
  },
  {
   "cell_type": "code",
   "execution_count": 74,
   "id": "767f48f4",
   "metadata": {},
   "outputs": [
    {
     "name": "stdout",
     "output_type": "stream",
     "text": [
      "{'player': 'Tom Brady', 'age': 45, 'position': 'QB'}\n"
     ]
    }
   ],
   "source": [
    "# key, value pairs\n",
    "dic = {\n",
    "    \"player\": \"Tom Brady\",\n",
    "    \"age\": 45,\n",
    "    \"position\": \"QB\"\n",
    "}\n",
    "print(dic)"
   ]
  },
  {
   "cell_type": "code",
   "execution_count": 75,
   "id": "826a9cff",
   "metadata": {},
   "outputs": [
    {
     "data": {
      "text/plain": [
       "'Tom Brady'"
      ]
     },
     "execution_count": 75,
     "metadata": {},
     "output_type": "execute_result"
    }
   ],
   "source": [
    "dic['player']"
   ]
  },
  {
   "cell_type": "markdown",
   "id": "2c25e913",
   "metadata": {},
   "source": [
    "## 10. Built in Functions <a class=\"anchor\" id=\"bullet10\"></a>"
   ]
  },
  {
   "cell_type": "markdown",
   "id": "61fcc903",
   "metadata": {},
   "source": [
    "* Functions are the things that do all the work for us. They take a set of inputs, and produce a set of outputs\n",
    "* They always follow the same rules / logic when executing them\n",
    "* They save a lot of time, and you can use functions from base python, other libraries, or ones that you write\n",
    "* Functions can be identified anytime you see () in python\n",
    "* For example, max() is a function called max, which takes an input (called arguments or parameters of the function) placed inside the parentheses. This function will return the largest number "
   ]
  },
  {
   "cell_type": "code",
   "execution_count": 76,
   "id": "db69526d",
   "metadata": {},
   "outputs": [],
   "source": [
    "lst = [0, 10, 20, 30, 40, 50, 60, 70 ,80, 90, 100]"
   ]
  },
  {
   "cell_type": "code",
   "execution_count": 77,
   "id": "d994ad83",
   "metadata": {},
   "outputs": [
    {
     "data": {
      "text/plain": [
       "100"
      ]
     },
     "execution_count": 77,
     "metadata": {},
     "output_type": "execute_result"
    }
   ],
   "source": [
    "max(lst)"
   ]
  },
  {
   "cell_type": "code",
   "execution_count": 78,
   "id": "ac6a3416",
   "metadata": {},
   "outputs": [
    {
     "data": {
      "text/plain": [
       "0"
      ]
     },
     "execution_count": 78,
     "metadata": {},
     "output_type": "execute_result"
    }
   ],
   "source": [
    "min(lst)"
   ]
  },
  {
   "cell_type": "code",
   "execution_count": 79,
   "id": "f20e9294",
   "metadata": {},
   "outputs": [
    {
     "data": {
      "text/plain": [
       "550"
      ]
     },
     "execution_count": 79,
     "metadata": {},
     "output_type": "execute_result"
    }
   ],
   "source": [
    "sum(lst)"
   ]
  },
  {
   "cell_type": "code",
   "execution_count": 80,
   "id": "aa8a823f",
   "metadata": {},
   "outputs": [
    {
     "data": {
      "text/plain": [
       "['spam', 'eggs', 'beans', 'bacon', 'sausage']"
      ]
     },
     "execution_count": 80,
     "metadata": {},
     "output_type": "execute_result"
    }
   ],
   "source": [
    "items"
   ]
  },
  {
   "cell_type": "code",
   "execution_count": 81,
   "id": "1ed4715d",
   "metadata": {},
   "outputs": [
    {
     "data": {
      "text/plain": [
       "'spam'"
      ]
     },
     "execution_count": 81,
     "metadata": {},
     "output_type": "execute_result"
    }
   ],
   "source": [
    "# function behavior depends on the data type! \n",
    "max(items) "
   ]
  },
  {
   "cell_type": "code",
   "execution_count": 82,
   "id": "6858eb3b",
   "metadata": {},
   "outputs": [
    {
     "data": {
      "text/plain": [
       "'bacon'"
      ]
     },
     "execution_count": 82,
     "metadata": {},
     "output_type": "execute_result"
    }
   ],
   "source": [
    "min(items)"
   ]
  },
  {
   "cell_type": "code",
   "execution_count": 83,
   "id": "e5e7f979",
   "metadata": {},
   "outputs": [
    {
     "ename": "NameError",
     "evalue": "name 'mean' is not defined",
     "output_type": "error",
     "traceback": [
      "\u001b[1;31m---------------------------------------------------------------------------\u001b[0m",
      "\u001b[1;31mNameError\u001b[0m                                 Traceback (most recent call last)",
      "\u001b[1;32m~\\AppData\\Local\\Temp\\ipykernel_1896\\1959606051.py\u001b[0m in \u001b[0;36m<module>\u001b[1;34m\u001b[0m\n\u001b[1;32m----> 1\u001b[1;33m \u001b[0mmean\u001b[0m\u001b[1;33m(\u001b[0m\u001b[0mlst\u001b[0m\u001b[1;33m)\u001b[0m \u001b[1;31m# Where's the mean function ?\u001b[0m\u001b[1;33m\u001b[0m\u001b[1;33m\u001b[0m\u001b[0m\n\u001b[0m",
      "\u001b[1;31mNameError\u001b[0m: name 'mean' is not defined"
     ]
    }
   ],
   "source": [
    "mean(lst) # Where's the mean function ?"
   ]
  },
  {
   "cell_type": "code",
   "execution_count": 84,
   "id": "172c3575",
   "metadata": {},
   "outputs": [
    {
     "data": {
      "text/plain": [
       "50"
      ]
     },
     "execution_count": 84,
     "metadata": {},
     "output_type": "execute_result"
    }
   ],
   "source": [
    "# We can use functions written by other Pythonistas! We can import their functions using the from / import calls\n",
    "# Here, we import the mean function from the statistics module/library\n",
    "from statistics import mean\n",
    "mean(lst)"
   ]
  },
  {
   "cell_type": "code",
   "execution_count": 85,
   "id": "e3979bde",
   "metadata": {},
   "outputs": [
    {
     "ename": "TypeError",
     "evalue": "can't convert type 'str' to numerator/denominator",
     "output_type": "error",
     "traceback": [
      "\u001b[1;31m---------------------------------------------------------------------------\u001b[0m",
      "\u001b[1;31mTypeError\u001b[0m                                 Traceback (most recent call last)",
      "\u001b[1;32m~\\AppData\\Local\\Temp\\ipykernel_1896\\2422751698.py\u001b[0m in \u001b[0;36m<module>\u001b[1;34m\u001b[0m\n\u001b[0;32m      1\u001b[0m \u001b[1;31m# Sometimes, a function is not compatible with a certain datatype, which will result in an error\u001b[0m\u001b[1;33m\u001b[0m\u001b[1;33m\u001b[0m\u001b[0m\n\u001b[1;32m----> 2\u001b[1;33m \u001b[0mmean\u001b[0m\u001b[1;33m(\u001b[0m\u001b[1;34m\"test\"\u001b[0m\u001b[1;33m)\u001b[0m\u001b[1;33m\u001b[0m\u001b[1;33m\u001b[0m\u001b[0m\n\u001b[0m",
      "\u001b[1;32m~\\anaconda3\\lib\\statistics.py\u001b[0m in \u001b[0;36mmean\u001b[1;34m(data)\u001b[0m\n\u001b[0;32m    314\u001b[0m     \u001b[1;32mif\u001b[0m \u001b[0mn\u001b[0m \u001b[1;33m<\u001b[0m \u001b[1;36m1\u001b[0m\u001b[1;33m:\u001b[0m\u001b[1;33m\u001b[0m\u001b[1;33m\u001b[0m\u001b[0m\n\u001b[0;32m    315\u001b[0m         \u001b[1;32mraise\u001b[0m \u001b[0mStatisticsError\u001b[0m\u001b[1;33m(\u001b[0m\u001b[1;34m'mean requires at least one data point'\u001b[0m\u001b[1;33m)\u001b[0m\u001b[1;33m\u001b[0m\u001b[1;33m\u001b[0m\u001b[0m\n\u001b[1;32m--> 316\u001b[1;33m     \u001b[0mT\u001b[0m\u001b[1;33m,\u001b[0m \u001b[0mtotal\u001b[0m\u001b[1;33m,\u001b[0m \u001b[0mcount\u001b[0m \u001b[1;33m=\u001b[0m \u001b[0m_sum\u001b[0m\u001b[1;33m(\u001b[0m\u001b[0mdata\u001b[0m\u001b[1;33m)\u001b[0m\u001b[1;33m\u001b[0m\u001b[1;33m\u001b[0m\u001b[0m\n\u001b[0m\u001b[0;32m    317\u001b[0m     \u001b[1;32massert\u001b[0m \u001b[0mcount\u001b[0m \u001b[1;33m==\u001b[0m \u001b[0mn\u001b[0m\u001b[1;33m\u001b[0m\u001b[1;33m\u001b[0m\u001b[0m\n\u001b[0;32m    318\u001b[0m     \u001b[1;32mreturn\u001b[0m \u001b[0m_convert\u001b[0m\u001b[1;33m(\u001b[0m\u001b[0mtotal\u001b[0m \u001b[1;33m/\u001b[0m \u001b[0mn\u001b[0m\u001b[1;33m,\u001b[0m \u001b[0mT\u001b[0m\u001b[1;33m)\u001b[0m\u001b[1;33m\u001b[0m\u001b[1;33m\u001b[0m\u001b[0m\n",
      "\u001b[1;32m~\\anaconda3\\lib\\statistics.py\u001b[0m in \u001b[0;36m_sum\u001b[1;34m(data, start)\u001b[0m\n\u001b[0;32m    164\u001b[0m     \u001b[1;32mfor\u001b[0m \u001b[0mtyp\u001b[0m\u001b[1;33m,\u001b[0m \u001b[0mvalues\u001b[0m \u001b[1;32min\u001b[0m \u001b[0mgroupby\u001b[0m\u001b[1;33m(\u001b[0m\u001b[0mdata\u001b[0m\u001b[1;33m,\u001b[0m \u001b[0mtype\u001b[0m\u001b[1;33m)\u001b[0m\u001b[1;33m:\u001b[0m\u001b[1;33m\u001b[0m\u001b[1;33m\u001b[0m\u001b[0m\n\u001b[0;32m    165\u001b[0m         \u001b[0mT\u001b[0m \u001b[1;33m=\u001b[0m \u001b[0m_coerce\u001b[0m\u001b[1;33m(\u001b[0m\u001b[0mT\u001b[0m\u001b[1;33m,\u001b[0m \u001b[0mtyp\u001b[0m\u001b[1;33m)\u001b[0m  \u001b[1;31m# or raise TypeError\u001b[0m\u001b[1;33m\u001b[0m\u001b[1;33m\u001b[0m\u001b[0m\n\u001b[1;32m--> 166\u001b[1;33m         \u001b[1;32mfor\u001b[0m \u001b[0mn\u001b[0m\u001b[1;33m,\u001b[0m \u001b[0md\u001b[0m \u001b[1;32min\u001b[0m \u001b[0mmap\u001b[0m\u001b[1;33m(\u001b[0m\u001b[0m_exact_ratio\u001b[0m\u001b[1;33m,\u001b[0m \u001b[0mvalues\u001b[0m\u001b[1;33m)\u001b[0m\u001b[1;33m:\u001b[0m\u001b[1;33m\u001b[0m\u001b[1;33m\u001b[0m\u001b[0m\n\u001b[0m\u001b[0;32m    167\u001b[0m             \u001b[0mcount\u001b[0m \u001b[1;33m+=\u001b[0m \u001b[1;36m1\u001b[0m\u001b[1;33m\u001b[0m\u001b[1;33m\u001b[0m\u001b[0m\n\u001b[0;32m    168\u001b[0m             \u001b[0mpartials\u001b[0m\u001b[1;33m[\u001b[0m\u001b[0md\u001b[0m\u001b[1;33m]\u001b[0m \u001b[1;33m=\u001b[0m \u001b[0mpartials_get\u001b[0m\u001b[1;33m(\u001b[0m\u001b[0md\u001b[0m\u001b[1;33m,\u001b[0m \u001b[1;36m0\u001b[0m\u001b[1;33m)\u001b[0m \u001b[1;33m+\u001b[0m \u001b[0mn\u001b[0m\u001b[1;33m\u001b[0m\u001b[1;33m\u001b[0m\u001b[0m\n",
      "\u001b[1;32m~\\anaconda3\\lib\\statistics.py\u001b[0m in \u001b[0;36m_exact_ratio\u001b[1;34m(x)\u001b[0m\n\u001b[0;32m    246\u001b[0m         \u001b[1;32mreturn\u001b[0m \u001b[1;33m(\u001b[0m\u001b[0mx\u001b[0m\u001b[1;33m,\u001b[0m \u001b[1;32mNone\u001b[0m\u001b[1;33m)\u001b[0m\u001b[1;33m\u001b[0m\u001b[1;33m\u001b[0m\u001b[0m\n\u001b[0;32m    247\u001b[0m     \u001b[0mmsg\u001b[0m \u001b[1;33m=\u001b[0m \u001b[1;34m\"can't convert type '{}' to numerator/denominator\"\u001b[0m\u001b[1;33m\u001b[0m\u001b[1;33m\u001b[0m\u001b[0m\n\u001b[1;32m--> 248\u001b[1;33m     \u001b[1;32mraise\u001b[0m \u001b[0mTypeError\u001b[0m\u001b[1;33m(\u001b[0m\u001b[0mmsg\u001b[0m\u001b[1;33m.\u001b[0m\u001b[0mformat\u001b[0m\u001b[1;33m(\u001b[0m\u001b[0mtype\u001b[0m\u001b[1;33m(\u001b[0m\u001b[0mx\u001b[0m\u001b[1;33m)\u001b[0m\u001b[1;33m.\u001b[0m\u001b[0m__name__\u001b[0m\u001b[1;33m)\u001b[0m\u001b[1;33m)\u001b[0m\u001b[1;33m\u001b[0m\u001b[1;33m\u001b[0m\u001b[0m\n\u001b[0m\u001b[0;32m    249\u001b[0m \u001b[1;33m\u001b[0m\u001b[0m\n\u001b[0;32m    250\u001b[0m \u001b[1;33m\u001b[0m\u001b[0m\n",
      "\u001b[1;31mTypeError\u001b[0m: can't convert type 'str' to numerator/denominator"
     ]
    }
   ],
   "source": [
    "# Sometimes, a function is not compatible with a certain datatype, which will result in an error\n",
    "mean(\"test\")"
   ]
  },
  {
   "cell_type": "code",
   "execution_count": 86,
   "id": "a79c4d1e",
   "metadata": {},
   "outputs": [
    {
     "data": {
      "text/plain": [
       "52"
      ]
     },
     "execution_count": 86,
     "metadata": {},
     "output_type": "execute_result"
    }
   ],
   "source": [
    "round(51.63452)"
   ]
  },
  {
   "cell_type": "code",
   "execution_count": 87,
   "id": "358a93fd",
   "metadata": {},
   "outputs": [
    {
     "data": {
      "text/plain": [
       "51.63"
      ]
     },
     "execution_count": 87,
     "metadata": {},
     "output_type": "execute_result"
    }
   ],
   "source": [
    "# Some functions can use multiple arguments. You can tell the round() function for example how many decimal places to round to\n",
    "round(51.63452,2)"
   ]
  },
  {
   "cell_type": "code",
   "execution_count": 88,
   "id": "a0a887fa",
   "metadata": {},
   "outputs": [],
   "source": [
    "# ? followed by a function name pulls open a help menu\n",
    "?round"
   ]
  },
  {
   "cell_type": "code",
   "execution_count": 89,
   "id": "c9acb0dd",
   "metadata": {},
   "outputs": [
    {
     "data": {
      "text/plain": [
       "51.63"
      ]
     },
     "execution_count": 89,
     "metadata": {},
     "output_type": "execute_result"
    }
   ],
   "source": [
    "# When setting the arguments to a function, you can name them or rely on their default order\n",
    "round(number=51.63452, ndigits=2)"
   ]
  },
  {
   "cell_type": "code",
   "execution_count": 90,
   "id": "2232d29d",
   "metadata": {
    "scrolled": true
   },
   "outputs": [
    {
     "data": {
      "text/plain": [
       "51.63"
      ]
     },
     "execution_count": 90,
     "metadata": {},
     "output_type": "execute_result"
    }
   ],
   "source": [
    "round( ndigits=2, number=51.63452)"
   ]
  },
  {
   "cell_type": "code",
   "execution_count": 91,
   "id": "3c7ecd7b",
   "metadata": {},
   "outputs": [
    {
     "ename": "SyntaxError",
     "evalue": "positional argument follows keyword argument (3197785800.py, line 2)",
     "output_type": "error",
     "traceback": [
      "\u001b[1;36m  File \u001b[1;32m\"C:\\Users\\nicka\\AppData\\Local\\Temp\\ipykernel_1896\\3197785800.py\"\u001b[1;36m, line \u001b[1;32m2\u001b[0m\n\u001b[1;33m    round( ndigits=2, 51.63452)\u001b[0m\n\u001b[1;37m                              ^\u001b[0m\n\u001b[1;31mSyntaxError\u001b[0m\u001b[1;31m:\u001b[0m positional argument follows keyword argument\n"
     ]
    }
   ],
   "source": [
    "# issue here, because the function expects the unnamed second argument to be ndigits.\n",
    "# So be careful when defining function arguments based on position!\n",
    "round( ndigits=2, 51.63452) "
   ]
  },
  {
   "cell_type": "code",
   "execution_count": 92,
   "id": "d43ad101",
   "metadata": {},
   "outputs": [
    {
     "data": {
      "text/plain": [
       "11"
      ]
     },
     "execution_count": 92,
     "metadata": {},
     "output_type": "execute_result"
    }
   ],
   "source": [
    "len(lst)"
   ]
  },
  {
   "cell_type": "markdown",
   "id": "c5d7c455",
   "metadata": {},
   "source": [
    "##### Challenge: use the sum function to sum the numbers 1 to 10,000"
   ]
  },
  {
   "cell_type": "markdown",
   "id": "a16980f9",
   "metadata": {},
   "source": [
    "###### Challenge: Look at documentation for the pop() function. Then practice using it!"
   ]
  },
  {
   "cell_type": "markdown",
   "id": "d7429149",
   "metadata": {},
   "source": [
    "##### Challenge: Can you find a function that will allow you to create a list of length 100 where every element is 99?"
   ]
  },
  {
   "cell_type": "markdown",
   "id": "b0546319",
   "metadata": {},
   "source": [
    "## 11. Methods <a class=\"anchor\" id=\"bullet11\"></a>"
   ]
  },
  {
   "cell_type": "markdown",
   "id": "b0886a93",
   "metadata": {},
   "source": [
    "Some data types allow you to use special functions called \"methods\". Methods are accessed by appending a `.` to the end of an object name, followed by particular method. See below."
   ]
  },
  {
   "cell_type": "code",
   "execution_count": 93,
   "id": "f60dee41",
   "metadata": {},
   "outputs": [],
   "source": [
    "a = (1, 2, 3, 3, 2, 22, 1, 2)"
   ]
  },
  {
   "cell_type": "code",
   "execution_count": 94,
   "id": "d1b46a60",
   "metadata": {},
   "outputs": [
    {
     "data": {
      "text/plain": [
       "3"
      ]
     },
     "execution_count": 94,
     "metadata": {},
     "output_type": "execute_result"
    }
   ],
   "source": [
    "a.count(2) # a method which counts the number of 2s"
   ]
  },
  {
   "cell_type": "code",
   "execution_count": 95,
   "id": "b82c8014",
   "metadata": {},
   "outputs": [
    {
     "data": {
      "text/plain": [
       "'String'"
      ]
     },
     "execution_count": 95,
     "metadata": {},
     "output_type": "execute_result"
    }
   ],
   "source": [
    "b = 'string'\n",
    "b.replace('s', 'S')"
   ]
  },
  {
   "cell_type": "code",
   "execution_count": 96,
   "id": "afceb6bd",
   "metadata": {},
   "outputs": [
    {
     "data": {
      "text/plain": [
       "'string'"
      ]
     },
     "execution_count": 96,
     "metadata": {},
     "output_type": "execute_result"
    }
   ],
   "source": [
    "b # Be aware that sometimes when you call a function/method, it may not neccessarily update the underlying object"
   ]
  },
  {
   "cell_type": "code",
   "execution_count": 97,
   "id": "c8b44270",
   "metadata": {},
   "outputs": [
    {
     "ename": "AttributeError",
     "evalue": "'tuple' object has no attribute 'replace'",
     "output_type": "error",
     "traceback": [
      "\u001b[1;31m---------------------------------------------------------------------------\u001b[0m",
      "\u001b[1;31mAttributeError\u001b[0m                            Traceback (most recent call last)",
      "\u001b[1;32m~\\AppData\\Local\\Temp\\ipykernel_1896\\4172441015.py\u001b[0m in \u001b[0;36m<module>\u001b[1;34m\u001b[0m\n\u001b[1;32m----> 1\u001b[1;33m \u001b[0ma\u001b[0m\u001b[1;33m.\u001b[0m\u001b[0mreplace\u001b[0m\u001b[1;33m(\u001b[0m\u001b[1;36m1\u001b[0m\u001b[1;33m,\u001b[0m \u001b[1;36m99\u001b[0m\u001b[1;33m)\u001b[0m  \u001b[1;31m# methods depend on data types! Because tuples are immutable, we cannot use the replace method\u001b[0m\u001b[1;33m\u001b[0m\u001b[1;33m\u001b[0m\u001b[0m\n\u001b[0m",
      "\u001b[1;31mAttributeError\u001b[0m: 'tuple' object has no attribute 'replace'"
     ]
    }
   ],
   "source": [
    "a.replace(1, 99)  # methods depend on data types! Because tuples are immutable, we cannot use the replace method"
   ]
  },
  {
   "cell_type": "code",
   "execution_count": 98,
   "id": "1d629544",
   "metadata": {},
   "outputs": [
    {
     "ename": "AttributeError",
     "evalue": "'tuple' object has no attribute 'append'",
     "output_type": "error",
     "traceback": [
      "\u001b[1;31m---------------------------------------------------------------------------\u001b[0m",
      "\u001b[1;31mAttributeError\u001b[0m                            Traceback (most recent call last)",
      "\u001b[1;32m~\\AppData\\Local\\Temp\\ipykernel_1896\\1944319275.py\u001b[0m in \u001b[0;36m<module>\u001b[1;34m\u001b[0m\n\u001b[1;32m----> 1\u001b[1;33m \u001b[0ma\u001b[0m\u001b[1;33m.\u001b[0m\u001b[0mappend\u001b[0m\u001b[1;33m(\u001b[0m\u001b[1;36m2\u001b[0m\u001b[1;33m)\u001b[0m\u001b[1;33m\u001b[0m\u001b[1;33m\u001b[0m\u001b[0m\n\u001b[0m",
      "\u001b[1;31mAttributeError\u001b[0m: 'tuple' object has no attribute 'append'"
     ]
    }
   ],
   "source": [
    "a.append(2)"
   ]
  },
  {
   "cell_type": "code",
   "execution_count": 99,
   "id": "cb3858b4",
   "metadata": {},
   "outputs": [
    {
     "data": {
      "text/plain": [
       "[1, 2, 3, 4, 5]"
      ]
     },
     "execution_count": 99,
     "metadata": {},
     "output_type": "execute_result"
    }
   ],
   "source": [
    "c = [1, 2, 3, 4]\n",
    "c.append(5)   # The append method does modify the underlying object\n",
    "c"
   ]
  },
  {
   "cell_type": "code",
   "execution_count": 100,
   "id": "97bf67a6",
   "metadata": {},
   "outputs": [
    {
     "data": {
      "text/plain": [
       "[1, 3, 4, 5]"
      ]
     },
     "execution_count": 100,
     "metadata": {},
     "output_type": "execute_result"
    }
   ],
   "source": [
    "c.remove(2)\n",
    "c"
   ]
  },
  {
   "cell_type": "markdown",
   "id": "84bd568a",
   "metadata": {},
   "source": [
    "## 12. Installing Other Python Packages <a class=\"anchor\" id=\"bullet12\"></a>"
   ]
  },
  {
   "cell_type": "markdown",
   "id": "8bec352c",
   "metadata": {},
   "source": [
    "In general, you should not need to install many, if any, extra python packages when you use the Anaconda distribution. This is because it already comes with the most popular packages that people use! \n",
    "\n",
    "But, you can install packages from the Anaconda Prompt with the following code `pip install package_name`\n",
    "For example, if you want to install the **pyautogui** library, open your conda terminal and paste in the following code:\n",
    "`pip install pyautogui`"
   ]
  }
 ],
 "metadata": {
  "kernelspec": {
   "display_name": "Python 3 (ipykernel)",
   "language": "python",
   "name": "python3"
  },
  "language_info": {
   "codemirror_mode": {
    "name": "ipython",
    "version": 3
   },
   "file_extension": ".py",
   "mimetype": "text/x-python",
   "name": "python",
   "nbconvert_exporter": "python",
   "pygments_lexer": "ipython3",
   "version": "3.9.13"
  }
 },
 "nbformat": 4,
 "nbformat_minor": 5
}
