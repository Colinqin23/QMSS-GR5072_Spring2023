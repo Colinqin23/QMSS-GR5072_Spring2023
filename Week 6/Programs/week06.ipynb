{
 "cells": [
  {
   "cell_type": "markdown",
   "id": "c4e0cb90",
   "metadata": {},
   "source": [
    "# Week 6"
   ]
  },
  {
   "cell_type": "markdown",
   "id": "949c9440",
   "metadata": {},
   "source": [
    "### Table of Contents"
   ]
  },
  {
   "cell_type": "markdown",
   "id": "01ecb915",
   "metadata": {},
   "source": [
    "1. [Iteration](#bullet1)\n",
    "2. [Practice](#bullet2)\n",
    "3. [For loop example uses](#bullet3)\n",
    "4. [Practice](#bullet4)\n",
    "5. [List comprehensions](#bullet5)\n",
    "6. [Lambda functions](#bullet6)\n",
    "7. [Pandas apply with lambda functions](#bullet7)\n",
    "8. [Nested Functions](#bullet8)\n",
    "9. [While loops](#bullet9)\n",
    "10. [Handling Exceptions](#bullet10)\n",
    "11. [Docu Strings](#bullet11)"
   ]
  },
  {
   "cell_type": "code",
   "execution_count": 1,
   "id": "7274bf60",
   "metadata": {},
   "outputs": [],
   "source": [
    "## importing necessary libraries\n",
    "import numpy as np\n",
    "import pandas as pd \n",
    "import seaborn as sns"
   ]
  },
  {
   "cell_type": "markdown",
   "id": "289386eb",
   "metadata": {},
   "source": [
    "## 1. Iteration<a class=\"anchor\" id=\"bullet1\"></a>\n",
    "\n",
    "I.E.- Repeating the same operation on different columns or on different datasets"
   ]
  },
  {
   "cell_type": "code",
   "execution_count": 2,
   "id": "4731b782",
   "metadata": {},
   "outputs": [],
   "source": [
    "rng = np.random.default_rng(seed=3252)\n",
    "\n",
    "a = rng.standard_normal(10)\n",
    "b = rng.standard_normal(10)\n",
    "c = rng.standard_normal(10)\n",
    "d = rng.standard_normal(10)\n",
    "\n",
    "the_dict = {'a':a,'b':b,'c':c,'d':d}\n",
    "\n",
    "df = pd.DataFrame(the_dict)"
   ]
  },
  {
   "cell_type": "markdown",
   "id": "d231836b",
   "metadata": {},
   "source": [
    "We want to compute the median of each column. You could do with copy-and-paste:"
   ]
  },
  {
   "cell_type": "code",
   "execution_count": 18,
   "id": "1611ca12",
   "metadata": {},
   "outputs": [
    {
     "name": "stdout",
     "output_type": "stream",
     "text": [
      "-0.7109216792484936\n",
      "-0.1607751802165395\n",
      "-0.7835127395579766\n",
      "0.43195930703839136\n"
     ]
    }
   ],
   "source": [
    "print(np.median(df['a']))\n",
    "print(np.median(df['b']))\n",
    "print(np.median(df['c']))\n",
    "print(np.median(df['d']))"
   ]
  },
  {
   "cell_type": "markdown",
   "id": "3a098854",
   "metadata": {},
   "source": [
    "But we want to limit repetition as much as possible to write good code. "
   ]
  },
  {
   "cell_type": "markdown",
   "id": "fa6139d8",
   "metadata": {},
   "source": [
    "remember = __DRY PRINCIPLE: DO NOT REPEAT YOURSELF__"
   ]
  },
  {
   "cell_type": "code",
   "execution_count": 19,
   "id": "9590c0cb",
   "metadata": {},
   "outputs": [
    {
     "data": {
      "text/plain": [
       "[-0.71, -0.16, -0.78, 0.43]"
      ]
     },
     "execution_count": 19,
     "metadata": {},
     "output_type": "execute_result"
    }
   ],
   "source": [
    "### iteration using a for loop\n",
    "output = []\n",
    "\n",
    "for i in df.columns:\n",
    "    output.append(round(np.median(df[i]),2))\n",
    "    \n",
    "output"
   ]
  },
  {
   "cell_type": "markdown",
   "id": "51cba1c8-0849-41df-b27c-1dca97f2d863",
   "metadata": {},
   "source": [
    "__Every for loop has three components:__\n",
    "\n",
    "1) __Output:__ You must always allocate sufficient space for the output\n",
    "* needs to be same structure as final output of your code\n",
    "* to create and empty vector use the vector() function\n",
    "* Has two arguments: type of vector and length of vector\n",
    "\n",
    "\n",
    "2) __The sequence:__ for i in df.columns (or more generally, for index in interable). This determines what to loop over: \n",
    "* each run of the for loop will assign i to a different value from \n",
    "* seq_along(df)\n",
    "\n",
    "3) __The body:__ output.append(round(np.median(df[i]),2)). This is the code that does the work. \n",
    "* It's run repeatedly, each time with a different value for i. \n",
    "* The first iteration will run output.append(round(np.median(df[1]),2)), the second will run output.append(round(np.median(df[2]),2)), and so on."
   ]
  },
  {
   "cell_type": "markdown",
   "id": "a152babe",
   "metadata": {},
   "source": [
    "## 2. Practice<a class=\"anchor\" id=\"bullet2\"></a>"
   ]
  },
  {
   "cell_type": "markdown",
   "id": "f275a3d1",
   "metadata": {},
   "source": [
    "a) Compute the mean of every column in df."
   ]
  },
  {
   "cell_type": "code",
   "execution_count": null,
   "id": "8b9ad8a3-2912-4bc7-85f2-490c371d6d3a",
   "metadata": {},
   "outputs": [],
   "source": []
  },
  {
   "cell_type": "code",
   "execution_count": 20,
   "id": "2df56581",
   "metadata": {},
   "outputs": [
    {
     "data": {
      "text/plain": [
       "[-0.5651802647782048,\n",
       " -0.07332713554716727,\n",
       " -0.6693640830516738,\n",
       " 0.3935178923880054]"
      ]
     },
     "execution_count": 20,
     "metadata": {},
     "output_type": "execute_result"
    }
   ],
   "source": [
    "output = []\n",
    "for i in df.columns:\n",
    "    output.append(np.mean(df[i]))\n",
    "\n",
    "output"
   ]
  },
  {
   "cell_type": "markdown",
   "id": "92be9dd3",
   "metadata": {},
   "source": [
    "b) Determine the type of data each column holds."
   ]
  },
  {
   "cell_type": "code",
   "execution_count": null,
   "id": "9a4b08c5-cb1d-4854-b0ab-c3f415c137fb",
   "metadata": {},
   "outputs": [],
   "source": []
  },
  {
   "cell_type": "code",
   "execution_count": 21,
   "id": "1b9dbd76",
   "metadata": {},
   "outputs": [
    {
     "data": {
      "text/plain": [
       "[numpy.float64, numpy.float64, numpy.float64, numpy.float64]"
      ]
     },
     "execution_count": 21,
     "metadata": {},
     "output_type": "execute_result"
    }
   ],
   "source": [
    "output = []\n",
    "for i in df.columns:\n",
    "    data_type = type(df[i][0])\n",
    "    output.append(data_type)\n",
    "    \n",
    "output"
   ]
  },
  {
   "cell_type": "markdown",
   "id": "d92a00df",
   "metadata": {},
   "source": [
    "c) Compute the number of unique values in each column of iris."
   ]
  },
  {
   "cell_type": "code",
   "execution_count": 22,
   "id": "3001b5da-2c2b-4d6f-8381-9b7fa7ff3b1d",
   "metadata": {},
   "outputs": [],
   "source": [
    "import numpy as np # for the np.unique function\n",
    "import pandas as pd # for pd.DataFrame\n",
    "from sklearn import datasets # to load iris dataset\n",
    "iris0 = datasets.load_iris()\n",
    "iris = pd.DataFrame(data=iris0.data, columns=iris0.feature_names)"
   ]
  },
  {
   "cell_type": "code",
   "execution_count": 23,
   "id": "dc5f9f6c-2ea7-494b-804b-993574c3bbe6",
   "metadata": {},
   "outputs": [
    {
     "data": {
      "text/html": [
       "<div>\n",
       "<style scoped>\n",
       "    .dataframe tbody tr th:only-of-type {\n",
       "        vertical-align: middle;\n",
       "    }\n",
       "\n",
       "    .dataframe tbody tr th {\n",
       "        vertical-align: top;\n",
       "    }\n",
       "\n",
       "    .dataframe thead th {\n",
       "        text-align: right;\n",
       "    }\n",
       "</style>\n",
       "<table border=\"1\" class=\"dataframe\">\n",
       "  <thead>\n",
       "    <tr style=\"text-align: right;\">\n",
       "      <th></th>\n",
       "      <th>sepal length (cm)</th>\n",
       "      <th>sepal width (cm)</th>\n",
       "      <th>petal length (cm)</th>\n",
       "      <th>petal width (cm)</th>\n",
       "    </tr>\n",
       "  </thead>\n",
       "  <tbody>\n",
       "    <tr>\n",
       "      <th>0</th>\n",
       "      <td>5.1</td>\n",
       "      <td>3.5</td>\n",
       "      <td>1.4</td>\n",
       "      <td>0.2</td>\n",
       "    </tr>\n",
       "    <tr>\n",
       "      <th>1</th>\n",
       "      <td>4.9</td>\n",
       "      <td>3.0</td>\n",
       "      <td>1.4</td>\n",
       "      <td>0.2</td>\n",
       "    </tr>\n",
       "    <tr>\n",
       "      <th>2</th>\n",
       "      <td>4.7</td>\n",
       "      <td>3.2</td>\n",
       "      <td>1.3</td>\n",
       "      <td>0.2</td>\n",
       "    </tr>\n",
       "    <tr>\n",
       "      <th>3</th>\n",
       "      <td>4.6</td>\n",
       "      <td>3.1</td>\n",
       "      <td>1.5</td>\n",
       "      <td>0.2</td>\n",
       "    </tr>\n",
       "    <tr>\n",
       "      <th>4</th>\n",
       "      <td>5.0</td>\n",
       "      <td>3.6</td>\n",
       "      <td>1.4</td>\n",
       "      <td>0.2</td>\n",
       "    </tr>\n",
       "    <tr>\n",
       "      <th>...</th>\n",
       "      <td>...</td>\n",
       "      <td>...</td>\n",
       "      <td>...</td>\n",
       "      <td>...</td>\n",
       "    </tr>\n",
       "    <tr>\n",
       "      <th>145</th>\n",
       "      <td>6.7</td>\n",
       "      <td>3.0</td>\n",
       "      <td>5.2</td>\n",
       "      <td>2.3</td>\n",
       "    </tr>\n",
       "    <tr>\n",
       "      <th>146</th>\n",
       "      <td>6.3</td>\n",
       "      <td>2.5</td>\n",
       "      <td>5.0</td>\n",
       "      <td>1.9</td>\n",
       "    </tr>\n",
       "    <tr>\n",
       "      <th>147</th>\n",
       "      <td>6.5</td>\n",
       "      <td>3.0</td>\n",
       "      <td>5.2</td>\n",
       "      <td>2.0</td>\n",
       "    </tr>\n",
       "    <tr>\n",
       "      <th>148</th>\n",
       "      <td>6.2</td>\n",
       "      <td>3.4</td>\n",
       "      <td>5.4</td>\n",
       "      <td>2.3</td>\n",
       "    </tr>\n",
       "    <tr>\n",
       "      <th>149</th>\n",
       "      <td>5.9</td>\n",
       "      <td>3.0</td>\n",
       "      <td>5.1</td>\n",
       "      <td>1.8</td>\n",
       "    </tr>\n",
       "  </tbody>\n",
       "</table>\n",
       "<p>150 rows × 4 columns</p>\n",
       "</div>"
      ],
      "text/plain": [
       "     sepal length (cm)  sepal width (cm)  petal length (cm)  petal width (cm)\n",
       "0                  5.1               3.5                1.4               0.2\n",
       "1                  4.9               3.0                1.4               0.2\n",
       "2                  4.7               3.2                1.3               0.2\n",
       "3                  4.6               3.1                1.5               0.2\n",
       "4                  5.0               3.6                1.4               0.2\n",
       "..                 ...               ...                ...               ...\n",
       "145                6.7               3.0                5.2               2.3\n",
       "146                6.3               2.5                5.0               1.9\n",
       "147                6.5               3.0                5.2               2.0\n",
       "148                6.2               3.4                5.4               2.3\n",
       "149                5.9               3.0                5.1               1.8\n",
       "\n",
       "[150 rows x 4 columns]"
      ]
     },
     "execution_count": 23,
     "metadata": {},
     "output_type": "execute_result"
    }
   ],
   "source": [
    "iris"
   ]
  },
  {
   "cell_type": "code",
   "execution_count": null,
   "id": "2baacfbc-af78-441c-a3e6-734b85a6a051",
   "metadata": {},
   "outputs": [],
   "source": []
  },
  {
   "cell_type": "code",
   "execution_count": 24,
   "id": "bb81a187-9d4e-4ad4-ad99-2bd2e9394d1c",
   "metadata": {},
   "outputs": [
    {
     "data": {
      "text/plain": [
       "[35, 23, 43, 22]"
      ]
     },
     "execution_count": 24,
     "metadata": {},
     "output_type": "execute_result"
    }
   ],
   "source": [
    "unique_vals = []\n",
    "\n",
    "# nested for loops\n",
    "for i in iris.columns:\n",
    "    unique_vals.append(len(np.unique(iris[i])))\n",
    "            \n",
    "unique_vals"
   ]
  },
  {
   "cell_type": "markdown",
   "id": "d52a7f38",
   "metadata": {},
   "source": [
    "## 3. For loop example uses<a class=\"anchor\" id=\"bullet3\"></a>"
   ]
  },
  {
   "cell_type": "markdown",
   "id": "edde86ba",
   "metadata": {},
   "source": [
    "1) Modifying an existing object, instead of creating a new object."
   ]
  },
  {
   "cell_type": "code",
   "execution_count": 25,
   "id": "359cc015",
   "metadata": {},
   "outputs": [
    {
     "data": {
      "text/html": [
       "<div>\n",
       "<style scoped>\n",
       "    .dataframe tbody tr th:only-of-type {\n",
       "        vertical-align: middle;\n",
       "    }\n",
       "\n",
       "    .dataframe tbody tr th {\n",
       "        vertical-align: top;\n",
       "    }\n",
       "\n",
       "    .dataframe thead th {\n",
       "        text-align: right;\n",
       "    }\n",
       "</style>\n",
       "<table border=\"1\" class=\"dataframe\">\n",
       "  <thead>\n",
       "    <tr style=\"text-align: right;\">\n",
       "      <th></th>\n",
       "      <th>a</th>\n",
       "      <th>b</th>\n",
       "      <th>c</th>\n",
       "      <th>d</th>\n",
       "    </tr>\n",
       "  </thead>\n",
       "  <tbody>\n",
       "    <tr>\n",
       "      <th>0</th>\n",
       "      <td>-0.757929</td>\n",
       "      <td>0.295862</td>\n",
       "      <td>0.417556</td>\n",
       "      <td>1.167163</td>\n",
       "    </tr>\n",
       "    <tr>\n",
       "      <th>1</th>\n",
       "      <td>0.807697</td>\n",
       "      <td>0.019923</td>\n",
       "      <td>-1.726416</td>\n",
       "      <td>1.767645</td>\n",
       "    </tr>\n",
       "    <tr>\n",
       "      <th>2</th>\n",
       "      <td>0.433601</td>\n",
       "      <td>-2.352702</td>\n",
       "      <td>-0.585652</td>\n",
       "      <td>0.461624</td>\n",
       "    </tr>\n",
       "    <tr>\n",
       "      <th>3</th>\n",
       "      <td>-0.949885</td>\n",
       "      <td>-0.548677</td>\n",
       "      <td>-0.012005</td>\n",
       "      <td>1.457183</td>\n",
       "    </tr>\n",
       "    <tr>\n",
       "      <th>4</th>\n",
       "      <td>-1.119631</td>\n",
       "      <td>1.061025</td>\n",
       "      <td>-0.981373</td>\n",
       "      <td>-0.216714</td>\n",
       "    </tr>\n",
       "    <tr>\n",
       "      <th>5</th>\n",
       "      <td>0.064981</td>\n",
       "      <td>0.760106</td>\n",
       "      <td>-1.244226</td>\n",
       "      <td>0.287626</td>\n",
       "    </tr>\n",
       "    <tr>\n",
       "      <th>6</th>\n",
       "      <td>-0.612400</td>\n",
       "      <td>-0.671701</td>\n",
       "      <td>1.370228</td>\n",
       "      <td>-1.224794</td>\n",
       "    </tr>\n",
       "    <tr>\n",
       "      <th>7</th>\n",
       "      <td>-1.144289</td>\n",
       "      <td>1.442454</td>\n",
       "      <td>-1.705773</td>\n",
       "      <td>0.694906</td>\n",
       "    </tr>\n",
       "    <tr>\n",
       "      <th>8</th>\n",
       "      <td>-1.710033</td>\n",
       "      <td>-0.398088</td>\n",
       "      <td>-0.139430</td>\n",
       "      <td>0.402294</td>\n",
       "    </tr>\n",
       "    <tr>\n",
       "      <th>9</th>\n",
       "      <td>-0.663915</td>\n",
       "      <td>-0.341473</td>\n",
       "      <td>-2.086549</td>\n",
       "      <td>-0.861754</td>\n",
       "    </tr>\n",
       "  </tbody>\n",
       "</table>\n",
       "</div>"
      ],
      "text/plain": [
       "          a         b         c         d\n",
       "0 -0.757929  0.295862  0.417556  1.167163\n",
       "1  0.807697  0.019923 -1.726416  1.767645\n",
       "2  0.433601 -2.352702 -0.585652  0.461624\n",
       "3 -0.949885 -0.548677 -0.012005  1.457183\n",
       "4 -1.119631  1.061025 -0.981373 -0.216714\n",
       "5  0.064981  0.760106 -1.244226  0.287626\n",
       "6 -0.612400 -0.671701  1.370228 -1.224794\n",
       "7 -1.144289  1.442454 -1.705773  0.694906\n",
       "8 -1.710033 -0.398088 -0.139430  0.402294\n",
       "9 -0.663915 -0.341473 -2.086549 -0.861754"
      ]
     },
     "execution_count": 25,
     "metadata": {},
     "output_type": "execute_result"
    }
   ],
   "source": [
    "df"
   ]
  },
  {
   "cell_type": "code",
   "execution_count": 26,
   "id": "6cd2c3ad",
   "metadata": {},
   "outputs": [],
   "source": [
    "def rescale01(col):\n",
    "    return (col - min(col)) / (max(col)-min(col))"
   ]
  },
  {
   "cell_type": "code",
   "execution_count": 27,
   "id": "697e5ae9",
   "metadata": {},
   "outputs": [
    {
     "data": {
      "text/html": [
       "<div>\n",
       "<style scoped>\n",
       "    .dataframe tbody tr th:only-of-type {\n",
       "        vertical-align: middle;\n",
       "    }\n",
       "\n",
       "    .dataframe tbody tr th {\n",
       "        vertical-align: top;\n",
       "    }\n",
       "\n",
       "    .dataframe thead th {\n",
       "        text-align: right;\n",
       "    }\n",
       "</style>\n",
       "<table border=\"1\" class=\"dataframe\">\n",
       "  <thead>\n",
       "    <tr style=\"text-align: right;\">\n",
       "      <th></th>\n",
       "      <th>a</th>\n",
       "      <th>b</th>\n",
       "      <th>c</th>\n",
       "      <th>d</th>\n",
       "    </tr>\n",
       "  </thead>\n",
       "  <tbody>\n",
       "    <tr>\n",
       "      <th>0</th>\n",
       "      <td>0.378160</td>\n",
       "      <td>0.697880</td>\n",
       "      <td>0.724405</td>\n",
       "      <td>0.799334</td>\n",
       "    </tr>\n",
       "    <tr>\n",
       "      <th>1</th>\n",
       "      <td>1.000000</td>\n",
       "      <td>0.625172</td>\n",
       "      <td>0.104182</td>\n",
       "      <td>1.000000</td>\n",
       "    </tr>\n",
       "    <tr>\n",
       "      <th>2</th>\n",
       "      <td>0.851415</td>\n",
       "      <td>0.000000</td>\n",
       "      <td>0.434190</td>\n",
       "      <td>0.563560</td>\n",
       "    </tr>\n",
       "    <tr>\n",
       "      <th>3</th>\n",
       "      <td>0.301918</td>\n",
       "      <td>0.475349</td>\n",
       "      <td>0.600138</td>\n",
       "      <td>0.896251</td>\n",
       "    </tr>\n",
       "    <tr>\n",
       "      <th>4</th>\n",
       "      <td>0.234498</td>\n",
       "      <td>0.899496</td>\n",
       "      <td>0.319713</td>\n",
       "      <td>0.336876</td>\n",
       "    </tr>\n",
       "    <tr>\n",
       "      <th>5</th>\n",
       "      <td>0.705006</td>\n",
       "      <td>0.820205</td>\n",
       "      <td>0.243673</td>\n",
       "      <td>0.505414</td>\n",
       "    </tr>\n",
       "    <tr>\n",
       "      <th>6</th>\n",
       "      <td>0.435961</td>\n",
       "      <td>0.442933</td>\n",
       "      <td>1.000000</td>\n",
       "      <td>0.000000</td>\n",
       "    </tr>\n",
       "    <tr>\n",
       "      <th>7</th>\n",
       "      <td>0.224704</td>\n",
       "      <td>1.000000</td>\n",
       "      <td>0.110154</td>\n",
       "      <td>0.641517</td>\n",
       "    </tr>\n",
       "    <tr>\n",
       "      <th>8</th>\n",
       "      <td>0.000000</td>\n",
       "      <td>0.515029</td>\n",
       "      <td>0.563276</td>\n",
       "      <td>0.543733</td>\n",
       "    </tr>\n",
       "    <tr>\n",
       "      <th>9</th>\n",
       "      <td>0.415501</td>\n",
       "      <td>0.529946</td>\n",
       "      <td>0.000000</td>\n",
       "      <td>0.121319</td>\n",
       "    </tr>\n",
       "  </tbody>\n",
       "</table>\n",
       "</div>"
      ],
      "text/plain": [
       "          a         b         c         d\n",
       "0  0.378160  0.697880  0.724405  0.799334\n",
       "1  1.000000  0.625172  0.104182  1.000000\n",
       "2  0.851415  0.000000  0.434190  0.563560\n",
       "3  0.301918  0.475349  0.600138  0.896251\n",
       "4  0.234498  0.899496  0.319713  0.336876\n",
       "5  0.705006  0.820205  0.243673  0.505414\n",
       "6  0.435961  0.442933  1.000000  0.000000\n",
       "7  0.224704  1.000000  0.110154  0.641517\n",
       "8  0.000000  0.515029  0.563276  0.543733\n",
       "9  0.415501  0.529946  0.000000  0.121319"
      ]
     },
     "execution_count": 27,
     "metadata": {},
     "output_type": "execute_result"
    }
   ],
   "source": [
    "# now we want to apply the rescale function to every column in df\n",
    "for i in df.columns:\n",
    "    df[i] = rescale01(df[i])\n",
    "    \n",
    "df"
   ]
  },
  {
   "cell_type": "markdown",
   "id": "5e6de200",
   "metadata": {},
   "source": [
    "# 4. Practice<a class=\"anchor\" id=\"bullet4\"></a>\n",
    "\n",
    "Write a function that prints the mean of each numeric column in a dataframe. Use the Iris dataset."
   ]
  },
  {
   "cell_type": "code",
   "execution_count": 28,
   "id": "7ff30d13",
   "metadata": {},
   "outputs": [
    {
     "name": "stdout",
     "output_type": "stream",
     "text": [
      "<class 'sklearn.utils.Bunch'>\n",
      "<class 'pandas.core.frame.DataFrame'>\n",
      "<class 'pandas.core.frame.DataFrame'>\n"
     ]
    },
    {
     "data": {
      "text/html": [
       "<div>\n",
       "<style scoped>\n",
       "    .dataframe tbody tr th:only-of-type {\n",
       "        vertical-align: middle;\n",
       "    }\n",
       "\n",
       "    .dataframe tbody tr th {\n",
       "        vertical-align: top;\n",
       "    }\n",
       "\n",
       "    .dataframe thead th {\n",
       "        text-align: right;\n",
       "    }\n",
       "</style>\n",
       "<table border=\"1\" class=\"dataframe\">\n",
       "  <thead>\n",
       "    <tr style=\"text-align: right;\">\n",
       "      <th></th>\n",
       "      <th>sepal_length</th>\n",
       "      <th>sepal_width</th>\n",
       "      <th>petal_length</th>\n",
       "      <th>petal_width</th>\n",
       "      <th>species</th>\n",
       "    </tr>\n",
       "  </thead>\n",
       "  <tbody>\n",
       "    <tr>\n",
       "      <th>0</th>\n",
       "      <td>5.1</td>\n",
       "      <td>3.5</td>\n",
       "      <td>1.4</td>\n",
       "      <td>0.2</td>\n",
       "      <td>setosa</td>\n",
       "    </tr>\n",
       "    <tr>\n",
       "      <th>1</th>\n",
       "      <td>4.9</td>\n",
       "      <td>3.0</td>\n",
       "      <td>1.4</td>\n",
       "      <td>0.2</td>\n",
       "      <td>setosa</td>\n",
       "    </tr>\n",
       "    <tr>\n",
       "      <th>2</th>\n",
       "      <td>4.7</td>\n",
       "      <td>3.2</td>\n",
       "      <td>1.3</td>\n",
       "      <td>0.2</td>\n",
       "      <td>setosa</td>\n",
       "    </tr>\n",
       "    <tr>\n",
       "      <th>3</th>\n",
       "      <td>4.6</td>\n",
       "      <td>3.1</td>\n",
       "      <td>1.5</td>\n",
       "      <td>0.2</td>\n",
       "      <td>setosa</td>\n",
       "    </tr>\n",
       "    <tr>\n",
       "      <th>4</th>\n",
       "      <td>5.0</td>\n",
       "      <td>3.6</td>\n",
       "      <td>1.4</td>\n",
       "      <td>0.2</td>\n",
       "      <td>setosa</td>\n",
       "    </tr>\n",
       "  </tbody>\n",
       "</table>\n",
       "</div>"
      ],
      "text/plain": [
       "   sepal_length  sepal_width  petal_length  petal_width species\n",
       "0           5.1          3.5           1.4          0.2  setosa\n",
       "1           4.9          3.0           1.4          0.2  setosa\n",
       "2           4.7          3.2           1.3          0.2  setosa\n",
       "3           4.6          3.1           1.5          0.2  setosa\n",
       "4           5.0          3.6           1.4          0.2  setosa"
      ]
     },
     "execution_count": 28,
     "metadata": {},
     "output_type": "execute_result"
    }
   ],
   "source": [
    "print(type(iris0))\n",
    "print(type(iris))\n",
    "iris = sns.load_dataset(\"iris\")\n",
    "print(type(iris))\n",
    "iris.head()"
   ]
  },
  {
   "cell_type": "code",
   "execution_count": 29,
   "id": "41446b6c",
   "metadata": {},
   "outputs": [
    {
     "data": {
      "text/plain": [
       "[5.843333333333335, 3.057333333333334, 3.7580000000000027, 1.199333333333334]"
      ]
     },
     "execution_count": 29,
     "metadata": {},
     "output_type": "execute_result"
    }
   ],
   "source": [
    "## solution:\n",
    "iris_means = []\n",
    "for col in iris.columns:\n",
    "    if type(iris[col][0]) == np.float64:\n",
    "        m = np.mean(iris[col])\n",
    "        iris_means.append(m)\n",
    "        \n",
    "iris_means"
   ]
  },
  {
   "cell_type": "markdown",
   "id": "4d8c4917",
   "metadata": {},
   "source": [
    "## 5. List comprehensions<a class=\"anchor\" id=\"bullet5\"></a>"
   ]
  },
  {
   "cell_type": "markdown",
   "id": "cd67a8f0",
   "metadata": {},
   "source": [
    "List comprehensions are one concise expression that allows you to concisely form a new list either transforming or filtering the elements of a collection."
   ]
  },
  {
   "cell_type": "code",
   "execution_count": null,
   "id": "5bc755cf-abd8-4add-976c-3c4769cfea1f",
   "metadata": {},
   "outputs": [],
   "source": [
    "# structure of a list comprehension:\n",
    "[do_something for value in collection if condition]\n",
    "\n",
    "# equivalent:\n",
    "output = []\n",
    "for value in collection:\n",
    "    if condition:\n",
    "        output.append(do_something)"
   ]
  },
  {
   "cell_type": "code",
   "execution_count": 33,
   "id": "25369a0a",
   "metadata": {},
   "outputs": [
    {
     "data": {
      "text/plain": [
       "['BAT', 'CAR', 'DOVE', 'PYTHON']"
      ]
     },
     "execution_count": 33,
     "metadata": {},
     "output_type": "execute_result"
    }
   ],
   "source": [
    "# example: \n",
    "strings = [\"a\", \"as\", \"bat\", \"car\", \"dove\", \"python\"]\n",
    "[x.upper() for x in strings if len(x) > 2]"
   ]
  },
  {
   "cell_type": "code",
   "execution_count": null,
   "id": "3b5fc0d0-1a75-4e50-ab9e-3852dacbf783",
   "metadata": {},
   "outputs": [],
   "source": [
    "# structure of a dictionary comprehension:\n",
    "dict_comp = {key-expr: value-expr for value in collection if condition}"
   ]
  },
  {
   "cell_type": "code",
   "execution_count": null,
   "id": "b1fe0da5-29f9-43c6-a728-3f58f767fbd7",
   "metadata": {},
   "outputs": [],
   "source": [
    "# structure of a set comprehension:\n",
    "set_comp = {expr for value in collection if condition}"
   ]
  },
  {
   "cell_type": "markdown",
   "id": "b415c88d-cd75-43c8-b56c-211d6e5bbb6b",
   "metadata": {},
   "source": [
    "We can also use nested list comprehensions:"
   ]
  },
  {
   "cell_type": "code",
   "execution_count": 36,
   "id": "d2a956ab-5d8c-466d-b32c-8695e8655c71",
   "metadata": {},
   "outputs": [
    {
     "name": "stdout",
     "output_type": "stream",
     "text": [
      "[['Mercury', 'Venus', 'Earth'], ['Mars', 'Jupiter', 'Saturn'], ['Uranus', 'Neptune', 'Pluto']]\n",
      "['Venus', 'Earth', 'Mars', 'Pluto']\n"
     ]
    }
   ],
   "source": [
    "# 2-D List of planets\n",
    "planets = [['Mercury', 'Venus', 'Earth'], ['Mars', 'Jupiter', 'Saturn'], ['Uranus', 'Neptune', 'Pluto']]\n",
    "print(planets)\n",
    "# print(planets.shape) Doesn't work!\n",
    "\n",
    "# Nested List comprehension with an if condition\n",
    "flatten_planets = [planet for sublist in planets for planet in sublist if len(planet) < 6]\n",
    "print(flatten_planets)\n"
   ]
  },
  {
   "cell_type": "code",
   "execution_count": 37,
   "id": "b53d5d1c",
   "metadata": {},
   "outputs": [],
   "source": [
    "all_data = [[\"John\", \"Emily\", \"Michael\", \"Mary\", \"Steven\"],\n",
    "            [\"Maria\", \"Juan\", \"Javier\", \"Natalia\", \"Pilar\"]]"
   ]
  },
  {
   "cell_type": "code",
   "execution_count": 38,
   "id": "aa0559bc",
   "metadata": {},
   "outputs": [],
   "source": [
    "result = [name for name_list in all_data for name in name_list if name.count('i') >= 1]"
   ]
  },
  {
   "cell_type": "code",
   "execution_count": 39,
   "id": "2c9ac563",
   "metadata": {},
   "outputs": [
    {
     "data": {
      "text/plain": [
       "['Emily', 'Michael', 'Maria', 'Javier', 'Natalia', 'Pilar']"
      ]
     },
     "execution_count": 39,
     "metadata": {},
     "output_type": "execute_result"
    }
   ],
   "source": [
    "result"
   ]
  },
  {
   "cell_type": "code",
   "execution_count": 40,
   "id": "2f63e08a",
   "metadata": {},
   "outputs": [
    {
     "data": {
      "text/plain": [
       "['Emily', 'Michael', 'Maria', 'Javier', 'Natalia', 'Pilar']"
      ]
     },
     "execution_count": 40,
     "metadata": {},
     "output_type": "execute_result"
    }
   ],
   "source": [
    "# equivalent to this for loop:\n",
    "result2 = []\n",
    "for names in all_data:\n",
    "    for name in names:\n",
    "        if name.count('i') >= 1:\n",
    "            result2.append(name)\n",
    "result2"
   ]
  },
  {
   "cell_type": "markdown",
   "id": "9b7e682b",
   "metadata": {},
   "source": [
    "## 6. Lambda Functions<a class=\"anchor\" id=\"bullet6\"></a>"
   ]
  },
  {
   "cell_type": "markdown",
   "id": "74245e1b",
   "metadata": {},
   "source": [
    "Lambda functions, also known as anonymous functions, are short functions that dont have to be bound to a variable. Lambda functions are defined with less clarity/documentation then a standard function would have. \n",
    "\n",
    "Structure of lambda functions consists of:\n",
    "* __The Keyword__: lambda\n",
    "* __A bound variable:__ x\n",
    "* __A body:__ x + 1"
   ]
  },
  {
   "cell_type": "code",
   "execution_count": 41,
   "id": "70aeeb7e-aaef-4006-b4dc-fbdec136794f",
   "metadata": {},
   "outputs": [
    {
     "data": {
      "text/plain": [
       "3"
      ]
     },
     "execution_count": 41,
     "metadata": {},
     "output_type": "execute_result"
    }
   ],
   "source": [
    "add_one = lambda x: x + 1\n",
    "add_one(2)"
   ]
  },
  {
   "cell_type": "code",
   "execution_count": 42,
   "id": "24e8e3c8-b3a7-4321-9106-2d8b1357344f",
   "metadata": {},
   "outputs": [
    {
     "data": {
      "text/plain": [
       "3"
      ]
     },
     "execution_count": 42,
     "metadata": {},
     "output_type": "execute_result"
    }
   ],
   "source": [
    "# The above lambda function is equivalent to writing this:\n",
    "def add_one(x):\n",
    "    return x + 1\n",
    "add_one(2)"
   ]
  },
  {
   "cell_type": "code",
   "execution_count": 43,
   "id": "44c449db-d814-47f9-87ff-23baf52c91e2",
   "metadata": {},
   "outputs": [
    {
     "data": {
      "text/plain": [
       "5"
      ]
     },
     "execution_count": 43,
     "metadata": {},
     "output_type": "execute_result"
    }
   ],
   "source": [
    "(lambda x, y: x + y)(2, 3)  # we are passing 2 and 3 as x and y respectively"
   ]
  },
  {
   "cell_type": "markdown",
   "id": "26822579",
   "metadata": {},
   "source": [
    "## 7. Pandas apply with lambda functions<a class=\"anchor\" id=\"bullet7\"></a>"
   ]
  },
  {
   "cell_type": "markdown",
   "id": "24a87f91-731f-46f0-8ebb-a08fb074fcc7",
   "metadata": {},
   "source": [
    "The apply function takes in a function and applies it to all items within a series. Objects passed to the function are Series objects whose index is either the DataFrame’s index (axis=0) or the DataFrame’s columns (axis=1). Read about these functions here: [pd.DataFrame.apply](https://pandas.pydata.org/docs/reference/api/pandas.DataFrame.apply.html)"
   ]
  },
  {
   "cell_type": "code",
   "execution_count": 44,
   "id": "e010e39d",
   "metadata": {},
   "outputs": [
    {
     "data": {
      "text/html": [
       "<div>\n",
       "<style scoped>\n",
       "    .dataframe tbody tr th:only-of-type {\n",
       "        vertical-align: middle;\n",
       "    }\n",
       "\n",
       "    .dataframe tbody tr th {\n",
       "        vertical-align: top;\n",
       "    }\n",
       "\n",
       "    .dataframe thead th {\n",
       "        text-align: right;\n",
       "    }\n",
       "</style>\n",
       "<table border=\"1\" class=\"dataframe\">\n",
       "  <thead>\n",
       "    <tr style=\"text-align: right;\">\n",
       "      <th></th>\n",
       "      <th>a</th>\n",
       "      <th>b</th>\n",
       "      <th>c</th>\n",
       "      <th>d</th>\n",
       "    </tr>\n",
       "  </thead>\n",
       "  <tbody>\n",
       "    <tr>\n",
       "      <th>0</th>\n",
       "      <td>1.378160</td>\n",
       "      <td>1.697880</td>\n",
       "      <td>1.724405</td>\n",
       "      <td>1.799334</td>\n",
       "    </tr>\n",
       "    <tr>\n",
       "      <th>1</th>\n",
       "      <td>2.000000</td>\n",
       "      <td>1.625172</td>\n",
       "      <td>1.104182</td>\n",
       "      <td>2.000000</td>\n",
       "    </tr>\n",
       "    <tr>\n",
       "      <th>2</th>\n",
       "      <td>1.851415</td>\n",
       "      <td>1.000000</td>\n",
       "      <td>1.434190</td>\n",
       "      <td>1.563560</td>\n",
       "    </tr>\n",
       "    <tr>\n",
       "      <th>3</th>\n",
       "      <td>1.301918</td>\n",
       "      <td>1.475349</td>\n",
       "      <td>1.600138</td>\n",
       "      <td>1.896251</td>\n",
       "    </tr>\n",
       "    <tr>\n",
       "      <th>4</th>\n",
       "      <td>1.234498</td>\n",
       "      <td>1.899496</td>\n",
       "      <td>1.319713</td>\n",
       "      <td>1.336876</td>\n",
       "    </tr>\n",
       "    <tr>\n",
       "      <th>5</th>\n",
       "      <td>1.705006</td>\n",
       "      <td>1.820205</td>\n",
       "      <td>1.243673</td>\n",
       "      <td>1.505414</td>\n",
       "    </tr>\n",
       "    <tr>\n",
       "      <th>6</th>\n",
       "      <td>1.435961</td>\n",
       "      <td>1.442933</td>\n",
       "      <td>2.000000</td>\n",
       "      <td>1.000000</td>\n",
       "    </tr>\n",
       "    <tr>\n",
       "      <th>7</th>\n",
       "      <td>1.224704</td>\n",
       "      <td>2.000000</td>\n",
       "      <td>1.110154</td>\n",
       "      <td>1.641517</td>\n",
       "    </tr>\n",
       "    <tr>\n",
       "      <th>8</th>\n",
       "      <td>1.000000</td>\n",
       "      <td>1.515029</td>\n",
       "      <td>1.563276</td>\n",
       "      <td>1.543733</td>\n",
       "    </tr>\n",
       "    <tr>\n",
       "      <th>9</th>\n",
       "      <td>1.415501</td>\n",
       "      <td>1.529946</td>\n",
       "      <td>1.000000</td>\n",
       "      <td>1.121319</td>\n",
       "    </tr>\n",
       "  </tbody>\n",
       "</table>\n",
       "</div>"
      ],
      "text/plain": [
       "          a         b         c         d\n",
       "0  1.378160  1.697880  1.724405  1.799334\n",
       "1  2.000000  1.625172  1.104182  2.000000\n",
       "2  1.851415  1.000000  1.434190  1.563560\n",
       "3  1.301918  1.475349  1.600138  1.896251\n",
       "4  1.234498  1.899496  1.319713  1.336876\n",
       "5  1.705006  1.820205  1.243673  1.505414\n",
       "6  1.435961  1.442933  2.000000  1.000000\n",
       "7  1.224704  2.000000  1.110154  1.641517\n",
       "8  1.000000  1.515029  1.563276  1.543733\n",
       "9  1.415501  1.529946  1.000000  1.121319"
      ]
     },
     "execution_count": 44,
     "metadata": {},
     "output_type": "execute_result"
    }
   ],
   "source": [
    "df2 = df.apply(add_one) # lambda function we defined earlier\n",
    "df2"
   ]
  },
  {
   "cell_type": "code",
   "execution_count": 45,
   "id": "91850b1a",
   "metadata": {},
   "outputs": [
    {
     "data": {
      "text/html": [
       "<div>\n",
       "<style scoped>\n",
       "    .dataframe tbody tr th:only-of-type {\n",
       "        vertical-align: middle;\n",
       "    }\n",
       "\n",
       "    .dataframe tbody tr th {\n",
       "        vertical-align: top;\n",
       "    }\n",
       "\n",
       "    .dataframe thead th {\n",
       "        text-align: right;\n",
       "    }\n",
       "</style>\n",
       "<table border=\"1\" class=\"dataframe\">\n",
       "  <thead>\n",
       "    <tr style=\"text-align: right;\">\n",
       "      <th></th>\n",
       "      <th>a</th>\n",
       "      <th>b</th>\n",
       "      <th>c</th>\n",
       "      <th>d</th>\n",
       "    </tr>\n",
       "  </thead>\n",
       "  <tbody>\n",
       "    <tr>\n",
       "      <th>0</th>\n",
       "      <td>1.378160</td>\n",
       "      <td>1.697880</td>\n",
       "      <td>1.724405</td>\n",
       "      <td>1.799334</td>\n",
       "    </tr>\n",
       "    <tr>\n",
       "      <th>1</th>\n",
       "      <td>2.000000</td>\n",
       "      <td>1.625172</td>\n",
       "      <td>1.104182</td>\n",
       "      <td>2.000000</td>\n",
       "    </tr>\n",
       "    <tr>\n",
       "      <th>2</th>\n",
       "      <td>1.851415</td>\n",
       "      <td>1.000000</td>\n",
       "      <td>1.434190</td>\n",
       "      <td>1.563560</td>\n",
       "    </tr>\n",
       "    <tr>\n",
       "      <th>3</th>\n",
       "      <td>1.301918</td>\n",
       "      <td>1.475349</td>\n",
       "      <td>1.600138</td>\n",
       "      <td>1.896251</td>\n",
       "    </tr>\n",
       "    <tr>\n",
       "      <th>4</th>\n",
       "      <td>1.234498</td>\n",
       "      <td>1.899496</td>\n",
       "      <td>1.319713</td>\n",
       "      <td>1.336876</td>\n",
       "    </tr>\n",
       "    <tr>\n",
       "      <th>5</th>\n",
       "      <td>1.705006</td>\n",
       "      <td>1.820205</td>\n",
       "      <td>1.243673</td>\n",
       "      <td>1.505414</td>\n",
       "    </tr>\n",
       "    <tr>\n",
       "      <th>6</th>\n",
       "      <td>1.435961</td>\n",
       "      <td>1.442933</td>\n",
       "      <td>2.000000</td>\n",
       "      <td>1.000000</td>\n",
       "    </tr>\n",
       "    <tr>\n",
       "      <th>7</th>\n",
       "      <td>1.224704</td>\n",
       "      <td>2.000000</td>\n",
       "      <td>1.110154</td>\n",
       "      <td>1.641517</td>\n",
       "    </tr>\n",
       "    <tr>\n",
       "      <th>8</th>\n",
       "      <td>1.000000</td>\n",
       "      <td>1.515029</td>\n",
       "      <td>1.563276</td>\n",
       "      <td>1.543733</td>\n",
       "    </tr>\n",
       "    <tr>\n",
       "      <th>9</th>\n",
       "      <td>1.415501</td>\n",
       "      <td>1.529946</td>\n",
       "      <td>1.000000</td>\n",
       "      <td>1.121319</td>\n",
       "    </tr>\n",
       "  </tbody>\n",
       "</table>\n",
       "</div>"
      ],
      "text/plain": [
       "          a         b         c         d\n",
       "0  1.378160  1.697880  1.724405  1.799334\n",
       "1  2.000000  1.625172  1.104182  2.000000\n",
       "2  1.851415  1.000000  1.434190  1.563560\n",
       "3  1.301918  1.475349  1.600138  1.896251\n",
       "4  1.234498  1.899496  1.319713  1.336876\n",
       "5  1.705006  1.820205  1.243673  1.505414\n",
       "6  1.435961  1.442933  2.000000  1.000000\n",
       "7  1.224704  2.000000  1.110154  1.641517\n",
       "8  1.000000  1.515029  1.563276  1.543733\n",
       "9  1.415501  1.529946  1.000000  1.121319"
      ]
     },
     "execution_count": 45,
     "metadata": {},
     "output_type": "execute_result"
    }
   ],
   "source": [
    "df3 = df.apply(lambda x: x + 1) # add_one\n",
    "df3 # equal to df2 \n",
    "\n",
    "## the above apply-lambda function combos are applying the lambda function to every item \n",
    "## within every column of the dataframe"
   ]
  },
  {
   "cell_type": "code",
   "execution_count": 46,
   "id": "8c57a578",
   "metadata": {},
   "outputs": [
    {
     "data": {
      "text/html": [
       "<div>\n",
       "<style scoped>\n",
       "    .dataframe tbody tr th:only-of-type {\n",
       "        vertical-align: middle;\n",
       "    }\n",
       "\n",
       "    .dataframe tbody tr th {\n",
       "        vertical-align: top;\n",
       "    }\n",
       "\n",
       "    .dataframe thead th {\n",
       "        text-align: right;\n",
       "    }\n",
       "</style>\n",
       "<table border=\"1\" class=\"dataframe\">\n",
       "  <thead>\n",
       "    <tr style=\"text-align: right;\">\n",
       "      <th></th>\n",
       "      <th>a</th>\n",
       "      <th>b</th>\n",
       "      <th>c</th>\n",
       "      <th>d</th>\n",
       "    </tr>\n",
       "  </thead>\n",
       "  <tbody>\n",
       "    <tr>\n",
       "      <th>0</th>\n",
       "      <td>-1.621840</td>\n",
       "      <td>0.697880</td>\n",
       "      <td>0.724405</td>\n",
       "      <td>0.799334</td>\n",
       "    </tr>\n",
       "    <tr>\n",
       "      <th>1</th>\n",
       "      <td>-1.000000</td>\n",
       "      <td>0.625172</td>\n",
       "      <td>0.104182</td>\n",
       "      <td>1.000000</td>\n",
       "    </tr>\n",
       "    <tr>\n",
       "      <th>2</th>\n",
       "      <td>-1.148585</td>\n",
       "      <td>0.000000</td>\n",
       "      <td>0.434190</td>\n",
       "      <td>0.563560</td>\n",
       "    </tr>\n",
       "    <tr>\n",
       "      <th>3</th>\n",
       "      <td>-1.698082</td>\n",
       "      <td>0.475349</td>\n",
       "      <td>0.600138</td>\n",
       "      <td>0.896251</td>\n",
       "    </tr>\n",
       "    <tr>\n",
       "      <th>4</th>\n",
       "      <td>-1.765502</td>\n",
       "      <td>0.899496</td>\n",
       "      <td>0.319713</td>\n",
       "      <td>0.336876</td>\n",
       "    </tr>\n",
       "    <tr>\n",
       "      <th>5</th>\n",
       "      <td>-1.294994</td>\n",
       "      <td>0.820205</td>\n",
       "      <td>0.243673</td>\n",
       "      <td>0.505414</td>\n",
       "    </tr>\n",
       "    <tr>\n",
       "      <th>6</th>\n",
       "      <td>-1.564039</td>\n",
       "      <td>0.442933</td>\n",
       "      <td>1.000000</td>\n",
       "      <td>0.000000</td>\n",
       "    </tr>\n",
       "    <tr>\n",
       "      <th>7</th>\n",
       "      <td>-1.775296</td>\n",
       "      <td>1.000000</td>\n",
       "      <td>0.110154</td>\n",
       "      <td>0.641517</td>\n",
       "    </tr>\n",
       "    <tr>\n",
       "      <th>8</th>\n",
       "      <td>-2.000000</td>\n",
       "      <td>0.515029</td>\n",
       "      <td>0.563276</td>\n",
       "      <td>0.543733</td>\n",
       "    </tr>\n",
       "    <tr>\n",
       "      <th>9</th>\n",
       "      <td>-1.584499</td>\n",
       "      <td>0.529946</td>\n",
       "      <td>0.000000</td>\n",
       "      <td>0.121319</td>\n",
       "    </tr>\n",
       "  </tbody>\n",
       "</table>\n",
       "</div>"
      ],
      "text/plain": [
       "          a         b         c         d\n",
       "0 -1.621840  0.697880  0.724405  0.799334\n",
       "1 -1.000000  0.625172  0.104182  1.000000\n",
       "2 -1.148585  0.000000  0.434190  0.563560\n",
       "3 -1.698082  0.475349  0.600138  0.896251\n",
       "4 -1.765502  0.899496  0.319713  0.336876\n",
       "5 -1.294994  0.820205  0.243673  0.505414\n",
       "6 -1.564039  0.442933  1.000000  0.000000\n",
       "7 -1.775296  1.000000  0.110154  0.641517\n",
       "8 -2.000000  0.515029  0.563276  0.543733\n",
       "9 -1.584499  0.529946  0.000000  0.121319"
      ]
     },
     "execution_count": 46,
     "metadata": {},
     "output_type": "execute_result"
    }
   ],
   "source": [
    "# to apply a lambda function to only one column:\n",
    "df['a'] = df['a'].apply(lambda x: x-2)\n",
    "df"
   ]
  },
  {
   "cell_type": "markdown",
   "id": "bf75cada",
   "metadata": {},
   "source": [
    "## 8. Nested functions <a class=\"anchor\" id=\"bullet8\"></a>"
   ]
  },
  {
   "cell_type": "code",
   "execution_count": 47,
   "id": "95f0dcd1",
   "metadata": {},
   "outputs": [
    {
     "data": {
      "text/html": [
       "<div>\n",
       "<style scoped>\n",
       "    .dataframe tbody tr th:only-of-type {\n",
       "        vertical-align: middle;\n",
       "    }\n",
       "\n",
       "    .dataframe tbody tr th {\n",
       "        vertical-align: top;\n",
       "    }\n",
       "\n",
       "    .dataframe thead th {\n",
       "        text-align: right;\n",
       "    }\n",
       "</style>\n",
       "<table border=\"1\" class=\"dataframe\">\n",
       "  <thead>\n",
       "    <tr style=\"text-align: right;\">\n",
       "      <th></th>\n",
       "      <th>a</th>\n",
       "      <th>b</th>\n",
       "      <th>c</th>\n",
       "      <th>d</th>\n",
       "    </tr>\n",
       "  </thead>\n",
       "  <tbody>\n",
       "    <tr>\n",
       "      <th>0</th>\n",
       "      <td>-0.757929</td>\n",
       "      <td>0.295862</td>\n",
       "      <td>0.417556</td>\n",
       "      <td>1.167163</td>\n",
       "    </tr>\n",
       "    <tr>\n",
       "      <th>1</th>\n",
       "      <td>0.807697</td>\n",
       "      <td>0.019923</td>\n",
       "      <td>-1.726416</td>\n",
       "      <td>1.767645</td>\n",
       "    </tr>\n",
       "    <tr>\n",
       "      <th>2</th>\n",
       "      <td>0.433601</td>\n",
       "      <td>-2.352702</td>\n",
       "      <td>-0.585652</td>\n",
       "      <td>0.461624</td>\n",
       "    </tr>\n",
       "    <tr>\n",
       "      <th>3</th>\n",
       "      <td>-0.949885</td>\n",
       "      <td>-0.548677</td>\n",
       "      <td>-0.012005</td>\n",
       "      <td>1.457183</td>\n",
       "    </tr>\n",
       "    <tr>\n",
       "      <th>4</th>\n",
       "      <td>-1.119631</td>\n",
       "      <td>1.061025</td>\n",
       "      <td>-0.981373</td>\n",
       "      <td>-0.216714</td>\n",
       "    </tr>\n",
       "    <tr>\n",
       "      <th>5</th>\n",
       "      <td>0.064981</td>\n",
       "      <td>0.760106</td>\n",
       "      <td>-1.244226</td>\n",
       "      <td>0.287626</td>\n",
       "    </tr>\n",
       "    <tr>\n",
       "      <th>6</th>\n",
       "      <td>-0.612400</td>\n",
       "      <td>-0.671701</td>\n",
       "      <td>1.370228</td>\n",
       "      <td>-1.224794</td>\n",
       "    </tr>\n",
       "    <tr>\n",
       "      <th>7</th>\n",
       "      <td>-1.144289</td>\n",
       "      <td>1.442454</td>\n",
       "      <td>-1.705773</td>\n",
       "      <td>0.694906</td>\n",
       "    </tr>\n",
       "    <tr>\n",
       "      <th>8</th>\n",
       "      <td>-1.710033</td>\n",
       "      <td>-0.398088</td>\n",
       "      <td>-0.139430</td>\n",
       "      <td>0.402294</td>\n",
       "    </tr>\n",
       "    <tr>\n",
       "      <th>9</th>\n",
       "      <td>-0.663915</td>\n",
       "      <td>-0.341473</td>\n",
       "      <td>-2.086549</td>\n",
       "      <td>-0.861754</td>\n",
       "    </tr>\n",
       "  </tbody>\n",
       "</table>\n",
       "</div>"
      ],
      "text/plain": [
       "          a         b         c         d\n",
       "0 -0.757929  0.295862  0.417556  1.167163\n",
       "1  0.807697  0.019923 -1.726416  1.767645\n",
       "2  0.433601 -2.352702 -0.585652  0.461624\n",
       "3 -0.949885 -0.548677 -0.012005  1.457183\n",
       "4 -1.119631  1.061025 -0.981373 -0.216714\n",
       "5  0.064981  0.760106 -1.244226  0.287626\n",
       "6 -0.612400 -0.671701  1.370228 -1.224794\n",
       "7 -1.144289  1.442454 -1.705773  0.694906\n",
       "8 -1.710033 -0.398088 -0.139430  0.402294\n",
       "9 -0.663915 -0.341473 -2.086549 -0.861754"
      ]
     },
     "execution_count": 47,
     "metadata": {},
     "output_type": "execute_result"
    }
   ],
   "source": [
    "rng = np.random.default_rng(seed=3252)\n",
    "\n",
    "a = rng.standard_normal(10)\n",
    "b = rng.standard_normal(10)\n",
    "c = rng.standard_normal(10)\n",
    "d = rng.standard_normal(10)\n",
    "\n",
    "the_dict = {'a':a,'b':b,'c':c,'d':d}\n",
    "\n",
    "df = pd.DataFrame(the_dict)\n",
    "df"
   ]
  },
  {
   "cell_type": "code",
   "execution_count": 48,
   "id": "4b463fdc",
   "metadata": {},
   "outputs": [
    {
     "data": {
      "text/plain": [
       "[-0.5651802647782048,\n",
       " -0.07332713554716727,\n",
       " -0.6693640830516738,\n",
       " 0.3935178923880054]"
      ]
     },
     "execution_count": 48,
     "metadata": {},
     "output_type": "execute_result"
    }
   ],
   "source": [
    "# column means with a for loop:\n",
    "output = []\n",
    "\n",
    "for i in df.columns:\n",
    "    mean = np.mean(df[i])\n",
    "    output.append(mean)\n",
    "    \n",
    "output"
   ]
  },
  {
   "cell_type": "code",
   "execution_count": 49,
   "id": "3eaae59c",
   "metadata": {},
   "outputs": [],
   "source": [
    "# what if we wanted to return multiple things at once? We can return a list object \n",
    "# which holds each thing we want to return\n",
    "\n",
    "def col_mean(df):\n",
    "    \n",
    "    n = df.shape[0]\n",
    "    \n",
    "    output = []\n",
    "    for i in df.columns:\n",
    "        output.append(np.mean(df[i]))\n",
    "    return [n, output]"
   ]
  },
  {
   "cell_type": "code",
   "execution_count": 50,
   "id": "785669d2",
   "metadata": {},
   "outputs": [
    {
     "data": {
      "text/plain": [
       "[10,\n",
       " [-0.5651802647782048,\n",
       "  -0.07332713554716727,\n",
       "  -0.6693640830516738,\n",
       "  0.3935178923880054]]"
      ]
     },
     "execution_count": 50,
     "metadata": {},
     "output_type": "execute_result"
    }
   ],
   "source": [
    "col_mean(df)"
   ]
  },
  {
   "cell_type": "code",
   "execution_count": 51,
   "id": "cda6bce6-0c5a-432c-b2f7-3a76a93fc1e6",
   "metadata": {},
   "outputs": [
    {
     "data": {
      "text/plain": [
       "[     sepal_length  sepal_width  petal_length  petal_width    species\n",
       " 0             5.1          3.5           1.4          0.2     setosa\n",
       " 1             4.9          3.0           1.4          0.2     setosa\n",
       " 2             4.7          3.2           1.3          0.2     setosa\n",
       " 3             4.6          3.1           1.5          0.2     setosa\n",
       " 4             5.0          3.6           1.4          0.2     setosa\n",
       " ..            ...          ...           ...          ...        ...\n",
       " 145           6.7          3.0           5.2          2.3  virginica\n",
       " 146           6.3          2.5           5.0          1.9  virginica\n",
       " 147           6.5          3.0           5.2          2.0  virginica\n",
       " 148           6.2          3.4           5.4          2.3  virginica\n",
       " 149           5.9          3.0           5.1          1.8  virginica\n",
       " \n",
       " [150 rows x 5 columns],\n",
       " 0,\n",
       " 1,\n",
       " 2]"
      ]
     },
     "execution_count": 51,
     "metadata": {},
     "output_type": "execute_result"
    }
   ],
   "source": [
    "# Note: You can even return an entire dataset as one element of a list!\n",
    "x = [iris, 0, 1, 2]\n",
    "x"
   ]
  },
  {
   "cell_type": "markdown",
   "id": "9e3c3dde-78c0-4d89-b40c-5793b802e4c2",
   "metadata": {},
   "source": [
    "You can even pass a function as an argument to another function:"
   ]
  },
  {
   "cell_type": "code",
   "execution_count": 52,
   "id": "e7fbf44d",
   "metadata": {},
   "outputs": [],
   "source": [
    "def col_median(df):\n",
    "    output = []\n",
    "    for i in df.columns:\n",
    "        output.append(np.median(df[i]))\n",
    "    return output\n",
    "\n",
    "def col_std(df):\n",
    "    output = []\n",
    "    for i in df.columns:\n",
    "        output.append(np.std(df[i]))\n",
    "    return output"
   ]
  },
  {
   "cell_type": "code",
   "execution_count": 53,
   "id": "cf5a795a",
   "metadata": {},
   "outputs": [],
   "source": [
    "# But, we can make this better through functional programming and the DRY principle\n",
    "\n",
    "def col_computations(func, df):\n",
    "    output = []\n",
    "    for i in df.columns:\n",
    "        computation = func(df[i])\n",
    "        output.append(computation)\n",
    "    return output"
   ]
  },
  {
   "cell_type": "code",
   "execution_count": 54,
   "id": "995fba25",
   "metadata": {},
   "outputs": [
    {
     "data": {
      "text/plain": [
       "[-0.5651802647782048,\n",
       " -0.07332713554716727,\n",
       " -0.6693640830516738,\n",
       " 0.3935178923880054]"
      ]
     },
     "execution_count": 54,
     "metadata": {},
     "output_type": "execute_result"
    }
   ],
   "source": [
    "col_computations(np.mean, df)"
   ]
  },
  {
   "cell_type": "code",
   "execution_count": 55,
   "id": "18897f4f",
   "metadata": {},
   "outputs": [
    {
     "data": {
      "text/plain": [
       "[-0.7109216792484936,\n",
       " -0.1607751802165395,\n",
       " -0.7835127395579766,\n",
       " 0.43195930703839136]"
      ]
     },
     "execution_count": 55,
     "metadata": {},
     "output_type": "execute_result"
    }
   ],
   "source": [
    "col_computations(np.median, df)"
   ]
  },
  {
   "cell_type": "code",
   "execution_count": 56,
   "id": "ffaaf37c",
   "metadata": {},
   "outputs": [
    {
     "data": {
      "text/plain": [
       "[0.7368890274704306, 1.018866356682112, 1.0338772433992203, 0.9105999606403393]"
      ]
     },
     "execution_count": 56,
     "metadata": {},
     "output_type": "execute_result"
    }
   ],
   "source": [
    "col_computations(np.std, df)"
   ]
  },
  {
   "cell_type": "markdown",
   "id": "69a8c2af-9978-4867-8ee9-3c03d015d87f",
   "metadata": {},
   "source": [
    "## 9. While loops <a class=\"anchor\" id=\"bullet9\"></a>"
   ]
  },
  {
   "cell_type": "markdown",
   "id": "4e7a9e4f-fd65-4ab5-9414-0ba867417e64",
   "metadata": {},
   "source": [
    "A while loop allows you to repeat one or more actions while a condition remains True. The syntax is highly similar to a for loop."
   ]
  },
  {
   "cell_type": "code",
   "execution_count": 57,
   "id": "20e5c164-7e57-4277-936d-7fa0fe46067c",
   "metadata": {},
   "outputs": [
    {
     "name": "stdout",
     "output_type": "stream",
     "text": [
      "3\n",
      "6\n",
      "12\n",
      "24\n",
      "48\n"
     ]
    }
   ],
   "source": [
    "product = 3\n",
    "while product <= 50:\n",
    "    print(product)\n",
    "    product = product * 2  "
   ]
  },
  {
   "cell_type": "markdown",
   "id": "d1d5a757-8751-4135-9449-418f2e73f749",
   "metadata": {},
   "source": [
    "## 10. Handling Exceptions <a class=\"anchor\" id=\"bullet10\"></a>"
   ]
  },
  {
   "cell_type": "markdown",
   "id": "fecd6d91-c4a1-4ca9-9176-174c570a8a82",
   "metadata": {},
   "source": [
    "An exception is an event, which occurs during the execution of a program that __disrupts the normal flow of the program's instructions.__ In general, when a Python script encounters a situation that it cannot cope with, it raises an exception. __An exception is a Python object that represents an error.__"
   ]
  },
  {
   "cell_type": "code",
   "execution_count": null,
   "id": "08631f20-0e27-424d-b225-cf2b89d3a0e6",
   "metadata": {},
   "outputs": [],
   "source": [
    "# An example: \n",
    "10 / 0"
   ]
  },
  {
   "cell_type": "markdown",
   "id": "c50e6f99-5bd1-4b4b-92b7-ba4c53896108",
   "metadata": {},
   "source": [
    "If exceptions occur, they can create run-time errors for your programs which cause them to crash. Below, we will learn how to handle exceptions like a developer!"
   ]
  },
  {
   "cell_type": "markdown",
   "id": "e0fffe03-ba86-41b8-88fc-0a7c66b1f83c",
   "metadata": {},
   "source": [
    "There are four statements/blocks/clauses that Python has for handling exceptions:\n",
    "* __try block:__ The `try` block lets you test a block of code for errors.\n",
    "* __except block:__ The `except` block lets you handle the error.\n",
    "* __else block:__ The `else` block lets you execute code when there is no error.\n",
    "* __finally block:__ The `finally` block lets you execute code, regardless of the result of the try- and except blocks."
   ]
  },
  {
   "cell_type": "code",
   "execution_count": 8,
   "id": "bf6a6cf4-f9e1-4ab4-9f3f-8ae4cef0e60e",
   "metadata": {},
   "outputs": [
    {
     "name": "stdout",
     "output_type": "stream",
     "text": [
      "Enter numerator: 6\n",
      "Enter denominator: 2\n",
      " 6.000 /  2.000 =  3.000\n"
     ]
    }
   ],
   "source": [
    "\"\"\" Simple exception handling example \"\"\"\n",
    "while True:\n",
    "    \n",
    "    #attempt to convert and divide\n",
    "    try:\n",
    "        num1 = int(input('Enter numerator: '))\n",
    "        num2 = int(input('Enter denominator: '))\n",
    "        result = num1 / num2\n",
    "        \n",
    "    except ValueError:  # if the user inputs a non-numeric argument, raise an exception\n",
    "        print('You must enter two integers\\n')\n",
    "    except ZeroDivisionError:  # if the denom is 0, raise an exception\n",
    "        print('Attempted to divide by zero\\n')\n",
    "    else: #executes only if no exceptions occur\n",
    "        print(f'{num1: .3f} / {num2: .3f} = {result: .3f}')\n",
    "        break "
   ]
  },
  {
   "cell_type": "code",
   "execution_count": 12,
   "id": "99409be7",
   "metadata": {},
   "outputs": [
    {
     "name": "stdout",
     "output_type": "stream",
     "text": [
      "Enter numerator: 2\n",
      "Enter denominator: 1\n",
      " 2.000 /  1.000 =  2.000\n"
     ]
    }
   ],
   "source": [
    "\"\"\" Simple exception handling example \"\"\"\n",
    "while True:\n",
    "    \n",
    "    #attempt to convert and divide\n",
    "    try:\n",
    "        num1 = int(input('Enter numerator: '))\n",
    "        num2 = int(input('Enter denominator: '))\n",
    "        result = num1 / num2\n",
    "        \n",
    "    except ValueError:  # if the user inputs a non-numeric argument, raise an exception\n",
    "        print('You must enter two integers\\n')\n",
    "    except ZeroDivisionError:  # if the denom is 0, raise an exception\n",
    "        print('Attempted to divide by zero\\n')\n",
    "    else: #executes only if no exceptions occur\n",
    "        print(f'{num1: .3f} / {num2: .3f} = {result: .3f}')\n",
    "    finally:\n",
    "        break "
   ]
  },
  {
   "cell_type": "markdown",
   "id": "232a1639-59e5-405a-a22f-3f1124467c01",
   "metadata": {},
   "source": [
    "## 11. Docustrings <a class=\"anchor\" id=\"bullet11\"></a>"
   ]
  },
  {
   "cell_type": "markdown",
   "id": "b4f8444a-4f84-49fd-a08e-1f076efd2a84",
   "metadata": {},
   "source": [
    "Please see the pdf document \"Writing_Functions_chapter1.pdf\" different formatting guidelines for docustrings. In this class, we won't use docustrings too much, but where we do use them we will use Google Style as the example below shows. "
   ]
  },
  {
   "cell_type": "code",
   "execution_count": 3,
   "id": "4ae0d6f7-d88e-455b-91db-132715d265ff",
   "metadata": {},
   "outputs": [],
   "source": [
    "def create_docustring(arg_1, arg_2=42):\n",
    "    \"\"\"Description of what the function does.\n",
    "    \n",
    "    Args:\n",
    "        arg_1 (str): Description of arg_1 that can break onto the next line\n",
    "            if needed.\n",
    "        arg_2 (int, optional): Write optional when an argument has a default\n",
    "            value.\n",
    "            \n",
    "    Returns:\n",
    "        bool: Optional description of the return value\n",
    "        \n",
    "    \"\"\""
   ]
  },
  {
   "cell_type": "code",
   "execution_count": 4,
   "id": "10db08d7-c7e3-41e3-94eb-746090c620c8",
   "metadata": {},
   "outputs": [
    {
     "data": {
      "text/plain": [
       "\u001b[1;31mSignature:\u001b[0m \u001b[0mcreate_docustring\u001b[0m\u001b[1;33m(\u001b[0m\u001b[0marg_1\u001b[0m\u001b[1;33m,\u001b[0m \u001b[0marg_2\u001b[0m\u001b[1;33m=\u001b[0m\u001b[1;36m42\u001b[0m\u001b[1;33m)\u001b[0m\u001b[1;33m\u001b[0m\u001b[1;33m\u001b[0m\u001b[0m\n",
       "\u001b[1;31mDocstring:\u001b[0m\n",
       "Description of what the function does.\n",
       "\n",
       "Args:\n",
       "    arg_1 (str): Description of arg_1 that can break onto the next line\n",
       "        if needed.\n",
       "    arg_2 (int, optional): Write optional when an argument has a default\n",
       "        value.\n",
       "        \n",
       "Returns:\n",
       "    bool: Optional description of the return value\n",
       "    \n",
       "\u001b[1;31mFile:\u001b[0m      c:\\users\\nicka\\appdata\\local\\temp\\ipykernel_20956\\2713870796.py\n",
       "\u001b[1;31mType:\u001b[0m      function\n"
      ]
     },
     "metadata": {},
     "output_type": "display_data"
    }
   ],
   "source": [
    "# Use the \"?\" followed by the function name to access the function's docustrings\n",
    "?create_docustring"
   ]
  },
  {
   "cell_type": "code",
   "execution_count": 5,
   "id": "f772e513-f9a8-44de-a8d3-4da04a8e517c",
   "metadata": {},
   "outputs": [
    {
     "name": "stdout",
     "output_type": "stream",
     "text": [
      "Help on function create_docustring in module __main__:\n",
      "\n",
      "create_docustring(arg_1, arg_2=42)\n",
      "    Description of what the function does.\n",
      "    \n",
      "    Args:\n",
      "        arg_1 (str): Description of arg_1 that can break onto the next line\n",
      "            if needed.\n",
      "        arg_2 (int, optional): Write optional when an argument has a default\n",
      "            value.\n",
      "            \n",
      "    Returns:\n",
      "        bool: Optional description of the return value\n",
      "\n"
     ]
    }
   ],
   "source": [
    "# An alternative\n",
    "help(create_docustring)"
   ]
  },
  {
   "cell_type": "code",
   "execution_count": null,
   "id": "be18d816-4752-40d2-8076-e5a9f2acc189",
   "metadata": {},
   "outputs": [],
   "source": []
  }
 ],
 "metadata": {
  "kernelspec": {
   "display_name": "Python 3 (ipykernel)",
   "language": "python",
   "name": "python3"
  },
  "language_info": {
   "codemirror_mode": {
    "name": "ipython",
    "version": 3
   },
   "file_extension": ".py",
   "mimetype": "text/x-python",
   "name": "python",
   "nbconvert_exporter": "python",
   "pygments_lexer": "ipython3",
   "version": "3.9.13"
  }
 },
 "nbformat": 4,
 "nbformat_minor": 5
}
