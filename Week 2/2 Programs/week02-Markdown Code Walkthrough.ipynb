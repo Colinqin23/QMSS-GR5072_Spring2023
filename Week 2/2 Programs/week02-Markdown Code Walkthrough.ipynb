{
 "cells": [
  {
   "cell_type": "markdown",
   "id": "7f07a292",
   "metadata": {},
   "source": [
    "# Week 2: Ultimate Markdown Guide"
   ]
  },
  {
   "cell_type": "markdown",
   "id": "e2329d02",
   "metadata": {},
   "source": [
    "### Table of Contents"
   ]
  },
  {
   "cell_type": "code",
   "execution_count": 1,
   "id": "0c46a6eb",
   "metadata": {},
   "outputs": [],
   "source": [
    "## hyperlinks not working"
   ]
  },
  {
   "cell_type": "markdown",
   "id": "a66d337c",
   "metadata": {},
   "source": [
    "* [Headings](#bullet1)\n",
    "* [Text Emphasis](#bullet2)\n",
    "* [Backslash Escape](#bullet3)\n",
    "* [Paragraphs](#bullet4)\n",
    "* [Line Break](#bullet5)\n",
    "* [Blockquotes](#bullet6)\n",
    "* [Horizontal Line](#bullet7)\n",
    "* [Ordered List](#bullet8)\n",
    "* [Unordered List](#bullet9)\n",
    "* [Graphics](#bullet10)\n",
    "* [Hyperlinks](#bullet11)\n",
    "* [Task Lists](#bullet12)\n",
    "* [Code Section](#bullet13)\n",
    "* [Table](#bullet14)\n",
    "* [Inline HTML](#bullet15)\n",
    "* [LaTeX Math](#bullet16)\n",
    "* [Geometric Shapes](#bullet17)"
   ]
  },
  {
   "cell_type": "markdown",
   "id": "90c1531e",
   "metadata": {},
   "source": [
    "## 1. Headings"
   ]
  },
  {
   "cell_type": "code",
   "execution_count": 2,
   "id": "a98558e3",
   "metadata": {},
   "outputs": [],
   "source": [
    "# each header beings with a certain number of #s"
   ]
  },
  {
   "cell_type": "markdown",
   "id": "e224f129",
   "metadata": {},
   "source": [
    "# Header 1\n",
    "## Header 2\n",
    "### Header 3\n",
    "#### Header 4\n",
    "##### Header 5\n",
    "###### Header 6"
   ]
  },
  {
   "cell_type": "markdown",
   "id": "47b25feb",
   "metadata": {},
   "source": [
    "## 2. Text Emphasis"
   ]
  },
  {
   "cell_type": "markdown",
   "id": "be3dc681",
   "metadata": {},
   "source": [
    "**This is bold text**  \n",
    "__This is bold text__"
   ]
  },
  {
   "cell_type": "markdown",
   "id": "2d5c88aa",
   "metadata": {},
   "source": [
    "*This is italic text*  \n",
    "_This is italic text_"
   ]
  },
  {
   "cell_type": "markdown",
   "id": "93b549dd",
   "metadata": {},
   "source": [
    "***Bold and Italic***  \n",
    "___Bold and Italic___"
   ]
  },
  {
   "cell_type": "markdown",
   "id": "08ae8ba0",
   "metadata": {},
   "source": [
    "~~Strikethrough~~"
   ]
  },
  {
   "cell_type": "markdown",
   "id": "1e4ffbcd",
   "metadata": {},
   "source": [
    "## 3. Backslash Escape"
   ]
  },
  {
   "cell_type": "markdown",
   "id": "76ba6bea",
   "metadata": {},
   "source": [
    "\"Backslash Escape prevents Markdown from interpreting a character as an instruction, rather than as the character itself.\" - *Ultimate Markdown Guide*"
   ]
  },
  {
   "cell_type": "code",
   "execution_count": 3,
   "id": "299efb91",
   "metadata": {},
   "outputs": [],
   "source": [
    "# to use characters such as #, use a \\ before"
   ]
  },
  {
   "cell_type": "markdown",
   "id": "bdf11f00",
   "metadata": {},
   "source": [
    "\\# Not a header"
   ]
  },
  {
   "cell_type": "markdown",
   "id": "1593883b",
   "metadata": {},
   "source": [
    "## 4. Paragraphs"
   ]
  },
  {
   "cell_type": "code",
   "execution_count": 4,
   "id": "05dfd734",
   "metadata": {},
   "outputs": [],
   "source": [
    "# just type!"
   ]
  },
  {
   "cell_type": "markdown",
   "id": "eb7d0918",
   "metadata": {},
   "source": [
    "Hello World!\n",
    "We are learning Markdown."
   ]
  },
  {
   "cell_type": "markdown",
   "id": "2490068c",
   "metadata": {},
   "source": [
    "## 5. Line Break"
   ]
  },
  {
   "cell_type": "markdown",
   "id": "dd3f4e12",
   "metadata": {},
   "source": [
    "- To force a line break, put 2+ empty spaces at the end of a line."
   ]
  },
  {
   "cell_type": "markdown",
   "id": "e68f0571",
   "metadata": {},
   "source": [
    "Some text  \n",
    "Some more text"
   ]
  },
  {
   "cell_type": "markdown",
   "id": "251e2aa0",
   "metadata": {},
   "source": [
    "## 6. Blockquotes"
   ]
  },
  {
   "cell_type": "markdown",
   "id": "ca7e31a1",
   "metadata": {},
   "source": [
    "> This is a blockquote"
   ]
  },
  {
   "cell_type": "markdown",
   "id": "95e1f5ba",
   "metadata": {},
   "source": [
    "For instance, blockquotes are used to showcase a quote from some text."
   ]
  },
  {
   "cell_type": "markdown",
   "id": "68209f1d",
   "metadata": {},
   "source": [
    "### Nested Block Quoting"
   ]
  },
  {
   "cell_type": "markdown",
   "id": "58344d57",
   "metadata": {},
   "source": [
    "> some text\n",
    ">> and then some more text\n",
    ">>> and then some more"
   ]
  },
  {
   "cell_type": "markdown",
   "id": "52f04300",
   "metadata": {},
   "source": [
    "## 7. Horizontal Line"
   ]
  },
  {
   "cell_type": "markdown",
   "id": "3522e9d1",
   "metadata": {},
   "source": [
    "---\n",
    "___\n",
    "***"
   ]
  },
  {
   "cell_type": "markdown",
   "id": "84d6f3ee",
   "metadata": {},
   "source": [
    "## 8. Ordered List"
   ]
  },
  {
   "cell_type": "markdown",
   "id": "e4609220",
   "metadata": {},
   "source": [
    "1. Cheese\n",
    "2. Carrot\n",
    "3. Coconut"
   ]
  },
  {
   "cell_type": "markdown",
   "id": "8161cd0d",
   "metadata": {},
   "source": [
    "## 9. Unordered List"
   ]
  },
  {
   "cell_type": "markdown",
   "id": "17e956dd",
   "metadata": {},
   "source": [
    "- Cheese\n",
    "- Carrot\n",
    "- Coconut"
   ]
  },
  {
   "cell_type": "markdown",
   "id": "8301a724",
   "metadata": {},
   "source": [
    "## 10. Graphics"
   ]
  },
  {
   "cell_type": "markdown",
   "id": "9f6b411c",
   "metadata": {},
   "source": [
    "- Note: can also drag and drop images into Markdown cell"
   ]
  },
  {
   "cell_type": "markdown",
   "id": "fda7820b",
   "metadata": {},
   "source": [
    "![](https://www.python.org/static/community_logos/python-logo-master-v3-TM.png)"
   ]
  },
  {
   "cell_type": "markdown",
   "id": "da416dd5",
   "metadata": {},
   "source": [
    "![][some-id]\n",
    "\n",
    "[some-id]: https://www.python.org/static/community_logos/python-logo-master-v3-TM.png \"Python Logo\""
   ]
  },
  {
   "cell_type": "markdown",
   "id": "c1727b8c",
   "metadata": {},
   "source": [
    "## 11. Hyperlinks"
   ]
  },
  {
   "cell_type": "markdown",
   "id": "4b86882e",
   "metadata": {},
   "source": [
    "#### Automatic Links"
   ]
  },
  {
   "cell_type": "markdown",
   "id": "0528ec17",
   "metadata": {},
   "source": [
    "https://en.wikipedia.org"
   ]
  },
  {
   "cell_type": "markdown",
   "id": "da164f6a",
   "metadata": {},
   "source": [
    "#### Standard Links"
   ]
  },
  {
   "cell_type": "markdown",
   "id": "5312bbd3",
   "metadata": {},
   "source": [
    "[click me](https://en.wikipedia.org)"
   ]
  },
  {
   "cell_type": "markdown",
   "id": "882069d3",
   "metadata": {},
   "source": [
    "#### Standard Links with mouse-over titles"
   ]
  },
  {
   "cell_type": "markdown",
   "id": "7e59ab69",
   "metadata": {},
   "source": [
    "[click me](https://en.wikipedia.org \"Wikipedia\")"
   ]
  },
  {
   "cell_type": "markdown",
   "id": "504a66ab",
   "metadata": {},
   "source": [
    "#### Reference-Style links"
   ]
  },
  {
   "cell_type": "code",
   "execution_count": null,
   "id": "45cd612e",
   "metadata": {},
   "outputs": [],
   "source": [
    "# not working?"
   ]
  },
  {
   "cell_type": "markdown",
   "id": "555ce1d8",
   "metadata": {},
   "source": [
    "This is [a reference][id]\n",
    "[id]: https://en.wikipedia.org \"Wikipedia\""
   ]
  },
  {
   "cell_type": "markdown",
   "id": "ef0ac927",
   "metadata": {},
   "source": [
    "This is [a reference][]\n",
    "[a reference]: https://en.wikipedia.org \"Wikipedia\""
   ]
  },
  {
   "cell_type": "markdown",
   "id": "e876b30b",
   "metadata": {},
   "source": [
    "#### Anchor Links "
   ]
  },
  {
   "cell_type": "markdown",
   "id": "0cc4b14b",
   "metadata": {},
   "source": [
    "\"An anchor link is a link on a page that brings you to a specific place on that page.\" - *Ultimate Markdown Guide*"
   ]
  },
  {
   "cell_type": "markdown",
   "id": "ffd107df",
   "metadata": {},
   "source": [
    "Technique 1:"
   ]
  },
  {
   "cell_type": "markdown",
   "id": "a4265d77",
   "metadata": {},
   "source": [
    "<a id=\"id\"></a>\n",
    "[Technique 1](#id)"
   ]
  },
  {
   "cell_type": "markdown",
   "id": "97eee917",
   "metadata": {},
   "source": [
    "Technqiue 2:"
   ]
  },
  {
   "cell_type": "markdown",
   "id": "337cda01",
   "metadata": {},
   "source": [
    "[Top](#Week-2:-Ultimate-Markdown-Guide)"
   ]
  },
  {
   "cell_type": "markdown",
   "id": "08bec66d",
   "metadata": {},
   "source": [
    "## 12. Task Lists"
   ]
  },
  {
   "cell_type": "markdown",
   "id": "0033f740",
   "metadata": {},
   "source": [
    "- [x] Some task\n",
    "- [ ] Some more task"
   ]
  },
  {
   "cell_type": "markdown",
   "id": "327dd128",
   "metadata": {},
   "source": [
    "## 13. Code Section"
   ]
  },
  {
   "cell_type": "markdown",
   "id": "6e20508e",
   "metadata": {},
   "source": [
    "`some piece of inline code`\n",
    "```\n",
    "some piece of block code\n",
    "```\n",
    " "
   ]
  },
  {
   "cell_type": "markdown",
   "id": "56cc9323",
   "metadata": {},
   "source": [
    "`var = 15`"
   ]
  },
  {
   "cell_type": "markdown",
   "id": "8970d56c",
   "metadata": {},
   "source": [
    "```\n",
    "lst = [2, 3, 4, 5, 6]\n",
    "\n",
    "for i in lst:\n",
    "    if var % i == 0:\n",
    "    lst.remove(i)\n",
    "```"
   ]
  },
  {
   "cell_type": "code",
   "execution_count": null,
   "id": "a922ade7",
   "metadata": {},
   "outputs": [],
   "source": [
    "# syntax highlighting:"
   ]
  },
  {
   "cell_type": "markdown",
   "id": "6d185a2b",
   "metadata": {},
   "source": [
    "```javascript\n",
    "var s = \"JavaScript syntax highlighting\";\n",
    "alert(s);\n",
    "```\n",
    "```python\n",
    "s = \"Python syntax highlighting\"\n",
    "print s\n",
    "```"
   ]
  },
  {
   "cell_type": "markdown",
   "id": "0a9d9e5c",
   "metadata": {},
   "source": [
    "## 14. Table"
   ]
  },
  {
   "cell_type": "code",
   "execution_count": 5,
   "id": "b7297f72",
   "metadata": {},
   "outputs": [],
   "source": [
    "# constructed using | and -"
   ]
  },
  {
   "cell_type": "markdown",
   "id": "c1592f9c",
   "metadata": {},
   "source": [
    "|Header|Header|Header|\n",
    "|------|------|------|\n",
    "|A     |B     |C     |\n",
    "|X     |Y     |Z     |"
   ]
  },
  {
   "cell_type": "markdown",
   "id": "ea86c6ec",
   "metadata": {},
   "source": [
    "Use `:-:` for centered"
   ]
  },
  {
   "cell_type": "markdown",
   "id": "cf4c92ae",
   "metadata": {},
   "source": [
    "Use `—` for right centered"
   ]
  },
  {
   "cell_type": "markdown",
   "id": "9e769363",
   "metadata": {},
   "source": [
    "Use `:-` for left centered"
   ]
  },
  {
   "cell_type": "markdown",
   "id": "c980f5bc",
   "metadata": {},
   "source": [
    "## 15. Inline HTML"
   ]
  },
  {
   "cell_type": "markdown",
   "id": "f6210786",
   "metadata": {},
   "source": [
    "color = `blue|red|green|pink|yellow`"
   ]
  },
  {
   "cell_type": "markdown",
   "id": "e937c407",
   "metadata": {},
   "source": [
    "<span style=\"color:color\">Text</span>"
   ]
  },
  {
   "cell_type": "markdown",
   "id": "7fd5e077",
   "metadata": {},
   "source": [
    "[all supported color names](https://www.w3schools.com/colors/colors_names.asp)"
   ]
  },
  {
   "cell_type": "markdown",
   "id": "9a2a679b",
   "metadata": {},
   "source": [
    "#### Text Font Family"
   ]
  },
  {
   "cell_type": "markdown",
   "id": "232ceabe",
   "metadata": {},
   "source": [
    "<span style=\"font-family:Comic Sans MS\">This is a text</span>"
   ]
  },
  {
   "cell_type": "markdown",
   "id": "d3174b77",
   "metadata": {},
   "source": [
    "[CSS Font Family List](https://www.tutorialbrain.com/css_tutorial/css_font_family_list/)"
   ]
  },
  {
   "cell_type": "markdown",
   "id": "a988a685",
   "metadata": {},
   "source": [
    "#### Colored Note Boxes"
   ]
  },
  {
   "cell_type": "markdown",
   "id": "80d36b2b",
   "metadata": {},
   "source": [
    "<div class=\"alert alert-block alert-info\">\n",
    "<b>Tip:</b> Use blue boxes (alert-info) for tips and notes.</div>"
   ]
  },
  {
   "cell_type": "markdown",
   "id": "8f8ba8a3",
   "metadata": {},
   "source": [
    "<div class=\"alert alert-block alert-warning\">\n",
    "<b>Example:</b> Use yellow boxes for examples that are not inside code cells, or use for mathematical formulas if needed. Typically also used to display warning messages.\n",
    "</div>"
   ]
  },
  {
   "cell_type": "markdown",
   "id": "c1bcdc12",
   "metadata": {},
   "source": [
    "<div class=\"alert alert-block alert-success\">\n",
    "<b>Success:</b> This alert box indicates a successful or positive action.\n",
    "</div>"
   ]
  },
  {
   "cell_type": "markdown",
   "id": "aa791953",
   "metadata": {},
   "source": [
    "<div class=\"alert alert-block alert-danger\">\n",
    "<b>Danger:</b> This alert box indicates a dangerous or potentially negative action.\n",
    "</div>\n"
   ]
  },
  {
   "cell_type": "markdown",
   "id": "f9adb19d",
   "metadata": {},
   "source": [
    "#### Cell Background Color"
   ]
  },
  {
   "cell_type": "markdown",
   "id": "6ae549aa",
   "metadata": {},
   "source": [
    "<code style=\"background:yellow;color:black\">Useful for highlighting to grab the attention of the reader towards certain points.</code>"
   ]
  },
  {
   "cell_type": "code",
   "execution_count": 7,
   "id": "4635cec2",
   "metadata": {},
   "outputs": [],
   "source": [
    "# to reflect terminal code:"
   ]
  },
  {
   "cell_type": "markdown",
   "id": "6ad6df03",
   "metadata": {},
   "source": [
    "<p style=\"background:black\">\n",
    "<code style=\"background:black;color:white\">C:\\Users\\YOUR_USERNAME> pip3 install roughviz\n",
    "</code>\n",
    "</p>"
   ]
  },
  {
   "cell_type": "markdown",
   "id": "3163c007",
   "metadata": {},
   "source": [
    "#### HTML Mark Tag"
   ]
  },
  {
   "cell_type": "code",
   "execution_count": 8,
   "id": "360312e1",
   "metadata": {},
   "outputs": [],
   "source": [
    "# highlight parks of a text:"
   ]
  },
  {
   "cell_type": "markdown",
   "id": "87e8fa68",
   "metadata": {},
   "source": [
    "Do not forget to buy <mark>milk</mark> today."
   ]
  },
  {
   "cell_type": "markdown",
   "id": "9256ba8c",
   "metadata": {},
   "source": [
    "#### Definition Lists"
   ]
  },
  {
   "cell_type": "markdown",
   "id": "893480d3",
   "metadata": {},
   "source": [
    "<dl>\n",
    "<dt>First Term</dt>\n",
    "<dd>This is the definition of the first term.</dd>\n",
    "<dt>Second Term</dt>\n",
    "<dd>This is one definition of the second term. </dd>\n",
    "<dd>This is another definition of the second term.</dd>\n",
    "</dl>"
   ]
  },
  {
   "cell_type": "markdown",
   "id": "994a76f3",
   "metadata": {},
   "source": [
    "#### Navigation Menu"
   ]
  },
  {
   "cell_type": "markdown",
   "id": "bd968a46",
   "metadata": {},
   "source": [
    "<nav>\n",
    "<a href=”https://www.google.com\">LinkedIn</a> |\n",
    "<a href=”/css/”>Github</a> |\n",
    "<a href=”/js/”>Medium</a> |\n",
    "</nav>\n"
   ]
  },
  {
   "cell_type": "markdown",
   "id": "3f78e743",
   "metadata": {},
   "source": [
    "## 16. LaTeX Math"
   ]
  },
  {
   "cell_type": "code",
   "execution_count": 9,
   "id": "ede32b08",
   "metadata": {},
   "outputs": [],
   "source": [
    "# to interpret as latex, surround input with $"
   ]
  },
  {
   "cell_type": "markdown",
   "id": "4416a7a8",
   "metadata": {},
   "source": [
    "$\\sqrt{k}$"
   ]
  },
  {
   "cell_type": "markdown",
   "id": "4da3cc5f",
   "metadata": {},
   "source": [
    "## 17. Geometric Shapes"
   ]
  },
  {
   "cell_type": "code",
   "execution_count": 11,
   "id": "b6ae5ccf",
   "metadata": {},
   "outputs": [],
   "source": [
    "## ??"
   ]
  },
  {
   "cell_type": "markdown",
   "id": "7a1e05b6",
   "metadata": {},
   "source": [
    "&#reference_number;"
   ]
  },
  {
   "cell_type": "code",
   "execution_count": null,
   "id": "d75f5620",
   "metadata": {},
   "outputs": [],
   "source": []
  }
 ],
 "metadata": {
  "kernelspec": {
   "display_name": "Python 3 (ipykernel)",
   "language": "python",
   "name": "python3"
  },
  "language_info": {
   "codemirror_mode": {
    "name": "ipython",
    "version": 3
   },
   "file_extension": ".py",
   "mimetype": "text/x-python",
   "name": "python",
   "nbconvert_exporter": "python",
   "pygments_lexer": "ipython3",
   "version": "3.10.8"
  }
 },
 "nbformat": 4,
 "nbformat_minor": 5
}
