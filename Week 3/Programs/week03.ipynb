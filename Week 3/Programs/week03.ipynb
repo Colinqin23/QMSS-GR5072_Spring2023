{
 "cells": [
  {
   "cell_type": "markdown",
   "id": "be7ffeab",
   "metadata": {},
   "source": [
    "# Week 3: "
   ]
  },
  {
   "cell_type": "markdown",
   "id": "fc906826",
   "metadata": {},
   "source": [
    "### Table of Contents"
   ]
  },
  {
   "cell_type": "markdown",
   "id": "9b0149c5",
   "metadata": {},
   "source": [
    "1. [Intialize an array](#bullet1)\n",
    "2. [Operations with arrays](#bullet2)\n",
    "3. [Converting a list to an array](#bullet3)\n",
    "4. [Nested arrays](bullet#4)\n",
    "5. [Shortcuts](#bullet5)\n",
    "6. [dtype attribute](#bullet6)\n",
    "7. [Indexing and Slicing](#bullet7)\n",
    "8. [.copy function](#bullet8)\n",
    "9. [Boolean Indexing](#bullet9)\n",
    "10. [Transposing Arrays](#bullet10)\n",
    "11. [Uniform and Standard Normal Distributions](#bullet11)\n",
    "12. [Universal Functions](#bullet12)\n",
    "13. [np.where](#bullet13)\n",
    "14. [Mathematical and Statistical Methods](#bullet14)\n",
    "15. [Methods for Boolean arrays](#bullet15)\n",
    "16. [Sorting](#bullet16)\n",
    "17. [Unique](#bullet17)\n",
    "18. [Linear Algebra](#bullet18)"
   ]
  },
  {
   "cell_type": "markdown",
   "id": "30714916",
   "metadata": {},
   "source": [
    "## 1. Intialize an array <a class=\"anchor\" id=\"bullet1\"></a>"
   ]
  },
  {
   "cell_type": "code",
   "execution_count": 1,
   "id": "3013f9dc",
   "metadata": {},
   "outputs": [],
   "source": [
    "## importing necessary libraries\n",
    "import numpy as np "
   ]
  },
  {
   "cell_type": "markdown",
   "id": "bf2095ce",
   "metadata": {},
   "source": [
    "One of the features of NumPy is its N-dimensional array object. "
   ]
  },
  {
   "cell_type": "code",
   "execution_count": 2,
   "id": "ee5c9432",
   "metadata": {},
   "outputs": [
    {
     "name": "stdout",
     "output_type": "stream",
     "text": [
      "[1 2 3 4 5]\n"
     ]
    }
   ],
   "source": [
    "# use np.array to intialize a new ndarray object\n",
    "arr1 = np.array([1, 2, 3, 4, 5])\n",
    "print(arr1)"
   ]
  },
  {
   "cell_type": "code",
   "execution_count": 3,
   "id": "588ed824",
   "metadata": {},
   "outputs": [
    {
     "name": "stdout",
     "output_type": "stream",
     "text": [
      "[[10 20 30]\n",
      " [ 5 10 15]\n",
      " [ 1  1  1]]\n"
     ]
    }
   ],
   "source": [
    "arr2 = np.array([[10, 20, 30], [5, 10, 15], [1, 1, 1]]) # nested array or a matrix in this case\n",
    "print(arr2)"
   ]
  },
  {
   "cell_type": "markdown",
   "id": "98a0416a",
   "metadata": {},
   "source": [
    "## 2. Operations with arrays <a class=\"anchor\" id=\"bullet2\"></a>"
   ]
  },
  {
   "cell_type": "code",
   "execution_count": 4,
   "id": "1e4ab014",
   "metadata": {},
   "outputs": [
    {
     "data": {
      "text/plain": [
       "array([10, 20, 30, 40, 50])"
      ]
     },
     "execution_count": 4,
     "metadata": {},
     "output_type": "execute_result"
    }
   ],
   "source": [
    "# can scale an entire ndarray\n",
    "arr1 * 10"
   ]
  },
  {
   "cell_type": "code",
   "execution_count": 5,
   "id": "a732f2ee",
   "metadata": {},
   "outputs": [
    {
     "data": {
      "text/plain": [
       "array([[2. , 4. , 6. ],\n",
       "       [1. , 2. , 3. ],\n",
       "       [0.2, 0.2, 0.2]])"
      ]
     },
     "execution_count": 5,
     "metadata": {},
     "output_type": "execute_result"
    }
   ],
   "source": [
    "# can scale an entire ndarray\n",
    "arr2 / 5"
   ]
  },
  {
   "cell_type": "code",
   "execution_count": 6,
   "id": "3393ef3b",
   "metadata": {},
   "outputs": [
    {
     "data": {
      "text/plain": [
       "array([2, 3, 4, 5, 6])"
      ]
     },
     "execution_count": 6,
     "metadata": {},
     "output_type": "execute_result"
    }
   ],
   "source": [
    "# can add/subtract a value to every element in an entire ndarray\n",
    "arr1 + 1"
   ]
  },
  {
   "cell_type": "code",
   "execution_count": 7,
   "id": "bc995107",
   "metadata": {},
   "outputs": [
    {
     "data": {
      "text/plain": [
       "array([[ 9, 19, 29],\n",
       "       [ 4,  9, 14],\n",
       "       [ 0,  0,  0]])"
      ]
     },
     "execution_count": 7,
     "metadata": {},
     "output_type": "execute_result"
    }
   ],
   "source": [
    "arr2 - 1"
   ]
  },
  {
   "cell_type": "code",
   "execution_count": 8,
   "id": "36645ea9",
   "metadata": {},
   "outputs": [
    {
     "data": {
      "text/plain": [
       "array([ 2,  4,  6,  8, 10])"
      ]
     },
     "execution_count": 8,
     "metadata": {},
     "output_type": "execute_result"
    }
   ],
   "source": [
    "# can add/subtract arrays of the same dimension\n",
    "arr1 + arr1"
   ]
  },
  {
   "cell_type": "code",
   "execution_count": 9,
   "id": "f8194e2d",
   "metadata": {},
   "outputs": [
    {
     "data": {
      "text/plain": [
       "array([[20, 40, 60],\n",
       "       [10, 20, 30],\n",
       "       [ 2,  2,  2]])"
      ]
     },
     "execution_count": 9,
     "metadata": {},
     "output_type": "execute_result"
    }
   ],
   "source": [
    "arr2 + arr2"
   ]
  },
  {
   "cell_type": "code",
   "execution_count": 10,
   "id": "e83212c6",
   "metadata": {},
   "outputs": [
    {
     "data": {
      "text/plain": [
       "array([0, 0, 0, 0, 0])"
      ]
     },
     "execution_count": 10,
     "metadata": {},
     "output_type": "execute_result"
    }
   ],
   "source": [
    "arr1 - arr1"
   ]
  },
  {
   "cell_type": "code",
   "execution_count": 11,
   "id": "3875482b",
   "metadata": {},
   "outputs": [
    {
     "data": {
      "text/plain": [
       "array([[0, 0, 0],\n",
       "       [0, 0, 0],\n",
       "       [0, 0, 0]])"
      ]
     },
     "execution_count": 11,
     "metadata": {},
     "output_type": "execute_result"
    }
   ],
   "source": [
    "arr2 - arr2"
   ]
  },
  {
   "cell_type": "code",
   "execution_count": 12,
   "id": "0052ddb7",
   "metadata": {},
   "outputs": [
    {
     "ename": "ValueError",
     "evalue": "operands could not be broadcast together with shapes (5,) (3,3) ",
     "output_type": "error",
     "traceback": [
      "\u001b[0;31m---------------------------------------------------------------------------\u001b[0m",
      "\u001b[0;31mValueError\u001b[0m                                Traceback (most recent call last)",
      "Cell \u001b[0;32mIn [12], line 2\u001b[0m\n\u001b[1;32m      1\u001b[0m \u001b[38;5;66;03m# what happens if you try to add/subtract arrays of different dimensions?\u001b[39;00m\n\u001b[0;32m----> 2\u001b[0m \u001b[43marr1\u001b[49m\u001b[43m \u001b[49m\u001b[38;5;241;43m+\u001b[39;49m\u001b[43m \u001b[49m\u001b[43marr2\u001b[49m\n",
      "\u001b[0;31mValueError\u001b[0m: operands could not be broadcast together with shapes (5,) (3,3) "
     ]
    }
   ],
   "source": [
    "# what happens if you try to add/subtract arrays of different dimensions?\n",
    "arr1 + arr2"
   ]
  },
  {
   "cell_type": "code",
   "execution_count": 13,
   "id": "764e14e3",
   "metadata": {},
   "outputs": [
    {
     "ename": "ValueError",
     "evalue": "operands could not be broadcast together with shapes (5,) (3,3) ",
     "output_type": "error",
     "traceback": [
      "\u001b[0;31m---------------------------------------------------------------------------\u001b[0m",
      "\u001b[0;31mValueError\u001b[0m                                Traceback (most recent call last)",
      "Cell \u001b[0;32mIn [13], line 1\u001b[0m\n\u001b[0;32m----> 1\u001b[0m \u001b[43marr1\u001b[49m\u001b[43m \u001b[49m\u001b[38;5;241;43m-\u001b[39;49m\u001b[43m \u001b[49m\u001b[43marr2\u001b[49m\n",
      "\u001b[0;31mValueError\u001b[0m: operands could not be broadcast together with shapes (5,) (3,3) "
     ]
    }
   ],
   "source": [
    "arr1 - arr2"
   ]
  },
  {
   "cell_type": "code",
   "execution_count": 14,
   "id": "a38f3ab8",
   "metadata": {},
   "outputs": [],
   "source": [
    "# same rules apply for multiplication and division"
   ]
  },
  {
   "cell_type": "code",
   "execution_count": 15,
   "id": "9ac4db7e",
   "metadata": {},
   "outputs": [
    {
     "data": {
      "text/plain": [
       "array([ 1,  4,  9, 16, 25])"
      ]
     },
     "execution_count": 15,
     "metadata": {},
     "output_type": "execute_result"
    }
   ],
   "source": [
    "arr1 * arr1"
   ]
  },
  {
   "cell_type": "code",
   "execution_count": 16,
   "id": "44953b72",
   "metadata": {},
   "outputs": [
    {
     "data": {
      "text/plain": [
       "array([[100, 400, 900],\n",
       "       [ 25, 100, 225],\n",
       "       [  1,   1,   1]])"
      ]
     },
     "execution_count": 16,
     "metadata": {},
     "output_type": "execute_result"
    }
   ],
   "source": [
    "arr2 * arr2"
   ]
  },
  {
   "cell_type": "code",
   "execution_count": 17,
   "id": "331b134c",
   "metadata": {},
   "outputs": [
    {
     "data": {
      "text/plain": [
       "array([1., 1., 1., 1., 1.])"
      ]
     },
     "execution_count": 17,
     "metadata": {},
     "output_type": "execute_result"
    }
   ],
   "source": [
    "arr1 / arr1"
   ]
  },
  {
   "cell_type": "code",
   "execution_count": 18,
   "id": "846835e0",
   "metadata": {},
   "outputs": [
    {
     "data": {
      "text/plain": [
       "array([[1., 1., 1.],\n",
       "       [1., 1., 1.],\n",
       "       [1., 1., 1.]])"
      ]
     },
     "execution_count": 18,
     "metadata": {},
     "output_type": "execute_result"
    }
   ],
   "source": [
    "arr2 / arr2"
   ]
  },
  {
   "cell_type": "code",
   "execution_count": 19,
   "id": "8dfe242e",
   "metadata": {},
   "outputs": [
    {
     "data": {
      "text/plain": [
       "array([[100, 400, 900],\n",
       "       [ 25, 100, 225],\n",
       "       [  1,   1,   1]])"
      ]
     },
     "execution_count": 19,
     "metadata": {},
     "output_type": "execute_result"
    }
   ],
   "source": [
    "# can raise every element in an array to some power\n",
    "arr2 ** 2"
   ]
  },
  {
   "cell_type": "code",
   "execution_count": 20,
   "id": "4426eaef",
   "metadata": {},
   "outputs": [
    {
     "data": {
      "text/plain": [
       "array([  1,  16,  81, 256, 625])"
      ]
     },
     "execution_count": 20,
     "metadata": {},
     "output_type": "execute_result"
    }
   ],
   "source": [
    "arr1 ** 4"
   ]
  },
  {
   "cell_type": "code",
   "execution_count": 21,
   "id": "aed9a9d4",
   "metadata": {},
   "outputs": [],
   "source": [
    "# can compare arrays of the sam size"
   ]
  },
  {
   "cell_type": "code",
   "execution_count": 22,
   "id": "0f8e82a8",
   "metadata": {},
   "outputs": [],
   "source": [
    "# in this example we will compare arr1 to temp"
   ]
  },
  {
   "cell_type": "code",
   "execution_count": 23,
   "id": "3373c60d",
   "metadata": {},
   "outputs": [],
   "source": [
    "temp = [5, 1, 2, 3, 4]"
   ]
  },
  {
   "cell_type": "code",
   "execution_count": 24,
   "id": "d6c881f1",
   "metadata": {},
   "outputs": [
    {
     "data": {
      "text/plain": [
       "array([False,  True,  True,  True,  True])"
      ]
     },
     "execution_count": 24,
     "metadata": {},
     "output_type": "execute_result"
    }
   ],
   "source": [
    "arr1 > temp"
   ]
  },
  {
   "cell_type": "markdown",
   "id": "308deef4",
   "metadata": {},
   "source": [
    "Based off the error, the arrays have different dimensions, or specifically, shapes. Shape is an attribute of ndarrays. Attributes consist of a name (shape) and a value (dimensions) that describe the object. "
   ]
  },
  {
   "cell_type": "code",
   "execution_count": 25,
   "id": "ae4fc8b2",
   "metadata": {},
   "outputs": [
    {
     "name": "stdout",
     "output_type": "stream",
     "text": [
      "(5,)\n"
     ]
    },
    {
     "data": {
      "text/plain": [
       "(3, 3)"
      ]
     },
     "execution_count": 25,
     "metadata": {},
     "output_type": "execute_result"
    }
   ],
   "source": [
    "print(arr1.shape)\n",
    "arr2.shape"
   ]
  },
  {
   "cell_type": "markdown",
   "id": "29687c62",
   "metadata": {},
   "source": [
    "## 3. Converting a list to an array <a class=\"anchor\" id=\"bullet3\"></a>"
   ]
  },
  {
   "cell_type": "code",
   "execution_count": 26,
   "id": "2b128261",
   "metadata": {},
   "outputs": [
    {
     "data": {
      "text/plain": [
       "list"
      ]
     },
     "execution_count": 26,
     "metadata": {},
     "output_type": "execute_result"
    }
   ],
   "source": [
    "lst = [2, 4, 5, 2, 3, 8]\n",
    "type(lst)"
   ]
  },
  {
   "cell_type": "code",
   "execution_count": 27,
   "id": "07ad2d2c",
   "metadata": {},
   "outputs": [
    {
     "data": {
      "text/plain": [
       "numpy.ndarray"
      ]
     },
     "execution_count": 27,
     "metadata": {},
     "output_type": "execute_result"
    }
   ],
   "source": [
    "arr3 = np.array(lst)\n",
    "type(arr3)"
   ]
  },
  {
   "cell_type": "markdown",
   "id": "b57b178f",
   "metadata": {},
   "source": [
    "## 4. Nested array <a class=\"anchor\" id=\"bullet4\"></a>"
   ]
  },
  {
   "cell_type": "code",
   "execution_count": 28,
   "id": "7bf5287d",
   "metadata": {},
   "outputs": [
    {
     "name": "stdout",
     "output_type": "stream",
     "text": [
      "[[10 20 30]\n",
      " [ 5 10 15]\n",
      " [ 1  1  1]]\n"
     ]
    }
   ],
   "source": [
    "# arr2 is an example of a nested array, specifically a matrix\n",
    "print(arr2)"
   ]
  },
  {
   "cell_type": "code",
   "execution_count": 29,
   "id": "98fda6f6",
   "metadata": {},
   "outputs": [],
   "source": [
    "# other examples of nested arrays"
   ]
  },
  {
   "cell_type": "code",
   "execution_count": 30,
   "id": "08cbb703",
   "metadata": {},
   "outputs": [
    {
     "name": "stdout",
     "output_type": "stream",
     "text": [
      "[[ 1  3  5]\n",
      " [ 7  9 11]]\n"
     ]
    }
   ],
   "source": [
    "arr4 = np.array([[1, 3, 5], [7, 9, 11]])\n",
    "print(arr4)"
   ]
  },
  {
   "cell_type": "code",
   "execution_count": 31,
   "id": "6bd5cdc8",
   "metadata": {},
   "outputs": [
    {
     "name": "stdout",
     "output_type": "stream",
     "text": [
      "[list([1, 3, 5]) list([7, 9])]\n"
     ]
    },
    {
     "name": "stderr",
     "output_type": "stream",
     "text": [
      "/var/folders/q_/ggw8wr5d7n3b1_xgl5z2xn340000gn/T/ipykernel_9670/3359908876.py:1: VisibleDeprecationWarning: Creating an ndarray from ragged nested sequences (which is a list-or-tuple of lists-or-tuples-or ndarrays with different lengths or shapes) is deprecated. If you meant to do this, you must specify 'dtype=object' when creating the ndarray.\n",
      "  arr5 = np.array([[1, 3, 5], [7, 9]])\n"
     ]
    }
   ],
   "source": [
    "arr5 = np.array([[1, 3, 5], [7, 9]])\n",
    "print(arr5)\n",
    "# nested sequences should be a list of EQUAL-LENGTH lists"
   ]
  },
  {
   "cell_type": "code",
   "execution_count": 32,
   "id": "859eb1c6",
   "metadata": {},
   "outputs": [
    {
     "name": "stdout",
     "output_type": "stream",
     "text": [
      "2\n"
     ]
    },
    {
     "data": {
      "text/plain": [
       "(3, 3)"
      ]
     },
     "execution_count": 32,
     "metadata": {},
     "output_type": "execute_result"
    }
   ],
   "source": [
    "# attributes of a nested array\n",
    "print(arr2.ndim)\n",
    "arr2.shape"
   ]
  },
  {
   "cell_type": "code",
   "execution_count": 33,
   "id": "4b181540",
   "metadata": {},
   "outputs": [
    {
     "name": "stdout",
     "output_type": "stream",
     "text": [
      "2\n"
     ]
    },
    {
     "data": {
      "text/plain": [
       "(2, 3)"
      ]
     },
     "execution_count": 33,
     "metadata": {},
     "output_type": "execute_result"
    }
   ],
   "source": [
    "print(arr4.ndim)\n",
    "arr4.shape"
   ]
  },
  {
   "cell_type": "markdown",
   "id": "8bee719d",
   "metadata": {},
   "source": [
    "## 5. Shortcuts! <a class=\"anchor\" id=\"bullet5\"></a>"
   ]
  },
  {
   "cell_type": "code",
   "execution_count": 34,
   "id": "ce62c2e9",
   "metadata": {},
   "outputs": [
    {
     "name": "stdout",
     "output_type": "stream",
     "text": [
      "[0. 0. 0. 0. 0.]\n"
     ]
    }
   ],
   "source": [
    "# create a ndarray of 5 0s\n",
    "arr6 = np.zeros(5)\n",
    "print(arr6)"
   ]
  },
  {
   "cell_type": "code",
   "execution_count": 35,
   "id": "8f560db5",
   "metadata": {},
   "outputs": [
    {
     "name": "stdout",
     "output_type": "stream",
     "text": [
      "[1. 1. 1. 1. 1. 1. 1. 1. 1. 1.]\n"
     ]
    }
   ],
   "source": [
    "# create a ndarray of 10 1s\n",
    "arr7 = np.ones(10)\n",
    "print(arr7)"
   ]
  },
  {
   "cell_type": "code",
   "execution_count": 36,
   "id": "e3c7824a",
   "metadata": {},
   "outputs": [
    {
     "name": "stdout",
     "output_type": "stream",
     "text": [
      "[[1. 0.]\n",
      " [0. 1.]]\n"
     ]
    }
   ],
   "source": [
    "# create an identity matrix of size 2 by 2\n",
    "arr8 = np.identity(2)\n",
    "print(arr8)"
   ]
  },
  {
   "cell_type": "markdown",
   "id": "8822fed5",
   "metadata": {},
   "source": [
    "The following demonstrates different ways of using np.arange to create lists. "
   ]
  },
  {
   "cell_type": "code",
   "execution_count": 37,
   "id": "6b5b5943",
   "metadata": {},
   "outputs": [
    {
     "name": "stdout",
     "output_type": "stream",
     "text": [
      "[0 1 2 3 4 5 6 7 8 9]\n"
     ]
    }
   ],
   "source": [
    "arr9 = np.arange(10) \n",
    "print(arr9)"
   ]
  },
  {
   "cell_type": "code",
   "execution_count": 38,
   "id": "49e8b92e",
   "metadata": {},
   "outputs": [
    {
     "name": "stdout",
     "output_type": "stream",
     "text": [
      "[1 2 3 4 5 6 7 8 9]\n"
     ]
    }
   ],
   "source": [
    "arr10 = np.arange(1, 10)\n",
    "print(arr10)"
   ]
  },
  {
   "cell_type": "code",
   "execution_count": 39,
   "id": "ebe4cc9e",
   "metadata": {},
   "outputs": [
    {
     "name": "stdout",
     "output_type": "stream",
     "text": [
      "[1 3 5 7 9]\n"
     ]
    }
   ],
   "source": [
    "arr11 = np.arange(1, 10, 2)\n",
    "print(arr11)"
   ]
  },
  {
   "cell_type": "markdown",
   "id": "a5a56070",
   "metadata": {},
   "source": [
    "## 6. dtype attribute <a class=\"anchor\" id=\"bullet6\"></a>"
   ]
  },
  {
   "cell_type": "markdown",
   "id": "92a32251",
   "metadata": {},
   "source": [
    "The dtype or data type tells us information about the kind of fata the ndarray holds."
   ]
  },
  {
   "cell_type": "code",
   "execution_count": 40,
   "id": "c127645e",
   "metadata": {},
   "outputs": [
    {
     "name": "stdout",
     "output_type": "stream",
     "text": [
      "[1. 1. 1. 1. 1. 1. 1. 1. 1. 1.]\n"
     ]
    },
    {
     "data": {
      "text/plain": [
       "dtype('float64')"
      ]
     },
     "execution_count": 40,
     "metadata": {},
     "output_type": "execute_result"
    }
   ],
   "source": [
    "print(arr7)\n",
    "arr7.dtype"
   ]
  },
  {
   "cell_type": "code",
   "execution_count": 41,
   "id": "9ab6b94a",
   "metadata": {},
   "outputs": [
    {
     "name": "stdout",
     "output_type": "stream",
     "text": [
      "[1 2 3 4 5 6 7 8 9]\n"
     ]
    },
    {
     "data": {
      "text/plain": [
       "dtype('int64')"
      ]
     },
     "execution_count": 41,
     "metadata": {},
     "output_type": "execute_result"
    }
   ],
   "source": [
    "print(arr10)\n",
    "arr10.dtype"
   ]
  },
  {
   "cell_type": "markdown",
   "id": "52227616",
   "metadata": {},
   "source": [
    "One can used the method, astype, to convert or cast a ndarray's data from one type to another. "
   ]
  },
  {
   "cell_type": "code",
   "execution_count": 42,
   "id": "abf5ebec",
   "metadata": {},
   "outputs": [
    {
     "name": "stdout",
     "output_type": "stream",
     "text": [
      "[1 1 1 1 1 1 1 1 1 1]\n"
     ]
    },
    {
     "data": {
      "text/plain": [
       "dtype('int64')"
      ]
     },
     "execution_count": 42,
     "metadata": {},
     "output_type": "execute_result"
    }
   ],
   "source": [
    "arr7_temp = arr7.astype(np.int64)\n",
    "print(arr7_temp)\n",
    "arr7_temp.dtype"
   ]
  },
  {
   "cell_type": "code",
   "execution_count": 43,
   "id": "23e2618d",
   "metadata": {},
   "outputs": [
    {
     "name": "stdout",
     "output_type": "stream",
     "text": [
      "[b'1' b'2' b'3' b'4' b'5' b'6' b'7' b'8' b'9']\n"
     ]
    },
    {
     "data": {
      "text/plain": [
       "dtype('S21')"
      ]
     },
     "execution_count": 43,
     "metadata": {},
     "output_type": "execute_result"
    }
   ],
   "source": [
    "arr10_temp = arr10.astype(np.string_)\n",
    "print(arr10_temp)\n",
    "arr10_temp.dtype"
   ]
  },
  {
   "cell_type": "markdown",
   "id": "4bc362cb",
   "metadata": {},
   "source": [
    "## 7. Index and Slicing <a class=\"anchor\" id=\"bullet7\"></a>"
   ]
  },
  {
   "cell_type": "code",
   "execution_count": 44,
   "id": "d66b54a9",
   "metadata": {},
   "outputs": [
    {
     "data": {
      "text/plain": [
       "array([0, 1, 2, 3, 4, 5, 6, 7, 8, 9])"
      ]
     },
     "execution_count": 44,
     "metadata": {},
     "output_type": "execute_result"
    }
   ],
   "source": [
    "arr9"
   ]
  },
  {
   "cell_type": "code",
   "execution_count": 45,
   "id": "23028155",
   "metadata": {},
   "outputs": [
    {
     "data": {
      "text/plain": [
       "2"
      ]
     },
     "execution_count": 45,
     "metadata": {},
     "output_type": "execute_result"
    }
   ],
   "source": [
    "# grabbing one element using its index\n",
    "## in this case, grabbing the 3rd element\n",
    "arr9[2]"
   ]
  },
  {
   "cell_type": "code",
   "execution_count": 46,
   "id": "36f475e0",
   "metadata": {},
   "outputs": [
    {
     "data": {
      "text/plain": [
       "array([2, 3, 4, 5])"
      ]
     },
     "execution_count": 46,
     "metadata": {},
     "output_type": "execute_result"
    }
   ],
   "source": [
    "# grabbing a range/subset of elements within the array\n",
    "## format =[start:stop], does not include 'stop' index element\n",
    "arr9[2:6]"
   ]
  },
  {
   "cell_type": "code",
   "execution_count": 47,
   "id": "f7e1e507",
   "metadata": {},
   "outputs": [
    {
     "data": {
      "text/plain": [
       "array([ 1,  1, 50, 50, 50, 50,  6,  7,  8,  9])"
      ]
     },
     "execution_count": 47,
     "metadata": {},
     "output_type": "execute_result"
    }
   ],
   "source": [
    "# replace a value or range of values in the array\n",
    "arr9[0] = 1\n",
    "arr9[2:6] = 50\n",
    "arr9"
   ]
  },
  {
   "cell_type": "code",
   "execution_count": 48,
   "id": "ce0bc86e",
   "metadata": {},
   "outputs": [
    {
     "name": "stdout",
     "output_type": "stream",
     "text": [
      "[1 1]\n",
      "[50 50 50 50  6  7  8  9]\n"
     ]
    }
   ],
   "source": [
    "# other ways to slice\n",
    "print(arr9[:2])\n",
    "print(arr9[2:])"
   ]
  },
  {
   "cell_type": "markdown",
   "id": "b8b4f56e",
   "metadata": {},
   "source": [
    "With higher dimensional arrays, there are more options for indexing/slicing"
   ]
  },
  {
   "cell_type": "code",
   "execution_count": 49,
   "id": "38cc4cd8",
   "metadata": {},
   "outputs": [
    {
     "data": {
      "text/plain": [
       "array([[10, 20, 30],\n",
       "       [ 5, 10, 15],\n",
       "       [ 1,  1,  1]])"
      ]
     },
     "execution_count": 49,
     "metadata": {},
     "output_type": "execute_result"
    }
   ],
   "source": [
    "arr2"
   ]
  },
  {
   "cell_type": "code",
   "execution_count": 50,
   "id": "95c773b9",
   "metadata": {},
   "outputs": [
    {
     "data": {
      "text/plain": [
       "array([ 5, 10, 15])"
      ]
     },
     "execution_count": 50,
     "metadata": {},
     "output_type": "execute_result"
    }
   ],
   "source": [
    "# grabbing one whole element, in this case a list, from the nested array\n",
    "arr2[1]"
   ]
  },
  {
   "cell_type": "code",
   "execution_count": 51,
   "id": "df5518e6",
   "metadata": {},
   "outputs": [
    {
     "data": {
      "text/plain": [
       "10"
      ]
     },
     "execution_count": 51,
     "metadata": {},
     "output_type": "execute_result"
    }
   ],
   "source": [
    "# grabbing a specific value based off its index\n",
    "arr2[1][1]"
   ]
  },
  {
   "cell_type": "code",
   "execution_count": 52,
   "id": "d12816cc",
   "metadata": {},
   "outputs": [
    {
     "data": {
      "text/plain": [
       "10"
      ]
     },
     "execution_count": 52,
     "metadata": {},
     "output_type": "execute_result"
    }
   ],
   "source": [
    "arr2[1, 1]"
   ]
  },
  {
   "cell_type": "markdown",
   "id": "7e55645a",
   "metadata": {},
   "source": [
    "Think of the first indexing as to find the row and the second indexing to find the column."
   ]
  },
  {
   "cell_type": "code",
   "execution_count": 53,
   "id": "30f1b9d8",
   "metadata": {},
   "outputs": [
    {
     "data": {
      "text/plain": [
       "array([[20],\n",
       "       [10],\n",
       "       [ 1]])"
      ]
     },
     "execution_count": 53,
     "metadata": {},
     "output_type": "execute_result"
    }
   ],
   "source": [
    "# grabbing a column\n",
    "arr2[:, 1:2]"
   ]
  },
  {
   "cell_type": "code",
   "execution_count": 54,
   "id": "e2127582",
   "metadata": {},
   "outputs": [
    {
     "data": {
      "text/plain": [
       "array([20, 10,  1])"
      ]
     },
     "execution_count": 54,
     "metadata": {},
     "output_type": "execute_result"
    }
   ],
   "source": [
    "arr2[:, 1]"
   ]
  },
  {
   "cell_type": "code",
   "execution_count": 55,
   "id": "646a8dcd",
   "metadata": {},
   "outputs": [
    {
     "data": {
      "text/plain": [
       "array([[10, 20],\n",
       "       [ 5, 10]])"
      ]
     },
     "execution_count": 55,
     "metadata": {},
     "output_type": "execute_result"
    }
   ],
   "source": [
    "# grabbing the first two elements of the row given columns\n",
    "arr2[:2, :2]"
   ]
  },
  {
   "cell_type": "markdown",
   "id": "dbaef7e9",
   "metadata": {},
   "source": [
    "## 8. .copy function <a class=\"anchor\" id=\"bullet8\"></a>"
   ]
  },
  {
   "cell_type": "code",
   "execution_count": 56,
   "id": "96dee4b1",
   "metadata": {},
   "outputs": [
    {
     "data": {
      "text/plain": [
       "array([[10, 20, 30],\n",
       "       [ 5, 10, 15],\n",
       "       [ 1,  1,  1]])"
      ]
     },
     "execution_count": 56,
     "metadata": {},
     "output_type": "execute_result"
    }
   ],
   "source": [
    "arr2"
   ]
  },
  {
   "cell_type": "code",
   "execution_count": 57,
   "id": "e7e75901",
   "metadata": {},
   "outputs": [],
   "source": [
    "# copies values in a duplicate, unrelated array\n",
    "old_values = arr2[0].copy()"
   ]
  },
  {
   "cell_type": "code",
   "execution_count": 58,
   "id": "5e533e0e",
   "metadata": {},
   "outputs": [
    {
     "data": {
      "text/plain": [
       "array([[42, 42, 42],\n",
       "       [ 5, 10, 15],\n",
       "       [ 1,  1,  1]])"
      ]
     },
     "execution_count": 58,
     "metadata": {},
     "output_type": "execute_result"
    }
   ],
   "source": [
    "arr2[0] = 42\n",
    "arr2"
   ]
  },
  {
   "cell_type": "code",
   "execution_count": 59,
   "id": "c9f3a895",
   "metadata": {},
   "outputs": [
    {
     "data": {
      "text/plain": [
       "array([[10, 20, 30],\n",
       "       [ 5, 10, 15],\n",
       "       [ 1,  1,  1]])"
      ]
     },
     "execution_count": 59,
     "metadata": {},
     "output_type": "execute_result"
    }
   ],
   "source": [
    "arr2[0] = old_values\n",
    "arr2"
   ]
  },
  {
   "cell_type": "markdown",
   "id": "902dfc0a",
   "metadata": {},
   "source": [
    "## 9. Boolean Indexing <a class=\"anchor\" id=\"bullet9\"></a>"
   ]
  },
  {
   "cell_type": "code",
   "execution_count": 60,
   "id": "fe58b2ba",
   "metadata": {},
   "outputs": [],
   "source": [
    "# can check based on a certain condition using boolean operators"
   ]
  },
  {
   "cell_type": "code",
   "execution_count": 61,
   "id": "25a3ce73",
   "metadata": {},
   "outputs": [],
   "source": [
    "names = np.array([\"Bob\", \"Joe\", \"Will\", \"Bob\", \"Will\", \"Joe\", \"Joe\"])"
   ]
  },
  {
   "cell_type": "code",
   "execution_count": 62,
   "id": "65036876",
   "metadata": {},
   "outputs": [
    {
     "data": {
      "text/plain": [
       "array([False,  True, False, False, False,  True,  True])"
      ]
     },
     "execution_count": 62,
     "metadata": {},
     "output_type": "execute_result"
    }
   ],
   "source": [
    "names == \"Joe\""
   ]
  },
  {
   "cell_type": "code",
   "execution_count": 63,
   "id": "8cdffd0b",
   "metadata": {},
   "outputs": [
    {
     "data": {
      "text/plain": [
       "array([ 1,  1, 50, 50, 50, 50,  6,  7,  8,  9])"
      ]
     },
     "execution_count": 63,
     "metadata": {},
     "output_type": "execute_result"
    }
   ],
   "source": [
    "arr9"
   ]
  },
  {
   "cell_type": "code",
   "execution_count": 64,
   "id": "ce94c474",
   "metadata": {},
   "outputs": [
    {
     "data": {
      "text/plain": [
       "array([False, False,  True,  True,  True,  True, False, False, False,\n",
       "        True])"
      ]
     },
     "execution_count": 64,
     "metadata": {},
     "output_type": "execute_result"
    }
   ],
   "source": [
    "arr9 >= 9 "
   ]
  },
  {
   "cell_type": "code",
   "execution_count": 65,
   "id": "1128a3ca",
   "metadata": {},
   "outputs": [],
   "source": [
    "# this boolean array can be passed when indexing the array"
   ]
  },
  {
   "cell_type": "code",
   "execution_count": 66,
   "id": "5f758965",
   "metadata": {},
   "outputs": [
    {
     "data": {
      "text/plain": [
       "array(['Joe', 'Joe', 'Joe'], dtype='<U4')"
      ]
     },
     "execution_count": 66,
     "metadata": {},
     "output_type": "execute_result"
    }
   ],
   "source": [
    "names[names == \"Joe\"]"
   ]
  },
  {
   "cell_type": "code",
   "execution_count": 67,
   "id": "a468f0f8",
   "metadata": {},
   "outputs": [
    {
     "data": {
      "text/plain": [
       "array([50, 50, 50, 50,  9])"
      ]
     },
     "execution_count": 67,
     "metadata": {},
     "output_type": "execute_result"
    }
   ],
   "source": [
    "arr9[arr9 >= 9]"
   ]
  },
  {
   "cell_type": "code",
   "execution_count": 68,
   "id": "c6d4ddb2",
   "metadata": {},
   "outputs": [],
   "source": [
    "# can index columns too?? ASK NICK "
   ]
  },
  {
   "cell_type": "code",
   "execution_count": 69,
   "id": "62d98389",
   "metadata": {},
   "outputs": [
    {
     "name": "stdout",
     "output_type": "stream",
     "text": [
      "[ True False  True  True  True False False]\n",
      "[ True False  True  True  True False False]\n"
     ]
    }
   ],
   "source": [
    "# different ways to negate:\n",
    "\n",
    "print(names != \"Joe\")\n",
    "print(~(names == \"Joe\"))"
   ]
  },
  {
   "cell_type": "code",
   "execution_count": 70,
   "id": "1b7011b5",
   "metadata": {},
   "outputs": [
    {
     "data": {
      "text/plain": [
       "array([False,  True,  True, False,  True,  True,  True])"
      ]
     },
     "execution_count": 70,
     "metadata": {},
     "output_type": "execute_result"
    }
   ],
   "source": [
    "# to combine multiple booleans conditions, use % (and) and | (or)\n",
    "mask = (names == \"Joe\") | (names == \"Will\")\n",
    "mask"
   ]
  },
  {
   "cell_type": "code",
   "execution_count": 71,
   "id": "e010ee8f",
   "metadata": {},
   "outputs": [
    {
     "data": {
      "text/plain": [
       "array(['Joe', 'Will', 'Will', 'Joe', 'Joe'], dtype='<U4')"
      ]
     },
     "execution_count": 71,
     "metadata": {},
     "output_type": "execute_result"
    }
   ],
   "source": [
    "names[mask]"
   ]
  },
  {
   "cell_type": "markdown",
   "id": "e60ecafe",
   "metadata": {},
   "source": [
    "## 10. Transposing Arrays <a class=\"anchor\" id=\"bullet10\"></a>"
   ]
  },
  {
   "cell_type": "markdown",
   "id": "c758ae38",
   "metadata": {},
   "source": [
    "Transposing is a form of reshaping that swaps the axes."
   ]
  },
  {
   "cell_type": "code",
   "execution_count": 72,
   "id": "29b03e22",
   "metadata": {},
   "outputs": [
    {
     "data": {
      "text/plain": [
       "array([[ 0,  1,  2,  3,  4],\n",
       "       [ 5,  6,  7,  8,  9],\n",
       "       [10, 11, 12, 13, 14]])"
      ]
     },
     "execution_count": 72,
     "metadata": {},
     "output_type": "execute_result"
    }
   ],
   "source": [
    "arr12 = np.arange(15).reshape((3, 5))\n",
    "arr12"
   ]
  },
  {
   "cell_type": "code",
   "execution_count": 73,
   "id": "dd318e9a",
   "metadata": {},
   "outputs": [
    {
     "data": {
      "text/plain": [
       "array([[ 0,  5, 10],\n",
       "       [ 1,  6, 11],\n",
       "       [ 2,  7, 12],\n",
       "       [ 3,  8, 13],\n",
       "       [ 4,  9, 14]])"
      ]
     },
     "execution_count": 73,
     "metadata": {},
     "output_type": "execute_result"
    }
   ],
   "source": [
    "arr12.T"
   ]
  },
  {
   "cell_type": "code",
   "execution_count": 74,
   "id": "d001020b",
   "metadata": {},
   "outputs": [],
   "source": [
    "# may use this for matrix computations such as calculating the inner matrix product"
   ]
  },
  {
   "cell_type": "code",
   "execution_count": 75,
   "id": "ab25414e",
   "metadata": {},
   "outputs": [
    {
     "data": {
      "text/plain": [
       "array([[ 0,  1,  0],\n",
       "       [ 1,  2, -2],\n",
       "       [ 6,  3,  2],\n",
       "       [-1,  0, -1],\n",
       "       [ 1,  0,  1]])"
      ]
     },
     "execution_count": 75,
     "metadata": {},
     "output_type": "execute_result"
    }
   ],
   "source": [
    "arr13 = np.array([[0, 1, 0], [1, 2, -2], [6, 3, 2], [-1, 0, -1], [1, 0, 1]])\n",
    "arr13"
   ]
  },
  {
   "cell_type": "code",
   "execution_count": 76,
   "id": "07b550d9",
   "metadata": {},
   "outputs": [
    {
     "name": "stdout",
     "output_type": "stream",
     "text": [
      "[[39 20 12]\n",
      " [20 14  2]\n",
      " [12  2 10]]\n"
     ]
    },
    {
     "data": {
      "text/plain": [
       "array([[39, 20, 12],\n",
       "       [20, 14,  2],\n",
       "       [12,  2, 10]])"
      ]
     },
     "execution_count": 76,
     "metadata": {},
     "output_type": "execute_result"
    }
   ],
   "source": [
    "print(np.dot(arr13.T, arr13))\n",
    "arr13.T @ arr13"
   ]
  },
  {
   "cell_type": "code",
   "execution_count": 77,
   "id": "e997b9f9",
   "metadata": {},
   "outputs": [
    {
     "data": {
      "text/plain": [
       "array([[ 0,  5, 10],\n",
       "       [ 1,  6, 11],\n",
       "       [ 2,  7, 12],\n",
       "       [ 3,  8, 13],\n",
       "       [ 4,  9, 14]])"
      ]
     },
     "execution_count": 77,
     "metadata": {},
     "output_type": "execute_result"
    }
   ],
   "source": [
    "# another way to transpose\n",
    "arr12.swapaxes(0, 1)"
   ]
  },
  {
   "cell_type": "markdown",
   "id": "e3a87d0c",
   "metadata": {},
   "source": [
    "## 11. Uniform and standard normal distributions <a class=\"anchor\" id=\"bullet11\"></a>"
   ]
  },
  {
   "cell_type": "code",
   "execution_count": 78,
   "id": "18e44af8",
   "metadata": {},
   "outputs": [],
   "source": [
    "## not sure how to demonstrate this, do i use graphs? ASK NICK "
   ]
  },
  {
   "cell_type": "code",
   "execution_count": 79,
   "id": "4d9dbe65",
   "metadata": {},
   "outputs": [],
   "source": [
    "rng = np.random.default_rng(seed=3252)"
   ]
  },
  {
   "cell_type": "code",
   "execution_count": 80,
   "id": "983b9373",
   "metadata": {},
   "outputs": [],
   "source": [
    "s1 = rng.uniform(-1,0,1000)"
   ]
  },
  {
   "cell_type": "code",
   "execution_count": 81,
   "id": "006906b3",
   "metadata": {},
   "outputs": [],
   "source": [
    "s2 = rng.standard_normal(1000)"
   ]
  },
  {
   "cell_type": "markdown",
   "id": "88526df3",
   "metadata": {},
   "source": [
    "## 12. Universal Functions <a class=\"anchor\" id=\"bullet12\"></a>"
   ]
  },
  {
   "cell_type": "markdown",
   "id": "c1727b23",
   "metadata": {},
   "source": [
    "\"A universal function, or ufunc, is a function that performs element-wise operations on data in ndarrays.\" - _McKinney_"
   ]
  },
  {
   "cell_type": "code",
   "execution_count": 82,
   "id": "389de5dd",
   "metadata": {},
   "outputs": [
    {
     "data": {
      "text/plain": [
       "array([0, 1, 2, 3, 4, 5, 6, 7, 8, 9])"
      ]
     },
     "execution_count": 82,
     "metadata": {},
     "output_type": "execute_result"
    }
   ],
   "source": [
    "arr14 = np.arange(10)\n",
    "arr14"
   ]
  },
  {
   "cell_type": "code",
   "execution_count": 83,
   "id": "e8d1afdc",
   "metadata": {},
   "outputs": [],
   "source": [
    "# unary ufuncs"
   ]
  },
  {
   "cell_type": "code",
   "execution_count": 84,
   "id": "d8b77bd7",
   "metadata": {},
   "outputs": [
    {
     "data": {
      "text/plain": [
       "array([0.        , 1.        , 1.41421356, 1.73205081, 2.        ,\n",
       "       2.23606798, 2.44948974, 2.64575131, 2.82842712, 3.        ])"
      ]
     },
     "execution_count": 84,
     "metadata": {},
     "output_type": "execute_result"
    }
   ],
   "source": [
    "np.sqrt(arr14)"
   ]
  },
  {
   "cell_type": "code",
   "execution_count": 85,
   "id": "d4b29557",
   "metadata": {},
   "outputs": [
    {
     "data": {
      "text/plain": [
       "array([1.00000000e+00, 2.71828183e+00, 7.38905610e+00, 2.00855369e+01,\n",
       "       5.45981500e+01, 1.48413159e+02, 4.03428793e+02, 1.09663316e+03,\n",
       "       2.98095799e+03, 8.10308393e+03])"
      ]
     },
     "execution_count": 85,
     "metadata": {},
     "output_type": "execute_result"
    }
   ],
   "source": [
    "np.exp(arr14)"
   ]
  },
  {
   "cell_type": "code",
   "execution_count": 86,
   "id": "0673ec11",
   "metadata": {},
   "outputs": [],
   "source": [
    "# binary ufuncs"
   ]
  },
  {
   "cell_type": "code",
   "execution_count": 87,
   "id": "0117f826",
   "metadata": {},
   "outputs": [
    {
     "data": {
      "text/plain": [
       "array([ 1.14241792, -0.28196877, -0.26848554,  1.10041352, -0.05589917,\n",
       "        0.26693154,  0.15839299,  0.27169467])"
      ]
     },
     "execution_count": 87,
     "metadata": {},
     "output_type": "execute_result"
    }
   ],
   "source": [
    "x = rng.standard_normal(8)\n",
    "x"
   ]
  },
  {
   "cell_type": "code",
   "execution_count": 88,
   "id": "dececb5a",
   "metadata": {},
   "outputs": [
    {
     "data": {
      "text/plain": [
       "array([ 0.31917679,  0.65604617, -1.35796733, -0.37204465,  1.72783776,\n",
       "        0.12950675,  1.08868117, -0.28840552])"
      ]
     },
     "execution_count": 88,
     "metadata": {},
     "output_type": "execute_result"
    }
   ],
   "source": [
    "y = rng.standard_normal(8)\n",
    "y"
   ]
  },
  {
   "cell_type": "code",
   "execution_count": 89,
   "id": "4aba33a2",
   "metadata": {},
   "outputs": [
    {
     "data": {
      "text/plain": [
       "array([ 1.14241792,  0.65604617, -0.26848554,  1.10041352,  1.72783776,\n",
       "        0.26693154,  1.08868117,  0.27169467])"
      ]
     },
     "execution_count": 89,
     "metadata": {},
     "output_type": "execute_result"
    }
   ],
   "source": [
    "np.maximum(x, y)"
   ]
  },
  {
   "cell_type": "code",
   "execution_count": 90,
   "id": "215190be",
   "metadata": {},
   "outputs": [
    {
     "data": {
      "text/plain": [
       "array([ 1.46159471,  0.37407739, -1.62645287,  0.72836887,  1.6719386 ,\n",
       "        0.39643828,  1.24707416, -0.01671085])"
      ]
     },
     "execution_count": 90,
     "metadata": {},
     "output_type": "execute_result"
    }
   ],
   "source": [
    "np.add(x, y)"
   ]
  },
  {
   "cell_type": "code",
   "execution_count": 91,
   "id": "d8d5601d",
   "metadata": {},
   "outputs": [
    {
     "data": {
      "text/plain": [
       "array([ 0.82324113, -0.93801494,  1.08948179,  1.47245817, -1.78373693,\n",
       "        0.13742479, -0.93028819,  0.56010019])"
      ]
     },
     "execution_count": 91,
     "metadata": {},
     "output_type": "execute_result"
    }
   ],
   "source": [
    "np.subtract(x, y)"
   ]
  },
  {
   "cell_type": "code",
   "execution_count": 92,
   "id": "15a4fa2f",
   "metadata": {},
   "outputs": [
    {
     "data": {
      "text/plain": [
       "array([ 3.57926376, -0.4298002 ,  0.19771134, -2.95774585, -0.03235209,\n",
       "        2.06114   ,  0.1454907 , -0.9420578 ])"
      ]
     },
     "execution_count": 92,
     "metadata": {},
     "output_type": "execute_result"
    }
   ],
   "source": [
    "np.divide(x, y)"
   ]
  },
  {
   "cell_type": "code",
   "execution_count": 93,
   "id": "1b349e03",
   "metadata": {},
   "outputs": [
    {
     "data": {
      "text/plain": [
       "array([ 0.36463329, -0.18498453,  0.36459459, -0.40940296, -0.09658469,\n",
       "        0.03456944,  0.17243946, -0.07835824])"
      ]
     },
     "execution_count": 93,
     "metadata": {},
     "output_type": "execute_result"
    }
   ],
   "source": [
    "np.multiply(x, y)"
   ]
  },
  {
   "cell_type": "code",
   "execution_count": 94,
   "id": "443925ed",
   "metadata": {},
   "outputs": [
    {
     "data": {
      "text/plain": [
       "array([ 3., -1.,  0., -3., -1.,  2.,  0., -1.])"
      ]
     },
     "execution_count": 94,
     "metadata": {},
     "output_type": "execute_result"
    }
   ],
   "source": [
    "np.floor_divide(x, y)"
   ]
  },
  {
   "cell_type": "code",
   "execution_count": 95,
   "id": "39e1e3ab",
   "metadata": {},
   "outputs": [
    {
     "name": "stderr",
     "output_type": "stream",
     "text": [
      "/var/folders/q_/ggw8wr5d7n3b1_xgl5z2xn340000gn/T/ipykernel_9670/3398018405.py:1: RuntimeWarning: invalid value encountered in power\n",
      "  np.power(x, y)\n"
     ]
    },
    {
     "data": {
      "text/plain": [
       "array([1.04341338,        nan,        nan, 0.96502673,        nan,\n",
       "       0.84278135, 0.13451403, 1.45617687])"
      ]
     },
     "execution_count": 95,
     "metadata": {},
     "output_type": "execute_result"
    }
   ],
   "source": [
    "np.power(x, y)"
   ]
  },
  {
   "cell_type": "code",
   "execution_count": 96,
   "id": "39af59a2",
   "metadata": {},
   "outputs": [],
   "source": [
    "# and more... refer back to Mckinney for a complete list"
   ]
  },
  {
   "cell_type": "markdown",
   "id": "8f7e289f",
   "metadata": {},
   "source": [
    "## 13. np.where <a class=\"anchor\" id=\"bullet13\"></a>"
   ]
  },
  {
   "cell_type": "code",
   "execution_count": 97,
   "id": "448567f1",
   "metadata": {},
   "outputs": [
    {
     "data": {
      "text/plain": [
       "array([ 2,  4,  6,  8, 10, 12, 14, 16, 18, 20, 22, 24, 26, 28, 30, 32, 34,\n",
       "       36, 38, 40, 42, 44, 46, 48])"
      ]
     },
     "execution_count": 97,
     "metadata": {},
     "output_type": "execute_result"
    }
   ],
   "source": [
    "arr15 = np.arange(2, 50, 2)\n",
    "arr15"
   ]
  },
  {
   "cell_type": "code",
   "execution_count": 98,
   "id": "f590785d",
   "metadata": {},
   "outputs": [],
   "source": [
    "## not sure I understand this section "
   ]
  },
  {
   "cell_type": "markdown",
   "id": "7ab9de61",
   "metadata": {},
   "source": [
    "## 14. Mathematical and Statistical Methods <a class=\"anchor\" id=\"bullet14\"></a>"
   ]
  },
  {
   "cell_type": "markdown",
   "id": "674e6bad",
   "metadata": {},
   "source": [
    "\"A set of mathematical functions that compute statistics about an entire array or about the data along an axis are accessible as methods of the array class.\" - *McKinney*"
   ]
  },
  {
   "cell_type": "code",
   "execution_count": 99,
   "id": "bb2700b4",
   "metadata": {
    "scrolled": true
   },
   "outputs": [
    {
     "data": {
      "text/plain": [
       "array([[ 0.5975821 ,  0.28150336,  0.66070948, -0.90722986],\n",
       "       [-0.3010943 ,  1.80341062,  1.3912428 ,  0.74837662],\n",
       "       [ 0.05843706,  0.31940698, -1.57074395,  0.28034852],\n",
       "       [ 0.52380852,  1.7371232 , -1.18701463,  0.0993711 ],\n",
       "       [-0.62912318, -2.41944318, -0.60629023, -0.58116553]])"
      ]
     },
     "execution_count": 99,
     "metadata": {},
     "output_type": "execute_result"
    }
   ],
   "source": [
    "arr16 = rng.standard_normal((5, 4))\n",
    "arr16"
   ]
  },
  {
   "cell_type": "code",
   "execution_count": 100,
   "id": "ad907571",
   "metadata": {},
   "outputs": [
    {
     "data": {
      "text/plain": [
       "0.014960774148855138"
      ]
     },
     "execution_count": 100,
     "metadata": {},
     "output_type": "execute_result"
    }
   ],
   "source": [
    "arr16.mean()"
   ]
  },
  {
   "cell_type": "code",
   "execution_count": 101,
   "id": "f61b3fb9",
   "metadata": {},
   "outputs": [
    {
     "data": {
      "text/plain": [
       "0.014960774148855138"
      ]
     },
     "execution_count": 101,
     "metadata": {},
     "output_type": "execute_result"
    }
   ],
   "source": [
    "np.mean(arr16)"
   ]
  },
  {
   "cell_type": "code",
   "execution_count": 102,
   "id": "69a9edf1",
   "metadata": {},
   "outputs": [
    {
     "data": {
      "text/plain": [
       "0.29921548297710276"
      ]
     },
     "execution_count": 102,
     "metadata": {},
     "output_type": "execute_result"
    }
   ],
   "source": [
    "arr16.sum()"
   ]
  },
  {
   "cell_type": "code",
   "execution_count": 103,
   "id": "2d6616e3",
   "metadata": {},
   "outputs": [
    {
     "data": {
      "text/plain": [
       "array([ 0.15814127,  0.91048393, -0.22813785,  0.29332205, -1.05900553])"
      ]
     },
     "execution_count": 103,
     "metadata": {},
     "output_type": "execute_result"
    }
   ],
   "source": [
    "# Functions like mean and sum take an optional axis argument that computes the statistic over the given axis, resulting in an array with one less dimension:\n",
    "# compute mean across the columns\n",
    "arr16.mean(axis=1)"
   ]
  },
  {
   "cell_type": "code",
   "execution_count": 104,
   "id": "fd15075f",
   "metadata": {},
   "outputs": [
    {
     "data": {
      "text/plain": [
       "array([ 0.24961019,  1.72200099, -1.31209653, -0.36029916])"
      ]
     },
     "execution_count": 104,
     "metadata": {},
     "output_type": "execute_result"
    }
   ],
   "source": [
    "# compute sum down the rows\n",
    "arr16.sum(axis=0)"
   ]
  },
  {
   "cell_type": "code",
   "execution_count": 105,
   "id": "60bb3cfe",
   "metadata": {},
   "outputs": [
    {
     "data": {
      "text/plain": [
       "array([0, 1, 2, 3, 4, 5, 6, 7, 8, 9])"
      ]
     },
     "execution_count": 105,
     "metadata": {},
     "output_type": "execute_result"
    }
   ],
   "source": [
    "# Other methods like cumsum and cumprod do not aggregate, instead producing an array of the intermediate results:\n",
    "arr14"
   ]
  },
  {
   "cell_type": "code",
   "execution_count": 106,
   "id": "0eba5bf3",
   "metadata": {},
   "outputs": [
    {
     "data": {
      "text/plain": [
       "array([ 0,  1,  3,  6, 10, 15, 21, 28, 36, 45])"
      ]
     },
     "execution_count": 106,
     "metadata": {},
     "output_type": "execute_result"
    }
   ],
   "source": [
    "arr14.cumsum()"
   ]
  },
  {
   "cell_type": "code",
   "execution_count": 107,
   "id": "69a03882",
   "metadata": {},
   "outputs": [
    {
     "data": {
      "text/plain": [
       "array([[ 0.5975821 ,  0.28150336,  0.66070948, -0.90722986],\n",
       "       [ 0.29648779,  2.08491398,  2.05195228, -0.15885324],\n",
       "       [ 0.35492485,  2.40432097,  0.48120833,  0.12149527],\n",
       "       [ 0.87873337,  4.14144417, -0.7058063 ,  0.22086637],\n",
       "       [ 0.24961019,  1.72200099, -1.31209653, -0.36029916]])"
      ]
     },
     "execution_count": 107,
     "metadata": {},
     "output_type": "execute_result"
    }
   ],
   "source": [
    "arr16.cumsum(axis=0) # computes along rows"
   ]
  },
  {
   "cell_type": "code",
   "execution_count": 108,
   "id": "a0957c98",
   "metadata": {},
   "outputs": [
    {
     "data": {
      "text/plain": [
       "array([[ 0.5975821 ,  0.87908546,  1.53979494,  0.63256508],\n",
       "       [-0.3010943 ,  1.50231632,  2.89355912,  3.64193574],\n",
       "       [ 0.05843706,  0.37784405, -1.19289991, -0.91255139],\n",
       "       [ 0.52380852,  2.26093172,  1.07391709,  1.17328819],\n",
       "       [-0.62912318, -3.04856636, -3.65485659, -4.23602213]])"
      ]
     },
     "execution_count": 108,
     "metadata": {},
     "output_type": "execute_result"
    }
   ],
   "source": [
    "arr16.cumsum(axis=1) # computes along columns"
   ]
  },
  {
   "cell_type": "markdown",
   "id": "1ecf2fc4",
   "metadata": {},
   "source": [
    "## 15. Methods for boolean arrays <a class=\"anchor\" id=\"bullet15\"></a>"
   ]
  },
  {
   "cell_type": "markdown",
   "id": "86c65376",
   "metadata": {},
   "source": [
    "Boolean values are coerced to 1 (True) and 0 (False) in the preceding methods. Thus, sum is often used as a means of counting True values in a Boolean array:"
   ]
  },
  {
   "cell_type": "code",
   "execution_count": 109,
   "id": "47e5df97",
   "metadata": {},
   "outputs": [
    {
     "data": {
      "text/plain": [
       "array([ 0.23854279, -1.30910132, -1.15414648, -2.77686265, -0.6081114 ,\n",
       "        0.42628168,  0.66712198,  1.61995501, -1.19303883,  2.20230492,\n",
       "       -0.34297596, -1.14458212, -0.50349797,  1.00770884, -0.42501925,\n",
       "        1.53495065, -0.94101425, -1.12659376,  0.40537201, -0.78479566,\n",
       "       -0.6799847 , -0.86774519, -0.73035331,  0.01206533,  0.2021479 ,\n",
       "       -0.38527559, -1.68006465,  0.17927304,  1.90459605, -0.02415435,\n",
       "       -2.97610024,  0.76488787,  0.5578629 ,  0.46353059,  0.14302605,\n",
       "       -0.59959207,  0.13155518, -0.17592927,  1.13342691, -0.72334268,\n",
       "        1.12808542,  1.3926541 , -1.46715074, -1.07613555, -0.52978731,\n",
       "       -1.89867968, -0.3958222 , -1.52575667,  0.02016304,  1.07301681,\n",
       "        0.2638599 , -0.29240348, -0.29512487,  0.13702597,  0.02395526,\n",
       "       -1.458959  ,  1.14139075, -0.26686555, -0.36662851,  0.43288428,\n",
       "        0.00828527, -0.37618658, -0.2869308 , -0.69655434, -0.23958752,\n",
       "        0.60002437,  0.43308239, -0.36574687, -0.02459358,  0.55767789,\n",
       "        0.80465565, -0.58493921, -1.01720722,  0.98286709, -0.14127812,\n",
       "       -0.96251228,  0.58130876, -1.1694819 , -0.47221718,  0.47231601,\n",
       "        0.89145097,  0.50226999, -0.67493148, -0.84508245, -0.42608171,\n",
       "       -2.16996618, -0.26330948,  0.60181357, -0.6737587 , -0.4865761 ,\n",
       "       -0.84116304, -0.97301269,  1.03336478, -0.83422598,  0.07998568,\n",
       "        1.45015077, -0.36150438, -1.4619525 ,  0.2465964 , -0.25464264])"
      ]
     },
     "execution_count": 109,
     "metadata": {},
     "output_type": "execute_result"
    }
   ],
   "source": [
    "arr17 = rng.standard_normal(100)\n",
    "arr17"
   ]
  },
  {
   "cell_type": "code",
   "execution_count": 110,
   "id": "e6c47327",
   "metadata": {},
   "outputs": [
    {
     "data": {
      "text/plain": [
       "42"
      ]
     },
     "execution_count": 110,
     "metadata": {},
     "output_type": "execute_result"
    }
   ],
   "source": [
    "(arr17 > 0).sum() # Number of positive values"
   ]
  },
  {
   "cell_type": "code",
   "execution_count": 111,
   "id": "9c920838",
   "metadata": {},
   "outputs": [
    {
     "data": {
      "text/plain": [
       "58"
      ]
     },
     "execution_count": 111,
     "metadata": {},
     "output_type": "execute_result"
    }
   ],
   "source": [
    "(arr17 <= 0).sum() # Number of non-positive values"
   ]
  },
  {
   "cell_type": "markdown",
   "id": "0184a7e5",
   "metadata": {},
   "source": [
    "Two additional methods, any and all, are useful especially for Boolean arrays. any tests whether one or more values in an array is True, while all checks if every value is True:"
   ]
  },
  {
   "cell_type": "code",
   "execution_count": 112,
   "id": "14303169",
   "metadata": {},
   "outputs": [
    {
     "name": "stdout",
     "output_type": "stream",
     "text": [
      "True\n"
     ]
    },
    {
     "data": {
      "text/plain": [
       "False"
      ]
     },
     "execution_count": 112,
     "metadata": {},
     "output_type": "execute_result"
    }
   ],
   "source": [
    "bools = np.array([False, False, True, False])\n",
    "\n",
    "print(bools.any())\n",
    "bools.all()"
   ]
  },
  {
   "cell_type": "markdown",
   "id": "2a65187e",
   "metadata": {},
   "source": [
    "These methods also work with non-Boolean arrays, where nonzero elements are treated as True."
   ]
  },
  {
   "cell_type": "markdown",
   "id": "be00ad88",
   "metadata": {},
   "source": [
    "## 16. Sorting <a class=\"anchor\" id=\"bullet16\"></a>"
   ]
  },
  {
   "cell_type": "code",
   "execution_count": 113,
   "id": "8b4fc31f",
   "metadata": {},
   "outputs": [
    {
     "data": {
      "text/plain": [
       "array([ 0.5872965 ,  1.46189064, -0.26993541,  1.51737643, -0.91751874,\n",
       "       -0.69139623])"
      ]
     },
     "execution_count": 113,
     "metadata": {},
     "output_type": "execute_result"
    }
   ],
   "source": [
    "arr18 = rng.standard_normal(6)\n",
    "arr18"
   ]
  },
  {
   "cell_type": "code",
   "execution_count": 114,
   "id": "a3a65a0a",
   "metadata": {},
   "outputs": [
    {
     "data": {
      "text/plain": [
       "array([-0.91751874, -0.69139623, -0.26993541,  0.5872965 ,  1.46189064,\n",
       "        1.51737643])"
      ]
     },
     "execution_count": 114,
     "metadata": {},
     "output_type": "execute_result"
    }
   ],
   "source": [
    "arr18.sort()\n",
    "arr18"
   ]
  },
  {
   "cell_type": "code",
   "execution_count": 115,
   "id": "69189c2c",
   "metadata": {},
   "outputs": [
    {
     "data": {
      "text/plain": [
       "array([[ 1.37613133, -0.4740934 , -0.39577908],\n",
       "       [-0.65298439,  2.02218852, -0.07984649],\n",
       "       [-0.95380272,  0.05534965,  0.0057336 ],\n",
       "       [-0.41212907,  0.59028033, -0.42022751],\n",
       "       [ 2.1818843 ,  0.37009795, -1.80932207]])"
      ]
     },
     "execution_count": 115,
     "metadata": {},
     "output_type": "execute_result"
    }
   ],
   "source": [
    "# multidimensional sorting\n",
    "arr19 = rng.standard_normal((5, 3))\n",
    "arr19"
   ]
  },
  {
   "cell_type": "code",
   "execution_count": 116,
   "id": "98ba0262",
   "metadata": {},
   "outputs": [
    {
     "data": {
      "text/plain": [
       "array([[-0.95380272, -0.4740934 , -1.80932207],\n",
       "       [-0.65298439,  0.05534965, -0.42022751],\n",
       "       [-0.41212907,  0.37009795, -0.39577908],\n",
       "       [ 1.37613133,  0.59028033, -0.07984649],\n",
       "       [ 2.1818843 ,  2.02218852,  0.0057336 ]])"
      ]
     },
     "execution_count": 116,
     "metadata": {},
     "output_type": "execute_result"
    }
   ],
   "source": [
    "arr19.sort(axis=0) # sort within each column\n",
    "arr19"
   ]
  },
  {
   "cell_type": "code",
   "execution_count": 117,
   "id": "f53f8dd7",
   "metadata": {},
   "outputs": [
    {
     "data": {
      "text/plain": [
       "array([[-1.80932207, -0.95380272, -0.4740934 ],\n",
       "       [-0.65298439, -0.42022751,  0.05534965],\n",
       "       [-0.41212907, -0.39577908,  0.37009795],\n",
       "       [-0.07984649,  0.59028033,  1.37613133],\n",
       "       [ 0.0057336 ,  2.02218852,  2.1818843 ]])"
      ]
     },
     "execution_count": 117,
     "metadata": {},
     "output_type": "execute_result"
    }
   ],
   "source": [
    "arr19.sort(axis=1) # sort across each row\n",
    "arr19"
   ]
  },
  {
   "cell_type": "markdown",
   "id": "28734031",
   "metadata": {},
   "source": [
    "The top-level method numpy.sort returns a sorted copy of an array (like the Python built-in function sorted) instead of modifying the array in place. For example:"
   ]
  },
  {
   "cell_type": "code",
   "execution_count": 118,
   "id": "682777fb",
   "metadata": {},
   "outputs": [
    {
     "data": {
      "text/plain": [
       "array([  5, -10,   7,   1,   0,  -3])"
      ]
     },
     "execution_count": 118,
     "metadata": {},
     "output_type": "execute_result"
    }
   ],
   "source": [
    "arr20 = np.array([5, -10, 7, 1, 0, -3])\n",
    "arr20"
   ]
  },
  {
   "cell_type": "code",
   "execution_count": 119,
   "id": "fb13a286",
   "metadata": {},
   "outputs": [
    {
     "data": {
      "text/plain": [
       "array([-10,  -3,   0,   1,   5,   7])"
      ]
     },
     "execution_count": 119,
     "metadata": {},
     "output_type": "execute_result"
    }
   ],
   "source": [
    "sorted_arr20 = np.sort(arr20)\n",
    "sorted_arr20"
   ]
  },
  {
   "cell_type": "markdown",
   "id": "a97cba18",
   "metadata": {},
   "source": [
    "## 17. Unique <a class=\"anchor\" id=\"bullet17\"></a>"
   ]
  },
  {
   "cell_type": "code",
   "execution_count": 120,
   "id": "ab20a283",
   "metadata": {},
   "outputs": [
    {
     "data": {
      "text/plain": [
       "array(['Bob', 'Joe', 'Will', 'Bob', 'Will', 'Joe', 'Joe'], dtype='<U4')"
      ]
     },
     "execution_count": 120,
     "metadata": {},
     "output_type": "execute_result"
    }
   ],
   "source": [
    "names"
   ]
  },
  {
   "cell_type": "code",
   "execution_count": 121,
   "id": "4c14f02c",
   "metadata": {},
   "outputs": [
    {
     "data": {
      "text/plain": [
       "array(['Bob', 'Joe', 'Will'], dtype='<U4')"
      ]
     },
     "execution_count": 121,
     "metadata": {},
     "output_type": "execute_result"
    }
   ],
   "source": [
    "np.unique(names)"
   ]
  },
  {
   "cell_type": "code",
   "execution_count": 122,
   "id": "a6ab2fdc",
   "metadata": {},
   "outputs": [],
   "source": [
    "ints = np.array([3, 3, 3, 2, 2, 1, 1, 4, 4])"
   ]
  },
  {
   "cell_type": "code",
   "execution_count": 123,
   "id": "28ecad87",
   "metadata": {},
   "outputs": [
    {
     "data": {
      "text/plain": [
       "array([1, 2, 3, 4])"
      ]
     },
     "execution_count": 123,
     "metadata": {},
     "output_type": "execute_result"
    }
   ],
   "source": [
    "np.unique(ints)"
   ]
  },
  {
   "cell_type": "code",
   "execution_count": 124,
   "id": "56af9aac",
   "metadata": {},
   "outputs": [
    {
     "data": {
      "text/plain": [
       "['Bob', 'Joe', 'Will']"
      ]
     },
     "execution_count": 124,
     "metadata": {},
     "output_type": "execute_result"
    }
   ],
   "source": [
    "# pure python alternative:\n",
    "sorted(set(names))"
   ]
  },
  {
   "cell_type": "markdown",
   "id": "2407e03d",
   "metadata": {},
   "source": [
    "Another function, numpy.in1d, tests membership of the values in one array in another, returning a Boolean array:"
   ]
  },
  {
   "cell_type": "code",
   "execution_count": 125,
   "id": "55a893dd",
   "metadata": {},
   "outputs": [
    {
     "data": {
      "text/plain": [
       "array([6, 0, 0, 3, 2, 5, 6])"
      ]
     },
     "execution_count": 125,
     "metadata": {},
     "output_type": "execute_result"
    }
   ],
   "source": [
    "values = np.array([6, 0, 0, 3, 2, 5, 6])\n",
    "values"
   ]
  },
  {
   "cell_type": "code",
   "execution_count": 126,
   "id": "5c957ac1",
   "metadata": {},
   "outputs": [
    {
     "data": {
      "text/plain": [
       "array([ True, False, False,  True,  True, False,  True])"
      ]
     },
     "execution_count": 126,
     "metadata": {},
     "output_type": "execute_result"
    }
   ],
   "source": [
    "np.in1d(values, [2, 3, 6])"
   ]
  },
  {
   "cell_type": "markdown",
   "id": "09ee6837",
   "metadata": {},
   "source": [
    "## 18. Linear Algebra <a class=\"anchor\" id=\"bullet18\"></a>"
   ]
  },
  {
   "cell_type": "code",
   "execution_count": 127,
   "id": "631e35fb",
   "metadata": {},
   "outputs": [
    {
     "data": {
      "text/plain": [
       "array([[1., 2., 3.],\n",
       "       [4., 5., 6.]])"
      ]
     },
     "execution_count": 127,
     "metadata": {},
     "output_type": "execute_result"
    }
   ],
   "source": [
    "x = np.array([[1., 2., 3.], [4., 5., 6.]])\n",
    "x"
   ]
  },
  {
   "cell_type": "code",
   "execution_count": 128,
   "id": "b73250f5",
   "metadata": {},
   "outputs": [
    {
     "data": {
      "text/plain": [
       "array([[ 6., 23.],\n",
       "       [-1.,  7.],\n",
       "       [ 8.,  9.]])"
      ]
     },
     "execution_count": 128,
     "metadata": {},
     "output_type": "execute_result"
    }
   ],
   "source": [
    "y = np.array([[6., 23.], [-1, 7], [8, 9]])\n",
    "y"
   ]
  },
  {
   "cell_type": "code",
   "execution_count": 129,
   "id": "10966b7e",
   "metadata": {},
   "outputs": [
    {
     "data": {
      "text/plain": [
       "array([[ 28.,  64.],\n",
       "       [ 67., 181.]])"
      ]
     },
     "execution_count": 129,
     "metadata": {},
     "output_type": "execute_result"
    }
   ],
   "source": [
    "x.dot(y) # == np.dot(x, y)"
   ]
  },
  {
   "cell_type": "code",
   "execution_count": 130,
   "id": "6f1d8c77",
   "metadata": {},
   "outputs": [
    {
     "data": {
      "text/plain": [
       "array([[-0.99964764,  0.27121979,  0.2615495 , -0.40614748,  0.29957505],\n",
       "       [-1.03007853,  0.02724933,  0.07251864,  0.8134973 ,  0.22825615],\n",
       "       [ 0.6629406 , -0.67142736, -1.38924924,  0.3837671 ,  0.26852461],\n",
       "       [ 0.90694772,  0.37393356,  0.30201629,  0.63940787, -0.21934853],\n",
       "       [-0.53134316,  0.32450794,  0.22476238,  1.14858811, -0.90642337]])"
      ]
     },
     "execution_count": 130,
     "metadata": {},
     "output_type": "execute_result"
    }
   ],
   "source": [
    "# importing inverse and determinant functions\n",
    "from numpy.linalg import inv, qr\n",
    "\n",
    "X = rng.standard_normal((5, 5))\n",
    "X"
   ]
  },
  {
   "cell_type": "code",
   "execution_count": 131,
   "id": "ec0bb752",
   "metadata": {},
   "outputs": [
    {
     "data": {
      "text/plain": [
       "array([[ 3.60472713, -0.57759652, -1.10265992, -0.20793187, -0.07389119],\n",
       "       [-0.57759652,  0.77024912,  1.19156465,  0.26616231, -0.46898762],\n",
       "       [-1.10265992,  1.19156465,  2.14541252, -0.12911111, -0.54811779],\n",
       "       [-0.20793187,  0.26616231, -0.12911111,  2.70210789, -1.01429526],\n",
       "       [-0.07389119, -0.46898762, -0.54811779, -1.01429526,  1.08366865]])"
      ]
     },
     "execution_count": 131,
     "metadata": {},
     "output_type": "execute_result"
    }
   ],
   "source": [
    "mat = X.T @ X\n",
    "mat"
   ]
  },
  {
   "cell_type": "code",
   "execution_count": 132,
   "id": "28d17fe5",
   "metadata": {},
   "outputs": [
    {
     "data": {
      "text/plain": [
       "array([[ 0.38667244, -0.24513565,  0.42776131,  0.19367725,  0.31791599],\n",
       "       [-0.24513565, 15.77424496, -8.79399367, -1.70536966,  0.76584258],\n",
       "       [ 0.42776131, -8.79399367,  5.73630021,  1.3021957 ,  0.34356692],\n",
       "       [ 0.19367725, -1.70536966,  1.3021957 ,  0.91009652,  0.78564327],\n",
       "       [ 0.31791599,  0.76584258,  0.34356692,  0.78564327,  2.18503254]])"
      ]
     },
     "execution_count": 132,
     "metadata": {},
     "output_type": "execute_result"
    }
   ],
   "source": [
    "inv(mat)"
   ]
  },
  {
   "cell_type": "code",
   "execution_count": 133,
   "id": "60303de9",
   "metadata": {},
   "outputs": [
    {
     "data": {
      "text/plain": [
       "array([[ 1.00000000e+00, -5.27873423e-16,  1.40302242e-15,\n",
       "         1.36483996e-16, -8.02717149e-17],\n",
       "       [-1.68290081e-17,  1.00000000e+00,  2.28740480e-15,\n",
       "         6.69834089e-16,  9.88953104e-17],\n",
       "       [-2.01295638e-16,  2.28041497e-15,  1.00000000e+00,\n",
       "         5.46098920e-18,  2.28282174e-16],\n",
       "       [-6.77078316e-17,  1.81425617e-15, -2.68022934e-16,\n",
       "         1.00000000e+00,  2.81700605e-17],\n",
       "       [ 4.56108311e-17, -1.63053403e-15,  4.38489629e-16,\n",
       "         6.07017299e-17,  1.00000000e+00]])"
      ]
     },
     "execution_count": 133,
     "metadata": {},
     "output_type": "execute_result"
    }
   ],
   "source": [
    "mat @ inv(mat)"
   ]
  },
  {
   "cell_type": "code",
   "execution_count": 134,
   "id": "c88b86db",
   "metadata": {},
   "outputs": [],
   "source": [
    "# and more... refer back to Mckinney for a complete list"
   ]
  },
  {
   "cell_type": "code",
   "execution_count": null,
   "id": "2af2b17e",
   "metadata": {},
   "outputs": [],
   "source": []
  }
 ],
 "metadata": {
  "kernelspec": {
   "display_name": "Python 3 (ipykernel)",
   "language": "python",
   "name": "python3"
  },
  "language_info": {
   "codemirror_mode": {
    "name": "ipython",
    "version": 3
   },
   "file_extension": ".py",
   "mimetype": "text/x-python",
   "name": "python",
   "nbconvert_exporter": "python",
   "pygments_lexer": "ipython3",
   "version": "3.10.8"
  }
 },
 "nbformat": 4,
 "nbformat_minor": 5
}
